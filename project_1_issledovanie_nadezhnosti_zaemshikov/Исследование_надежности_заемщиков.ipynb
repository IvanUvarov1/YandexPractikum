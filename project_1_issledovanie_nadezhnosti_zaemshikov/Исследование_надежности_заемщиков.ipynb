{
 "cells": [
  {
   "cell_type": "markdown",
   "metadata": {},
   "source": [
    "## Исследование надёжности заёмщиков\n",
    "\n",
    "Заказчик — кредитный отдел банка. Нужно разобраться, влияет ли семейное положение и количество детей клиента на факт погашения кредита в срок. Входные данные от банка — статистика о платёжеспособности клиентов.\n",
    "\n",
    "Результаты исследования будут учтены при построении модели **кредитного скоринга** — специальной системы, которая оценивает способность потенциального заёмщика вернуть кредит банку."
   ]
  },
  {
   "cell_type": "markdown",
   "metadata": {},
   "source": [
    "### Шаг 1. Откройте файл с данными и изучите общую информацию. "
   ]
  },
  {
   "cell_type": "code",
   "execution_count": 2,
   "metadata": {
    "scrolled": true
   },
   "outputs": [],
   "source": [
    "import pandas as pd\n",
    "import math\n",
    "from pymystem3 import Mystem"
   ]
  },
  {
   "cell_type": "code",
   "execution_count": 3,
   "metadata": {},
   "outputs": [
    {
     "data": {
      "text/html": [
       "<div>\n",
       "<style scoped>\n",
       "    .dataframe tbody tr th:only-of-type {\n",
       "        vertical-align: middle;\n",
       "    }\n",
       "\n",
       "    .dataframe tbody tr th {\n",
       "        vertical-align: top;\n",
       "    }\n",
       "\n",
       "    .dataframe thead th {\n",
       "        text-align: right;\n",
       "    }\n",
       "</style>\n",
       "<table border=\"1\" class=\"dataframe\">\n",
       "  <thead>\n",
       "    <tr style=\"text-align: right;\">\n",
       "      <th></th>\n",
       "      <th>children</th>\n",
       "      <th>days_employed</th>\n",
       "      <th>dob_years</th>\n",
       "      <th>education</th>\n",
       "      <th>education_id</th>\n",
       "      <th>family_status</th>\n",
       "      <th>family_status_id</th>\n",
       "      <th>gender</th>\n",
       "      <th>income_type</th>\n",
       "      <th>debt</th>\n",
       "      <th>total_income</th>\n",
       "      <th>purpose</th>\n",
       "    </tr>\n",
       "  </thead>\n",
       "  <tbody>\n",
       "    <tr>\n",
       "      <td>0</td>\n",
       "      <td>1</td>\n",
       "      <td>-8437.673028</td>\n",
       "      <td>42</td>\n",
       "      <td>высшее</td>\n",
       "      <td>0</td>\n",
       "      <td>женат / замужем</td>\n",
       "      <td>0</td>\n",
       "      <td>F</td>\n",
       "      <td>сотрудник</td>\n",
       "      <td>0</td>\n",
       "      <td>253875.639453</td>\n",
       "      <td>покупка жилья</td>\n",
       "    </tr>\n",
       "    <tr>\n",
       "      <td>1</td>\n",
       "      <td>1</td>\n",
       "      <td>-4024.803754</td>\n",
       "      <td>36</td>\n",
       "      <td>среднее</td>\n",
       "      <td>1</td>\n",
       "      <td>женат / замужем</td>\n",
       "      <td>0</td>\n",
       "      <td>F</td>\n",
       "      <td>сотрудник</td>\n",
       "      <td>0</td>\n",
       "      <td>112080.014102</td>\n",
       "      <td>приобретение автомобиля</td>\n",
       "    </tr>\n",
       "    <tr>\n",
       "      <td>2</td>\n",
       "      <td>0</td>\n",
       "      <td>-5623.422610</td>\n",
       "      <td>33</td>\n",
       "      <td>Среднее</td>\n",
       "      <td>1</td>\n",
       "      <td>женат / замужем</td>\n",
       "      <td>0</td>\n",
       "      <td>M</td>\n",
       "      <td>сотрудник</td>\n",
       "      <td>0</td>\n",
       "      <td>145885.952297</td>\n",
       "      <td>покупка жилья</td>\n",
       "    </tr>\n",
       "    <tr>\n",
       "      <td>3</td>\n",
       "      <td>3</td>\n",
       "      <td>-4124.747207</td>\n",
       "      <td>32</td>\n",
       "      <td>среднее</td>\n",
       "      <td>1</td>\n",
       "      <td>женат / замужем</td>\n",
       "      <td>0</td>\n",
       "      <td>M</td>\n",
       "      <td>сотрудник</td>\n",
       "      <td>0</td>\n",
       "      <td>267628.550329</td>\n",
       "      <td>дополнительное образование</td>\n",
       "    </tr>\n",
       "    <tr>\n",
       "      <td>4</td>\n",
       "      <td>0</td>\n",
       "      <td>340266.072047</td>\n",
       "      <td>53</td>\n",
       "      <td>среднее</td>\n",
       "      <td>1</td>\n",
       "      <td>гражданский брак</td>\n",
       "      <td>1</td>\n",
       "      <td>F</td>\n",
       "      <td>пенсионер</td>\n",
       "      <td>0</td>\n",
       "      <td>158616.077870</td>\n",
       "      <td>сыграть свадьбу</td>\n",
       "    </tr>\n",
       "    <tr>\n",
       "      <td>5</td>\n",
       "      <td>0</td>\n",
       "      <td>-926.185831</td>\n",
       "      <td>27</td>\n",
       "      <td>высшее</td>\n",
       "      <td>0</td>\n",
       "      <td>гражданский брак</td>\n",
       "      <td>1</td>\n",
       "      <td>M</td>\n",
       "      <td>компаньон</td>\n",
       "      <td>0</td>\n",
       "      <td>255763.565419</td>\n",
       "      <td>покупка жилья</td>\n",
       "    </tr>\n",
       "    <tr>\n",
       "      <td>6</td>\n",
       "      <td>0</td>\n",
       "      <td>-2879.202052</td>\n",
       "      <td>43</td>\n",
       "      <td>высшее</td>\n",
       "      <td>0</td>\n",
       "      <td>женат / замужем</td>\n",
       "      <td>0</td>\n",
       "      <td>F</td>\n",
       "      <td>компаньон</td>\n",
       "      <td>0</td>\n",
       "      <td>240525.971920</td>\n",
       "      <td>операции с жильем</td>\n",
       "    </tr>\n",
       "    <tr>\n",
       "      <td>7</td>\n",
       "      <td>0</td>\n",
       "      <td>-152.779569</td>\n",
       "      <td>50</td>\n",
       "      <td>СРЕДНЕЕ</td>\n",
       "      <td>1</td>\n",
       "      <td>женат / замужем</td>\n",
       "      <td>0</td>\n",
       "      <td>M</td>\n",
       "      <td>сотрудник</td>\n",
       "      <td>0</td>\n",
       "      <td>135823.934197</td>\n",
       "      <td>образование</td>\n",
       "    </tr>\n",
       "    <tr>\n",
       "      <td>8</td>\n",
       "      <td>2</td>\n",
       "      <td>-6929.865299</td>\n",
       "      <td>35</td>\n",
       "      <td>ВЫСШЕЕ</td>\n",
       "      <td>0</td>\n",
       "      <td>гражданский брак</td>\n",
       "      <td>1</td>\n",
       "      <td>F</td>\n",
       "      <td>сотрудник</td>\n",
       "      <td>0</td>\n",
       "      <td>95856.832424</td>\n",
       "      <td>на проведение свадьбы</td>\n",
       "    </tr>\n",
       "    <tr>\n",
       "      <td>9</td>\n",
       "      <td>0</td>\n",
       "      <td>-2188.756445</td>\n",
       "      <td>41</td>\n",
       "      <td>среднее</td>\n",
       "      <td>1</td>\n",
       "      <td>женат / замужем</td>\n",
       "      <td>0</td>\n",
       "      <td>M</td>\n",
       "      <td>сотрудник</td>\n",
       "      <td>0</td>\n",
       "      <td>144425.938277</td>\n",
       "      <td>покупка жилья для семьи</td>\n",
       "    </tr>\n",
       "  </tbody>\n",
       "</table>\n",
       "</div>"
      ],
      "text/plain": [
       "   children  days_employed  dob_years education  education_id  \\\n",
       "0         1   -8437.673028         42    высшее             0   \n",
       "1         1   -4024.803754         36   среднее             1   \n",
       "2         0   -5623.422610         33   Среднее             1   \n",
       "3         3   -4124.747207         32   среднее             1   \n",
       "4         0  340266.072047         53   среднее             1   \n",
       "5         0    -926.185831         27    высшее             0   \n",
       "6         0   -2879.202052         43    высшее             0   \n",
       "7         0    -152.779569         50   СРЕДНЕЕ             1   \n",
       "8         2   -6929.865299         35    ВЫСШЕЕ             0   \n",
       "9         0   -2188.756445         41   среднее             1   \n",
       "\n",
       "      family_status  family_status_id gender income_type  debt   total_income  \\\n",
       "0   женат / замужем                 0      F   сотрудник     0  253875.639453   \n",
       "1   женат / замужем                 0      F   сотрудник     0  112080.014102   \n",
       "2   женат / замужем                 0      M   сотрудник     0  145885.952297   \n",
       "3   женат / замужем                 0      M   сотрудник     0  267628.550329   \n",
       "4  гражданский брак                 1      F   пенсионер     0  158616.077870   \n",
       "5  гражданский брак                 1      M   компаньон     0  255763.565419   \n",
       "6   женат / замужем                 0      F   компаньон     0  240525.971920   \n",
       "7   женат / замужем                 0      M   сотрудник     0  135823.934197   \n",
       "8  гражданский брак                 1      F   сотрудник     0   95856.832424   \n",
       "9   женат / замужем                 0      M   сотрудник     0  144425.938277   \n",
       "\n",
       "                      purpose  \n",
       "0               покупка жилья  \n",
       "1     приобретение автомобиля  \n",
       "2               покупка жилья  \n",
       "3  дополнительное образование  \n",
       "4             сыграть свадьбу  \n",
       "5               покупка жилья  \n",
       "6           операции с жильем  \n",
       "7                 образование  \n",
       "8       на проведение свадьбы  \n",
       "9     покупка жилья для семьи  "
      ]
     },
     "execution_count": 3,
     "metadata": {},
     "output_type": "execute_result"
    }
   ],
   "source": [
    "bank = pd.read_csv('/datasets/data.csv')\n",
    "bank.head(10)"
   ]
  },
  {
   "cell_type": "code",
   "execution_count": 4,
   "metadata": {},
   "outputs": [
    {
     "name": "stdout",
     "output_type": "stream",
     "text": [
      "<class 'pandas.core.frame.DataFrame'>\n",
      "RangeIndex: 21525 entries, 0 to 21524\n",
      "Data columns (total 12 columns):\n",
      "children            21525 non-null int64\n",
      "days_employed       19351 non-null float64\n",
      "dob_years           21525 non-null int64\n",
      "education           21525 non-null object\n",
      "education_id        21525 non-null int64\n",
      "family_status       21525 non-null object\n",
      "family_status_id    21525 non-null int64\n",
      "gender              21525 non-null object\n",
      "income_type         21525 non-null object\n",
      "debt                21525 non-null int64\n",
      "total_income        19351 non-null float64\n",
      "purpose             21525 non-null object\n",
      "dtypes: float64(2), int64(5), object(5)\n",
      "memory usage: 2.0+ MB\n"
     ]
    }
   ],
   "source": [
    "bank.info()"
   ]
  },
  {
   "cell_type": "markdown",
   "metadata": {},
   "source": [
    "В общей информации о нашем датафрейме можно увидеть, что в столбцах `days_employed` и `total_income` есть пропущенные значения, причем их количество одинаковое. Вероятно, пропуски значений в этих столбцах связаны между собой."
   ]
  },
  {
   "cell_type": "markdown",
   "metadata": {},
   "source": [
    "Также бросается в глаза отрицательное и дробное значение трудового стажа для не пенсионеров и огромные значения стажа для пенсионеров. Эти значения отличаются возможно из - за того, что они берутся из разных источников. Не пенсионеры предоставляют справки о доходах самостоятельно, в то время когда информацию о пенсионерах запрашивают из пенсионного фонда.\n",
    "Сами пропуски могут быть связаны со сбоем в передаче данных из пенсионного фонда либо непредоставлением справки у не пенсионеров."
   ]
  },
  {
   "cell_type": "code",
   "execution_count": 5,
   "metadata": {},
   "outputs": [
    {
     "data": {
      "text/html": [
       "<div>\n",
       "<style scoped>\n",
       "    .dataframe tbody tr th:only-of-type {\n",
       "        vertical-align: middle;\n",
       "    }\n",
       "\n",
       "    .dataframe tbody tr th {\n",
       "        vertical-align: top;\n",
       "    }\n",
       "\n",
       "    .dataframe thead th {\n",
       "        text-align: right;\n",
       "    }\n",
       "</style>\n",
       "<table border=\"1\" class=\"dataframe\">\n",
       "  <thead>\n",
       "    <tr style=\"text-align: right;\">\n",
       "      <th></th>\n",
       "      <th>children</th>\n",
       "      <th>days_employed</th>\n",
       "      <th>dob_years</th>\n",
       "      <th>education</th>\n",
       "      <th>education_id</th>\n",
       "      <th>family_status</th>\n",
       "      <th>family_status_id</th>\n",
       "      <th>gender</th>\n",
       "      <th>income_type</th>\n",
       "      <th>debt</th>\n",
       "      <th>total_income</th>\n",
       "      <th>purpose</th>\n",
       "    </tr>\n",
       "  </thead>\n",
       "  <tbody>\n",
       "    <tr>\n",
       "      <td>4</td>\n",
       "      <td>0</td>\n",
       "      <td>340266.072047</td>\n",
       "      <td>53</td>\n",
       "      <td>среднее</td>\n",
       "      <td>1</td>\n",
       "      <td>гражданский брак</td>\n",
       "      <td>1</td>\n",
       "      <td>F</td>\n",
       "      <td>пенсионер</td>\n",
       "      <td>0</td>\n",
       "      <td>158616.077870</td>\n",
       "      <td>сыграть свадьбу</td>\n",
       "    </tr>\n",
       "    <tr>\n",
       "      <td>12</td>\n",
       "      <td>0</td>\n",
       "      <td>NaN</td>\n",
       "      <td>65</td>\n",
       "      <td>среднее</td>\n",
       "      <td>1</td>\n",
       "      <td>гражданский брак</td>\n",
       "      <td>1</td>\n",
       "      <td>M</td>\n",
       "      <td>пенсионер</td>\n",
       "      <td>0</td>\n",
       "      <td>NaN</td>\n",
       "      <td>сыграть свадьбу</td>\n",
       "    </tr>\n",
       "    <tr>\n",
       "      <td>18</td>\n",
       "      <td>0</td>\n",
       "      <td>400281.136913</td>\n",
       "      <td>53</td>\n",
       "      <td>среднее</td>\n",
       "      <td>1</td>\n",
       "      <td>вдовец / вдова</td>\n",
       "      <td>2</td>\n",
       "      <td>F</td>\n",
       "      <td>пенсионер</td>\n",
       "      <td>0</td>\n",
       "      <td>56823.777243</td>\n",
       "      <td>на покупку подержанного автомобиля</td>\n",
       "    </tr>\n",
       "    <tr>\n",
       "      <td>24</td>\n",
       "      <td>1</td>\n",
       "      <td>338551.952911</td>\n",
       "      <td>57</td>\n",
       "      <td>среднее</td>\n",
       "      <td>1</td>\n",
       "      <td>Не женат / не замужем</td>\n",
       "      <td>4</td>\n",
       "      <td>F</td>\n",
       "      <td>пенсионер</td>\n",
       "      <td>0</td>\n",
       "      <td>290547.235997</td>\n",
       "      <td>операции с коммерческой недвижимостью</td>\n",
       "    </tr>\n",
       "    <tr>\n",
       "      <td>25</td>\n",
       "      <td>0</td>\n",
       "      <td>363548.489348</td>\n",
       "      <td>67</td>\n",
       "      <td>среднее</td>\n",
       "      <td>1</td>\n",
       "      <td>женат / замужем</td>\n",
       "      <td>0</td>\n",
       "      <td>M</td>\n",
       "      <td>пенсионер</td>\n",
       "      <td>0</td>\n",
       "      <td>55112.757732</td>\n",
       "      <td>покупка недвижимости</td>\n",
       "    </tr>\n",
       "    <tr>\n",
       "      <td>29</td>\n",
       "      <td>0</td>\n",
       "      <td>NaN</td>\n",
       "      <td>63</td>\n",
       "      <td>среднее</td>\n",
       "      <td>1</td>\n",
       "      <td>Не женат / не замужем</td>\n",
       "      <td>4</td>\n",
       "      <td>F</td>\n",
       "      <td>пенсионер</td>\n",
       "      <td>0</td>\n",
       "      <td>NaN</td>\n",
       "      <td>строительство жилой недвижимости</td>\n",
       "    </tr>\n",
       "    <tr>\n",
       "      <td>30</td>\n",
       "      <td>1</td>\n",
       "      <td>335581.668515</td>\n",
       "      <td>62</td>\n",
       "      <td>среднее</td>\n",
       "      <td>1</td>\n",
       "      <td>женат / замужем</td>\n",
       "      <td>0</td>\n",
       "      <td>F</td>\n",
       "      <td>пенсионер</td>\n",
       "      <td>0</td>\n",
       "      <td>171456.067993</td>\n",
       "      <td>операции с коммерческой недвижимостью</td>\n",
       "    </tr>\n",
       "    <tr>\n",
       "      <td>35</td>\n",
       "      <td>0</td>\n",
       "      <td>394021.072184</td>\n",
       "      <td>68</td>\n",
       "      <td>среднее</td>\n",
       "      <td>1</td>\n",
       "      <td>гражданский брак</td>\n",
       "      <td>1</td>\n",
       "      <td>M</td>\n",
       "      <td>пенсионер</td>\n",
       "      <td>0</td>\n",
       "      <td>77805.677436</td>\n",
       "      <td>на проведение свадьбы</td>\n",
       "    </tr>\n",
       "    <tr>\n",
       "      <td>50</td>\n",
       "      <td>0</td>\n",
       "      <td>353731.432338</td>\n",
       "      <td>63</td>\n",
       "      <td>среднее</td>\n",
       "      <td>1</td>\n",
       "      <td>женат / замужем</td>\n",
       "      <td>0</td>\n",
       "      <td>F</td>\n",
       "      <td>пенсионер</td>\n",
       "      <td>0</td>\n",
       "      <td>92342.730612</td>\n",
       "      <td>автомобили</td>\n",
       "    </tr>\n",
       "    <tr>\n",
       "      <td>55</td>\n",
       "      <td>0</td>\n",
       "      <td>NaN</td>\n",
       "      <td>54</td>\n",
       "      <td>среднее</td>\n",
       "      <td>1</td>\n",
       "      <td>гражданский брак</td>\n",
       "      <td>1</td>\n",
       "      <td>F</td>\n",
       "      <td>пенсионер</td>\n",
       "      <td>1</td>\n",
       "      <td>NaN</td>\n",
       "      <td>сыграть свадьбу</td>\n",
       "    </tr>\n",
       "  </tbody>\n",
       "</table>\n",
       "</div>"
      ],
      "text/plain": [
       "    children  days_employed  dob_years education  education_id  \\\n",
       "4          0  340266.072047         53   среднее             1   \n",
       "12         0            NaN         65   среднее             1   \n",
       "18         0  400281.136913         53   среднее             1   \n",
       "24         1  338551.952911         57   среднее             1   \n",
       "25         0  363548.489348         67   среднее             1   \n",
       "29         0            NaN         63   среднее             1   \n",
       "30         1  335581.668515         62   среднее             1   \n",
       "35         0  394021.072184         68   среднее             1   \n",
       "50         0  353731.432338         63   среднее             1   \n",
       "55         0            NaN         54   среднее             1   \n",
       "\n",
       "            family_status  family_status_id gender income_type  debt  \\\n",
       "4        гражданский брак                 1      F   пенсионер     0   \n",
       "12       гражданский брак                 1      M   пенсионер     0   \n",
       "18         вдовец / вдова                 2      F   пенсионер     0   \n",
       "24  Не женат / не замужем                 4      F   пенсионер     0   \n",
       "25        женат / замужем                 0      M   пенсионер     0   \n",
       "29  Не женат / не замужем                 4      F   пенсионер     0   \n",
       "30        женат / замужем                 0      F   пенсионер     0   \n",
       "35       гражданский брак                 1      M   пенсионер     0   \n",
       "50        женат / замужем                 0      F   пенсионер     0   \n",
       "55       гражданский брак                 1      F   пенсионер     1   \n",
       "\n",
       "     total_income                                purpose  \n",
       "4   158616.077870                        сыграть свадьбу  \n",
       "12            NaN                        сыграть свадьбу  \n",
       "18   56823.777243     на покупку подержанного автомобиля  \n",
       "24  290547.235997  операции с коммерческой недвижимостью  \n",
       "25   55112.757732                   покупка недвижимости  \n",
       "29            NaN       строительство жилой недвижимости  \n",
       "30  171456.067993  операции с коммерческой недвижимостью  \n",
       "35   77805.677436                  на проведение свадьбы  \n",
       "50   92342.730612                             автомобили  \n",
       "55            NaN                        сыграть свадьбу  "
      ]
     },
     "execution_count": 5,
     "metadata": {},
     "output_type": "execute_result"
    }
   ],
   "source": [
    "bank[bank['income_type'] == 'пенсионер'].head(10)"
   ]
  },
  {
   "cell_type": "markdown",
   "metadata": {},
   "source": [
    "Кроме того, если мы посмотрим, какие значения возрастов присутствуют в таблице, то увидим еще один интересный момент:"
   ]
  },
  {
   "cell_type": "code",
   "execution_count": 6,
   "metadata": {},
   "outputs": [
    {
     "data": {
      "text/plain": [
       "35    617\n",
       "40    609\n",
       "41    607\n",
       "34    603\n",
       "38    598\n",
       "42    597\n",
       "33    581\n",
       "39    573\n",
       "31    560\n",
       "36    555\n",
       "44    547\n",
       "29    545\n",
       "30    540\n",
       "48    538\n",
       "37    537\n",
       "50    514\n",
       "43    513\n",
       "32    510\n",
       "49    508\n",
       "28    503\n",
       "45    497\n",
       "27    493\n",
       "56    487\n",
       "52    484\n",
       "47    480\n",
       "54    479\n",
       "46    475\n",
       "58    461\n",
       "57    460\n",
       "53    459\n",
       "51    448\n",
       "59    444\n",
       "55    443\n",
       "26    408\n",
       "60    377\n",
       "25    357\n",
       "61    355\n",
       "62    352\n",
       "63    269\n",
       "64    265\n",
       "24    264\n",
       "23    254\n",
       "65    194\n",
       "66    183\n",
       "22    183\n",
       "67    167\n",
       "21    111\n",
       "0     101\n",
       "68     99\n",
       "69     85\n",
       "70     65\n",
       "71     58\n",
       "20     51\n",
       "72     33\n",
       "19     14\n",
       "73      8\n",
       "74      6\n",
       "75      1\n",
       "Name: dob_years, dtype: int64"
      ]
     },
     "execution_count": 6,
     "metadata": {},
     "output_type": "execute_result"
    }
   ],
   "source": [
    "bank['dob_years'].value_counts()"
   ]
  },
  {
   "cell_type": "markdown",
   "metadata": {},
   "source": [
    "Присутствуют люди, возраст которых равен 0. Эту и описанные выше проблемы мы будем устранять в пункте \"Шаг 2. Предобработка данных\""
   ]
  },
  {
   "cell_type": "markdown",
   "metadata": {},
   "source": [
    "### Вывод"
   ]
  },
  {
   "cell_type": "markdown",
   "metadata": {},
   "source": [
    "После ознакомления с таблицей мы увидели несколько проблем с данными - отрицательный и дробный показатель для трудового стажа для не пенсионеров, большое значения стажа для пенсионеров, значение возраста у некоторых клиентов равное 0. С этими проблемами мы будем разбираться на следующем шаге."
   ]
  },
  {
   "cell_type": "markdown",
   "metadata": {},
   "source": [
    "### Шаг 2. Предобработка данных"
   ]
  },
  {
   "cell_type": "markdown",
   "metadata": {},
   "source": [
    "Перед тем, как начать обрабатывать пропуски, хотелось бы для начала привести значение стажа пенсионеров к более правдоподобному виду, взять модуль от отрицательного значения стажа и избавиться от нулей в значении возраста, так как они составляют довольно большую часть от наблюдений - примерно 5%."
   ]
  },
  {
   "cell_type": "markdown",
   "metadata": {},
   "source": [
    "1) Взглянем на таблицу со значением стоблца `'income_type' = 'пенсионер'` и убедимся, что все значения трудового стажа - аномально большие."
   ]
  },
  {
   "cell_type": "code",
   "execution_count": 7,
   "metadata": {},
   "outputs": [
    {
     "data": {
      "text/plain": [
       "count      3443.000000\n",
       "mean     365003.491245\n",
       "std       21069.606065\n",
       "min      328728.720605\n",
       "25%      346649.346146\n",
       "50%      365213.306266\n",
       "75%      383231.396871\n",
       "max      401755.400475\n",
       "Name: days_employed, dtype: float64"
      ]
     },
     "execution_count": 7,
     "metadata": {},
     "output_type": "execute_result"
    }
   ],
   "source": [
    "bank[bank['income_type'] == 'пенсионер']['days_employed'].describe()"
   ]
  },
  {
   "cell_type": "markdown",
   "metadata": {},
   "source": [
    "Похоже, что значения трудового стажа для них указано не в днях, а в часах. Для того, чтобы привести их к дням, поделим столбец `'days_employed'` на 24."
   ]
  },
  {
   "cell_type": "code",
   "execution_count": 8,
   "metadata": {},
   "outputs": [],
   "source": [
    "bank.loc[bank['income_type'] == 'пенсионер', 'days_employed'] = bank.loc[bank['income_type'] == 'пенсионер', 'days_employed']/24"
   ]
  },
  {
   "cell_type": "code",
   "execution_count": 9,
   "metadata": {},
   "outputs": [
    {
     "data": {
      "text/plain": [
       "count     3443.000000\n",
       "mean     15208.478802\n",
       "std        877.900253\n",
       "min      13697.030025\n",
       "25%      14443.722756\n",
       "50%      15217.221094\n",
       "75%      15967.974870\n",
       "max      16739.808353\n",
       "Name: days_employed, dtype: float64"
      ]
     },
     "execution_count": 9,
     "metadata": {},
     "output_type": "execute_result"
    }
   ],
   "source": [
    "bank[bank['income_type'] == 'пенсионер']['days_employed'].describe()"
   ]
  },
  {
   "cell_type": "markdown",
   "metadata": {},
   "source": [
    "2)Теперь избавимся от отрицательных значений трудового стажа."
   ]
  },
  {
   "cell_type": "code",
   "execution_count": 10,
   "metadata": {},
   "outputs": [],
   "source": [
    "bank['days_employed'] = bank['days_employed'].apply(abs)"
   ]
  },
  {
   "cell_type": "code",
   "execution_count": 11,
   "metadata": {},
   "outputs": [
    {
     "data": {
      "text/plain": [
       "count     19351.000000\n",
       "mean       4677.933504\n",
       "std        6502.847296\n",
       "min          24.141633\n",
       "25%         927.009265\n",
       "50%        2194.220567\n",
       "75%        5537.882441\n",
       "max      395302.838654\n",
       "Name: days_employed, dtype: float64"
      ]
     },
     "execution_count": 11,
     "metadata": {},
     "output_type": "execute_result"
    }
   ],
   "source": [
    "bank['days_employed'].describe()"
   ]
  },
  {
   "cell_type": "markdown",
   "metadata": {},
   "source": [
    "3)Заменим нули по следующему принципу - для не пенсионеров значение `days_employed` поделим на 365 и прибавим целую часть от деления к 18(то есть, сделаем предположение, что человек начал работать в 18). Если же это пенсионер, то значение `days_employed` поделим на 365*24, так как,вероятно,значение трудового стажа там указано в часах."
   ]
  },
  {
   "cell_type": "code",
   "execution_count": 12,
   "metadata": {},
   "outputs": [],
   "source": [
    "bank.loc[(bank['dob_years'] ==0) & (bank['income_type'] != 'пенсионер'), 'dob_years'] = 18 + abs(bank.loc[bank['dob_years'] ==0, 'days_employed']//365)\n",
    "bank.loc[(bank['dob_years'] ==0) & (bank['income_type'] == 'пенсионер'), 'dob_years'] = 18 + abs(bank.loc[bank['dob_years'] ==0, 'days_employed']//(365*24))"
   ]
  },
  {
   "cell_type": "markdown",
   "metadata": {},
   "source": [
    "Убедимся, что нулей в столбце `dob_years` не осталось."
   ]
  },
  {
   "cell_type": "code",
   "execution_count": 13,
   "metadata": {},
   "outputs": [
    {
     "data": {
      "text/plain": [
       "0"
      ]
     },
     "execution_count": 13,
     "metadata": {},
     "output_type": "execute_result"
    }
   ],
   "source": [
    "bank[bank['dob_years'] ==0]['dob_years'].count()"
   ]
  },
  {
   "cell_type": "markdown",
   "metadata": {},
   "source": [
    "### Обработка пропусков"
   ]
  },
  {
   "cell_type": "markdown",
   "metadata": {},
   "source": [
    "Пропущенные значения были только в трудовом стаже и доходе. Сделаем предположение, что все, кто оказались в этой таблице - имеют ненулевой трудовой стаж и общий доход. Тогда можно заменить заменить значения NaN на медианный доход и медианный трудовой стаж по возрастной группе. Такой способ я выбрал потому что считаю, что количество наблюдений для каждого возраста достаточно для того, чтобы по медиане каждой выборке можно было получить близкое к истине пропущенное значение (минимальная выборка - 7 клиентов 73 возраста выглядит достаточной, следовательно, остальные тоже)"
   ]
  },
  {
   "cell_type": "code",
   "execution_count": 14,
   "metadata": {},
   "outputs": [
    {
     "data": {
      "text/plain": [
       "35.0    553\n",
       "41.0    548\n",
       "38.0    544\n",
       "40.0    544\n",
       "34.0    535\n",
       "42.0    532\n",
       "33.0    530\n",
       "39.0    522\n",
       "44.0    503\n",
       "31.0    500\n",
       "29.0    498\n",
       "36.0    493\n",
       "48.0    492\n",
       "37.0    484\n",
       "30.0    482\n",
       "32.0    473\n",
       "50.0    463\n",
       "43.0    463\n",
       "27.0    459\n",
       "49.0    458\n",
       "45.0    447\n",
       "28.0    446\n",
       "56.0    433\n",
       "52.0    431\n",
       "46.0    427\n",
       "54.0    424\n",
       "47.0    423\n",
       "53.0    415\n",
       "59.0    410\n",
       "58.0    405\n",
       "57.0    404\n",
       "51.0    398\n",
       "55.0    395\n",
       "26.0    375\n",
       "60.0    338\n",
       "25.0    336\n",
       "61.0    317\n",
       "62.0    314\n",
       "24.0    247\n",
       "63.0    240\n",
       "64.0    228\n",
       "23.0    223\n",
       "22.0    178\n",
       "65.0    174\n",
       "66.0    163\n",
       "67.0    151\n",
       "21.0    100\n",
       "68.0     90\n",
       "69.0     80\n",
       "70.0     62\n",
       "20.0     60\n",
       "71.0     53\n",
       "19.0     35\n",
       "72.0     31\n",
       "18.0      8\n",
       "73.0      7\n",
       "74.0      6\n",
       "75.0      1\n",
       "Name: dob_years, dtype: int64"
      ]
     },
     "execution_count": 14,
     "metadata": {},
     "output_type": "execute_result"
    }
   ],
   "source": [
    "bank[pd.isna(bank['total_income']) != True]['dob_years'].value_counts()"
   ]
  },
  {
   "cell_type": "code",
   "execution_count": 15,
   "metadata": {},
   "outputs": [
    {
     "data": {
      "text/plain": [
       "34.0    69\n",
       "40.0    66\n",
       "42.0    65\n",
       "31.0    65\n",
       "35.0    64\n",
       "36.0    63\n",
       "47.0    59\n",
       "41.0    59\n",
       "30.0    58\n",
       "28.0    57\n",
       "57.0    56\n",
       "58.0    56\n",
       "54.0    55\n",
       "38.0    54\n",
       "56.0    54\n",
       "52.0    53\n",
       "37.0    53\n",
       "39.0    51\n",
       "33.0    51\n",
       "50.0    51\n",
       "45.0    50\n",
       "51.0    50\n",
       "29.0    50\n",
       "49.0    50\n",
       "43.0    50\n",
       "55.0    48\n",
       "46.0    48\n",
       "48.0    46\n",
       "44.0    44\n",
       "53.0    44\n",
       "60.0    39\n",
       "62.0    38\n",
       "61.0    38\n",
       "64.0    37\n",
       "32.0    37\n",
       "27.0    36\n",
       "23.0    36\n",
       "26.0    35\n",
       "59.0    34\n",
       "63.0    29\n",
       "25.0    23\n",
       "24.0    21\n",
       "65.0    20\n",
       "66.0    20\n",
       "21.0    18\n",
       "22.0    17\n",
       "67.0    16\n",
       "68.0     9\n",
       "20.0     5\n",
       "69.0     5\n",
       "71.0     5\n",
       "70.0     3\n",
       "72.0     2\n",
       "19.0     1\n",
       "73.0     1\n",
       "Name: dob_years, dtype: int64"
      ]
     },
     "execution_count": 15,
     "metadata": {},
     "output_type": "execute_result"
    }
   ],
   "source": [
    "bank[pd.isna(bank['total_income']) == True]['dob_years'].value_counts()"
   ]
  },
  {
   "cell_type": "markdown",
   "metadata": {},
   "source": [
    "Для начала найдем медианные значения стажа и дохода для каждого возраста."
   ]
  },
  {
   "cell_type": "code",
   "execution_count": 16,
   "metadata": {},
   "outputs": [],
   "source": [
    "grouped_bank_days = bank.groupby('dob_years')['days_employed'].median()\n",
    "grouped_bank_income = bank.groupby('dob_years')['total_income'].median()"
   ]
  },
  {
   "cell_type": "markdown",
   "metadata": {},
   "source": [
    "Теперь заменим все пропущенные значения на медианные(вполне вероятно, что это можно сделать через `apply`, но я потратил кучу времени и не понял как)."
   ]
  },
  {
   "cell_type": "code",
   "execution_count": 17,
   "metadata": {},
   "outputs": [],
   "source": [
    "for i in range(19,75):\n",
    "    bank.loc[(bank['dob_years'] == i) & (pd.isna(bank['days_employed']) == True), 'days_employed'] = grouped_bank_days[i]\n",
    "    bank.loc[(bank['dob_years'] == i) & (pd.isna(bank['total_income']) == True), 'total_income'] = grouped_bank_income[i]"
   ]
  },
  {
   "cell_type": "markdown",
   "metadata": {},
   "source": [
    "Взглянем теперь на таблицу, остались ли еще там пропущенные значения."
   ]
  },
  {
   "cell_type": "code",
   "execution_count": 18,
   "metadata": {},
   "outputs": [
    {
     "data": {
      "text/html": [
       "<div>\n",
       "<style scoped>\n",
       "    .dataframe tbody tr th:only-of-type {\n",
       "        vertical-align: middle;\n",
       "    }\n",
       "\n",
       "    .dataframe tbody tr th {\n",
       "        vertical-align: top;\n",
       "    }\n",
       "\n",
       "    .dataframe thead th {\n",
       "        text-align: right;\n",
       "    }\n",
       "</style>\n",
       "<table border=\"1\" class=\"dataframe\">\n",
       "  <thead>\n",
       "    <tr style=\"text-align: right;\">\n",
       "      <th></th>\n",
       "      <th>children</th>\n",
       "      <th>days_employed</th>\n",
       "      <th>dob_years</th>\n",
       "      <th>education</th>\n",
       "      <th>education_id</th>\n",
       "      <th>family_status</th>\n",
       "      <th>family_status_id</th>\n",
       "      <th>gender</th>\n",
       "      <th>income_type</th>\n",
       "      <th>debt</th>\n",
       "      <th>total_income</th>\n",
       "      <th>purpose</th>\n",
       "    </tr>\n",
       "  </thead>\n",
       "  <tbody>\n",
       "    <tr>\n",
       "      <td>1890</td>\n",
       "      <td>0</td>\n",
       "      <td>NaN</td>\n",
       "      <td>NaN</td>\n",
       "      <td>высшее</td>\n",
       "      <td>0</td>\n",
       "      <td>Не женат / не замужем</td>\n",
       "      <td>4</td>\n",
       "      <td>F</td>\n",
       "      <td>сотрудник</td>\n",
       "      <td>0</td>\n",
       "      <td>NaN</td>\n",
       "      <td>жилье</td>\n",
       "    </tr>\n",
       "    <tr>\n",
       "      <td>2284</td>\n",
       "      <td>0</td>\n",
       "      <td>NaN</td>\n",
       "      <td>NaN</td>\n",
       "      <td>среднее</td>\n",
       "      <td>1</td>\n",
       "      <td>вдовец / вдова</td>\n",
       "      <td>2</td>\n",
       "      <td>F</td>\n",
       "      <td>пенсионер</td>\n",
       "      <td>0</td>\n",
       "      <td>NaN</td>\n",
       "      <td>недвижимость</td>\n",
       "    </tr>\n",
       "    <tr>\n",
       "      <td>4064</td>\n",
       "      <td>1</td>\n",
       "      <td>NaN</td>\n",
       "      <td>NaN</td>\n",
       "      <td>среднее</td>\n",
       "      <td>1</td>\n",
       "      <td>гражданский брак</td>\n",
       "      <td>1</td>\n",
       "      <td>M</td>\n",
       "      <td>компаньон</td>\n",
       "      <td>0</td>\n",
       "      <td>NaN</td>\n",
       "      <td>ремонт жилью</td>\n",
       "    </tr>\n",
       "    <tr>\n",
       "      <td>5014</td>\n",
       "      <td>0</td>\n",
       "      <td>NaN</td>\n",
       "      <td>NaN</td>\n",
       "      <td>среднее</td>\n",
       "      <td>1</td>\n",
       "      <td>женат / замужем</td>\n",
       "      <td>0</td>\n",
       "      <td>F</td>\n",
       "      <td>компаньон</td>\n",
       "      <td>0</td>\n",
       "      <td>NaN</td>\n",
       "      <td>покупка недвижимости</td>\n",
       "    </tr>\n",
       "    <tr>\n",
       "      <td>6411</td>\n",
       "      <td>0</td>\n",
       "      <td>NaN</td>\n",
       "      <td>NaN</td>\n",
       "      <td>высшее</td>\n",
       "      <td>0</td>\n",
       "      <td>гражданский брак</td>\n",
       "      <td>1</td>\n",
       "      <td>F</td>\n",
       "      <td>пенсионер</td>\n",
       "      <td>0</td>\n",
       "      <td>NaN</td>\n",
       "      <td>свадьба</td>\n",
       "    </tr>\n",
       "    <tr>\n",
       "      <td>6670</td>\n",
       "      <td>0</td>\n",
       "      <td>NaN</td>\n",
       "      <td>NaN</td>\n",
       "      <td>Высшее</td>\n",
       "      <td>0</td>\n",
       "      <td>в разводе</td>\n",
       "      <td>3</td>\n",
       "      <td>F</td>\n",
       "      <td>пенсионер</td>\n",
       "      <td>0</td>\n",
       "      <td>NaN</td>\n",
       "      <td>покупка жилой недвижимости</td>\n",
       "    </tr>\n",
       "    <tr>\n",
       "      <td>8574</td>\n",
       "      <td>0</td>\n",
       "      <td>NaN</td>\n",
       "      <td>NaN</td>\n",
       "      <td>среднее</td>\n",
       "      <td>1</td>\n",
       "      <td>женат / замужем</td>\n",
       "      <td>0</td>\n",
       "      <td>F</td>\n",
       "      <td>сотрудник</td>\n",
       "      <td>0</td>\n",
       "      <td>NaN</td>\n",
       "      <td>недвижимость</td>\n",
       "    </tr>\n",
       "    <tr>\n",
       "      <td>12403</td>\n",
       "      <td>3</td>\n",
       "      <td>NaN</td>\n",
       "      <td>NaN</td>\n",
       "      <td>среднее</td>\n",
       "      <td>1</td>\n",
       "      <td>женат / замужем</td>\n",
       "      <td>0</td>\n",
       "      <td>M</td>\n",
       "      <td>сотрудник</td>\n",
       "      <td>0</td>\n",
       "      <td>NaN</td>\n",
       "      <td>операции с коммерческой недвижимостью</td>\n",
       "    </tr>\n",
       "    <tr>\n",
       "      <td>13741</td>\n",
       "      <td>0</td>\n",
       "      <td>NaN</td>\n",
       "      <td>NaN</td>\n",
       "      <td>среднее</td>\n",
       "      <td>1</td>\n",
       "      <td>гражданский брак</td>\n",
       "      <td>1</td>\n",
       "      <td>F</td>\n",
       "      <td>сотрудник</td>\n",
       "      <td>0</td>\n",
       "      <td>NaN</td>\n",
       "      <td>на проведение свадьбы</td>\n",
       "    </tr>\n",
       "    <tr>\n",
       "      <td>19829</td>\n",
       "      <td>0</td>\n",
       "      <td>NaN</td>\n",
       "      <td>NaN</td>\n",
       "      <td>среднее</td>\n",
       "      <td>1</td>\n",
       "      <td>женат / замужем</td>\n",
       "      <td>0</td>\n",
       "      <td>F</td>\n",
       "      <td>сотрудник</td>\n",
       "      <td>0</td>\n",
       "      <td>NaN</td>\n",
       "      <td>жилье</td>\n",
       "    </tr>\n",
       "  </tbody>\n",
       "</table>\n",
       "</div>"
      ],
      "text/plain": [
       "       children  days_employed  dob_years education  education_id  \\\n",
       "1890          0            NaN        NaN    высшее             0   \n",
       "2284          0            NaN        NaN   среднее             1   \n",
       "4064          1            NaN        NaN   среднее             1   \n",
       "5014          0            NaN        NaN   среднее             1   \n",
       "6411          0            NaN        NaN    высшее             0   \n",
       "6670          0            NaN        NaN    Высшее             0   \n",
       "8574          0            NaN        NaN   среднее             1   \n",
       "12403         3            NaN        NaN   среднее             1   \n",
       "13741         0            NaN        NaN   среднее             1   \n",
       "19829         0            NaN        NaN   среднее             1   \n",
       "\n",
       "               family_status  family_status_id gender income_type  debt  \\\n",
       "1890   Не женат / не замужем                 4      F   сотрудник     0   \n",
       "2284          вдовец / вдова                 2      F   пенсионер     0   \n",
       "4064        гражданский брак                 1      M   компаньон     0   \n",
       "5014         женат / замужем                 0      F   компаньон     0   \n",
       "6411        гражданский брак                 1      F   пенсионер     0   \n",
       "6670               в разводе                 3      F   пенсионер     0   \n",
       "8574         женат / замужем                 0      F   сотрудник     0   \n",
       "12403        женат / замужем                 0      M   сотрудник     0   \n",
       "13741       гражданский брак                 1      F   сотрудник     0   \n",
       "19829        женат / замужем                 0      F   сотрудник     0   \n",
       "\n",
       "       total_income                                purpose  \n",
       "1890            NaN                                  жилье  \n",
       "2284            NaN                           недвижимость  \n",
       "4064            NaN                           ремонт жилью  \n",
       "5014            NaN                   покупка недвижимости  \n",
       "6411            NaN                                свадьба  \n",
       "6670            NaN             покупка жилой недвижимости  \n",
       "8574            NaN                           недвижимость  \n",
       "12403           NaN  операции с коммерческой недвижимостью  \n",
       "13741           NaN                  на проведение свадьбы  \n",
       "19829           NaN                                  жилье  "
      ]
     },
     "execution_count": 18,
     "metadata": {},
     "output_type": "execute_result"
    }
   ],
   "source": [
    "bank[(pd.isna(bank['days_employed']) == True) & (pd.isna(bank['total_income']) == True)]"
   ]
  },
  {
   "cell_type": "markdown",
   "metadata": {},
   "source": [
    "Мы получили 10 наблюдений, в которых 3 ячейки с пропущенными значениями и с маленьким потенциалом на восстановление. Их из таблицы мы удалим."
   ]
  },
  {
   "cell_type": "code",
   "execution_count": 19,
   "metadata": {},
   "outputs": [
    {
     "name": "stdout",
     "output_type": "stream",
     "text": [
      "<class 'pandas.core.frame.DataFrame'>\n",
      "Int64Index: 21515 entries, 0 to 21524\n",
      "Data columns (total 12 columns):\n",
      "children            21515 non-null int64\n",
      "days_employed       21515 non-null float64\n",
      "dob_years           21515 non-null float64\n",
      "education           21515 non-null object\n",
      "education_id        21515 non-null int64\n",
      "family_status       21515 non-null object\n",
      "family_status_id    21515 non-null int64\n",
      "gender              21515 non-null object\n",
      "income_type         21515 non-null object\n",
      "debt                21515 non-null int64\n",
      "total_income        21515 non-null float64\n",
      "purpose             21515 non-null object\n",
      "dtypes: float64(3), int64(4), object(5)\n",
      "memory usage: 2.1+ MB\n"
     ]
    }
   ],
   "source": [
    "bank = bank.dropna()\n",
    "bank.info()"
   ]
  },
  {
   "cell_type": "markdown",
   "metadata": {},
   "source": [
    "Пропусков в наших данных больше нет - можем двигаться дальше!"
   ]
  },
  {
   "cell_type": "markdown",
   "metadata": {},
   "source": [
    "### Вывод"
   ]
  },
  {
   "cell_type": "markdown",
   "metadata": {},
   "source": [
    "В шаге 2 мы исправили множество проблем, которые имели данные датасета, а именно - заполнили все NaN значения, сделали положительными отрицательные значения трудового стажа и избавились от значения 0 в столбце `dob_years`."
   ]
  },
  {
   "cell_type": "markdown",
   "metadata": {},
   "source": [
    "### Замена типа данных"
   ]
  },
  {
   "cell_type": "markdown",
   "metadata": {},
   "source": [
    "Можно обозначить два столбца, которым можно заменить тип данных. `dob_years` и `days_employed` было бы логичней представить в виде типа данных integer. Для этого используем метод `astype()`."
   ]
  },
  {
   "cell_type": "code",
   "execution_count": 20,
   "metadata": {},
   "outputs": [],
   "source": [
    "bank['days_employed'] = bank['days_employed'].astype('int')\n",
    "bank['dob_years'] = bank['dob_years'].astype('int')"
   ]
  },
  {
   "cell_type": "code",
   "execution_count": 21,
   "metadata": {},
   "outputs": [
    {
     "name": "stdout",
     "output_type": "stream",
     "text": [
      "<class 'pandas.core.frame.DataFrame'>\n",
      "Int64Index: 21515 entries, 0 to 21524\n",
      "Data columns (total 12 columns):\n",
      "children            21515 non-null int64\n",
      "days_employed       21515 non-null int64\n",
      "dob_years           21515 non-null int64\n",
      "education           21515 non-null object\n",
      "education_id        21515 non-null int64\n",
      "family_status       21515 non-null object\n",
      "family_status_id    21515 non-null int64\n",
      "gender              21515 non-null object\n",
      "income_type         21515 non-null object\n",
      "debt                21515 non-null int64\n",
      "total_income        21515 non-null float64\n",
      "purpose             21515 non-null object\n",
      "dtypes: float64(1), int64(6), object(5)\n",
      "memory usage: 2.1+ MB\n"
     ]
    }
   ],
   "source": [
    "bank.info()"
   ]
  },
  {
   "cell_type": "code",
   "execution_count": 22,
   "metadata": {},
   "outputs": [
    {
     "data": {
      "text/html": [
       "<div>\n",
       "<style scoped>\n",
       "    .dataframe tbody tr th:only-of-type {\n",
       "        vertical-align: middle;\n",
       "    }\n",
       "\n",
       "    .dataframe tbody tr th {\n",
       "        vertical-align: top;\n",
       "    }\n",
       "\n",
       "    .dataframe thead th {\n",
       "        text-align: right;\n",
       "    }\n",
       "</style>\n",
       "<table border=\"1\" class=\"dataframe\">\n",
       "  <thead>\n",
       "    <tr style=\"text-align: right;\">\n",
       "      <th></th>\n",
       "      <th>children</th>\n",
       "      <th>days_employed</th>\n",
       "      <th>dob_years</th>\n",
       "      <th>education</th>\n",
       "      <th>education_id</th>\n",
       "      <th>family_status</th>\n",
       "      <th>family_status_id</th>\n",
       "      <th>gender</th>\n",
       "      <th>income_type</th>\n",
       "      <th>debt</th>\n",
       "      <th>total_income</th>\n",
       "      <th>purpose</th>\n",
       "    </tr>\n",
       "  </thead>\n",
       "  <tbody>\n",
       "    <tr>\n",
       "      <td>0</td>\n",
       "      <td>1</td>\n",
       "      <td>8437</td>\n",
       "      <td>42</td>\n",
       "      <td>высшее</td>\n",
       "      <td>0</td>\n",
       "      <td>женат / замужем</td>\n",
       "      <td>0</td>\n",
       "      <td>F</td>\n",
       "      <td>сотрудник</td>\n",
       "      <td>0</td>\n",
       "      <td>253875.639453</td>\n",
       "      <td>покупка жилья</td>\n",
       "    </tr>\n",
       "    <tr>\n",
       "      <td>1</td>\n",
       "      <td>1</td>\n",
       "      <td>4024</td>\n",
       "      <td>36</td>\n",
       "      <td>среднее</td>\n",
       "      <td>1</td>\n",
       "      <td>женат / замужем</td>\n",
       "      <td>0</td>\n",
       "      <td>F</td>\n",
       "      <td>сотрудник</td>\n",
       "      <td>0</td>\n",
       "      <td>112080.014102</td>\n",
       "      <td>приобретение автомобиля</td>\n",
       "    </tr>\n",
       "    <tr>\n",
       "      <td>2</td>\n",
       "      <td>0</td>\n",
       "      <td>5623</td>\n",
       "      <td>33</td>\n",
       "      <td>Среднее</td>\n",
       "      <td>1</td>\n",
       "      <td>женат / замужем</td>\n",
       "      <td>0</td>\n",
       "      <td>M</td>\n",
       "      <td>сотрудник</td>\n",
       "      <td>0</td>\n",
       "      <td>145885.952297</td>\n",
       "      <td>покупка жилья</td>\n",
       "    </tr>\n",
       "    <tr>\n",
       "      <td>3</td>\n",
       "      <td>3</td>\n",
       "      <td>4124</td>\n",
       "      <td>32</td>\n",
       "      <td>среднее</td>\n",
       "      <td>1</td>\n",
       "      <td>женат / замужем</td>\n",
       "      <td>0</td>\n",
       "      <td>M</td>\n",
       "      <td>сотрудник</td>\n",
       "      <td>0</td>\n",
       "      <td>267628.550329</td>\n",
       "      <td>дополнительное образование</td>\n",
       "    </tr>\n",
       "    <tr>\n",
       "      <td>4</td>\n",
       "      <td>0</td>\n",
       "      <td>14177</td>\n",
       "      <td>53</td>\n",
       "      <td>среднее</td>\n",
       "      <td>1</td>\n",
       "      <td>гражданский брак</td>\n",
       "      <td>1</td>\n",
       "      <td>F</td>\n",
       "      <td>пенсионер</td>\n",
       "      <td>0</td>\n",
       "      <td>158616.077870</td>\n",
       "      <td>сыграть свадьбу</td>\n",
       "    </tr>\n",
       "  </tbody>\n",
       "</table>\n",
       "</div>"
      ],
      "text/plain": [
       "   children  days_employed  dob_years education  education_id  \\\n",
       "0         1           8437         42    высшее             0   \n",
       "1         1           4024         36   среднее             1   \n",
       "2         0           5623         33   Среднее             1   \n",
       "3         3           4124         32   среднее             1   \n",
       "4         0          14177         53   среднее             1   \n",
       "\n",
       "      family_status  family_status_id gender income_type  debt   total_income  \\\n",
       "0   женат / замужем                 0      F   сотрудник     0  253875.639453   \n",
       "1   женат / замужем                 0      F   сотрудник     0  112080.014102   \n",
       "2   женат / замужем                 0      M   сотрудник     0  145885.952297   \n",
       "3   женат / замужем                 0      M   сотрудник     0  267628.550329   \n",
       "4  гражданский брак                 1      F   пенсионер     0  158616.077870   \n",
       "\n",
       "                      purpose  \n",
       "0               покупка жилья  \n",
       "1     приобретение автомобиля  \n",
       "2               покупка жилья  \n",
       "3  дополнительное образование  \n",
       "4             сыграть свадьбу  "
      ]
     },
     "execution_count": 22,
     "metadata": {},
     "output_type": "execute_result"
    }
   ],
   "source": [
    "bank.head()"
   ]
  },
  {
   "cell_type": "markdown",
   "metadata": {},
   "source": [
    "### Вывод"
   ]
  },
  {
   "cell_type": "markdown",
   "metadata": {},
   "source": [
    "Были обнаружены два стобца, где можно изменить тип данных - это `dob_years` и `days_employed`, что и было сделано."
   ]
  },
  {
   "cell_type": "markdown",
   "metadata": {},
   "source": [
    "### Обработка дубликатов"
   ]
  },
  {
   "cell_type": "markdown",
   "metadata": {},
   "source": [
    "Перед тем, как начать обрабатывать дубликаты, надо просмотреть столбцы на наличие в них аномальных значений."
   ]
  },
  {
   "cell_type": "code",
   "execution_count": 23,
   "metadata": {},
   "outputs": [
    {
     "data": {
      "text/plain": [
       "array([ 1,  0,  3,  2, -1,  4, 20,  5])"
      ]
     },
     "execution_count": 23,
     "metadata": {},
     "output_type": "execute_result"
    }
   ],
   "source": [
    "bank['children'].unique()"
   ]
  },
  {
   "cell_type": "markdown",
   "metadata": {},
   "source": [
    "Вероятно, что количество детей = 20 могло появиться от неверной интерпретации числа 2, а значение -1, от неверной интерпретации числа 1. Основываясь на этой утверждении, заменим 20 на 2 и -1 на 1."
   ]
  },
  {
   "cell_type": "code",
   "execution_count": 24,
   "metadata": {},
   "outputs": [],
   "source": [
    "bank.loc[bank['children'] == -1, 'children'] = 1\n",
    "bank.loc[bank['children'] == 20, 'children'] = 2"
   ]
  },
  {
   "cell_type": "code",
   "execution_count": 25,
   "metadata": {},
   "outputs": [
    {
     "data": {
      "text/plain": [
       "array([1, 0, 3, 2, 4, 5])"
      ]
     },
     "execution_count": 25,
     "metadata": {},
     "output_type": "execute_result"
    }
   ],
   "source": [
    "bank['children'].unique()"
   ]
  },
  {
   "cell_type": "code",
   "execution_count": 26,
   "metadata": {},
   "outputs": [
    {
     "data": {
      "text/plain": [
       "array(['высшее', 'среднее', 'Среднее', 'СРЕДНЕЕ', 'ВЫСШЕЕ',\n",
       "       'неоконченное высшее', 'начальное', 'Высшее',\n",
       "       'НЕОКОНЧЕННОЕ ВЫСШЕЕ', 'Неоконченное высшее', 'НАЧАЛЬНОЕ',\n",
       "       'Начальное', 'Ученая степень', 'УЧЕНАЯ СТЕПЕНЬ', 'ученая степень'],\n",
       "      dtype=object)"
      ]
     },
     "execution_count": 26,
     "metadata": {},
     "output_type": "execute_result"
    }
   ],
   "source": [
    "bank['education'].unique()"
   ]
  },
  {
   "cell_type": "markdown",
   "metadata": {},
   "source": [
    "Видим, что есть много одинаковых значений образования, но написанных в разных регистрах, что выдаст нам в итоге разный результат при группировке. Нужно привести их к одному регистру. Сделаем это с помощью метода `str.lower()`."
   ]
  },
  {
   "cell_type": "code",
   "execution_count": 27,
   "metadata": {},
   "outputs": [],
   "source": [
    "bank['education'] = bank['education'].str.lower()"
   ]
  },
  {
   "cell_type": "code",
   "execution_count": 28,
   "metadata": {},
   "outputs": [
    {
     "data": {
      "text/plain": [
       "array(['высшее', 'среднее', 'неоконченное высшее', 'начальное',\n",
       "       'ученая степень'], dtype=object)"
      ]
     },
     "execution_count": 28,
     "metadata": {},
     "output_type": "execute_result"
    }
   ],
   "source": [
    "bank['education'].unique()"
   ]
  },
  {
   "cell_type": "code",
   "execution_count": 29,
   "metadata": {},
   "outputs": [
    {
     "data": {
      "text/plain": [
       "array([0, 1, 2, 3, 4])"
      ]
     },
     "execution_count": 29,
     "metadata": {},
     "output_type": "execute_result"
    }
   ],
   "source": [
    "bank['education_id'].unique()"
   ]
  },
  {
   "cell_type": "code",
   "execution_count": 30,
   "metadata": {},
   "outputs": [
    {
     "data": {
      "text/plain": [
       "array(['женат / замужем', 'гражданский брак', 'вдовец / вдова',\n",
       "       'в разводе', 'Не женат / не замужем'], dtype=object)"
      ]
     },
     "execution_count": 30,
     "metadata": {},
     "output_type": "execute_result"
    }
   ],
   "source": [
    "bank['family_status'].unique()"
   ]
  },
  {
   "cell_type": "code",
   "execution_count": 31,
   "metadata": {},
   "outputs": [
    {
     "data": {
      "text/plain": [
       "array([0, 1, 2, 3, 4])"
      ]
     },
     "execution_count": 31,
     "metadata": {},
     "output_type": "execute_result"
    }
   ],
   "source": [
    "bank['family_status_id'].unique()"
   ]
  },
  {
   "cell_type": "code",
   "execution_count": 32,
   "metadata": {},
   "outputs": [
    {
     "data": {
      "text/plain": [
       "array(['F', 'M', 'XNA'], dtype=object)"
      ]
     },
     "execution_count": 32,
     "metadata": {},
     "output_type": "execute_result"
    }
   ],
   "source": [
    "bank['gender'].unique()"
   ]
  },
  {
   "cell_type": "code",
   "execution_count": 33,
   "metadata": {},
   "outputs": [
    {
     "data": {
      "text/plain": [
       "array(['сотрудник', 'пенсионер', 'компаньон', 'госслужащий',\n",
       "       'безработный', 'предприниматель', 'студент', 'в декрете'],\n",
       "      dtype=object)"
      ]
     },
     "execution_count": 33,
     "metadata": {},
     "output_type": "execute_result"
    }
   ],
   "source": [
    "bank['income_type'].unique()"
   ]
  },
  {
   "cell_type": "code",
   "execution_count": 34,
   "metadata": {},
   "outputs": [
    {
     "data": {
      "text/plain": [
       "array([0, 1])"
      ]
     },
     "execution_count": 34,
     "metadata": {},
     "output_type": "execute_result"
    }
   ],
   "source": [
    "bank['debt'].unique()"
   ]
  },
  {
   "cell_type": "code",
   "execution_count": 35,
   "metadata": {},
   "outputs": [
    {
     "data": {
      "text/plain": [
       "array(['покупка жилья', 'приобретение автомобиля',\n",
       "       'дополнительное образование', 'сыграть свадьбу',\n",
       "       'операции с жильем', 'образование', 'на проведение свадьбы',\n",
       "       'покупка жилья для семьи', 'покупка недвижимости',\n",
       "       'покупка коммерческой недвижимости', 'покупка жилой недвижимости',\n",
       "       'строительство собственной недвижимости', 'недвижимость',\n",
       "       'строительство недвижимости', 'на покупку подержанного автомобиля',\n",
       "       'на покупку своего автомобиля',\n",
       "       'операции с коммерческой недвижимостью',\n",
       "       'строительство жилой недвижимости', 'жилье',\n",
       "       'операции со своей недвижимостью', 'автомобили',\n",
       "       'заняться образованием', 'сделка с подержанным автомобилем',\n",
       "       'получение образования', 'автомобиль', 'свадьба',\n",
       "       'получение дополнительного образования', 'покупка своего жилья',\n",
       "       'операции с недвижимостью', 'получение высшего образования',\n",
       "       'свой автомобиль', 'сделка с автомобилем',\n",
       "       'профильное образование', 'высшее образование',\n",
       "       'покупка жилья для сдачи', 'на покупку автомобиля', 'ремонт жилью',\n",
       "       'заняться высшим образованием'], dtype=object)"
      ]
     },
     "execution_count": 35,
     "metadata": {},
     "output_type": "execute_result"
    }
   ],
   "source": [
    "bank['purpose'].unique()"
   ]
  },
  {
   "cell_type": "markdown",
   "metadata": {},
   "source": [
    "Во всех столбцах устранены аномальные значения, теперь можно приступить к поиску дубликатов с помощью метода `duplicated()`."
   ]
  },
  {
   "cell_type": "code",
   "execution_count": 36,
   "metadata": {},
   "outputs": [
    {
     "data": {
      "text/plain": [
       "71"
      ]
     },
     "execution_count": 36,
     "metadata": {},
     "output_type": "execute_result"
    }
   ],
   "source": [
    "bank.duplicated().sum()"
   ]
  },
  {
   "cell_type": "markdown",
   "metadata": {},
   "source": [
    "Мы видим, что дубликаты есть. Появиться они могли из - за технических проблем или невнимательности человека, который занес данные два раза подряд."
   ]
  },
  {
   "cell_type": "markdown",
   "metadata": {},
   "source": [
    "Удалим дубликаты с помощью метода `drop_duplicates()`."
   ]
  },
  {
   "cell_type": "code",
   "execution_count": 37,
   "metadata": {},
   "outputs": [],
   "source": [
    "bank = bank.drop_duplicates()"
   ]
  },
  {
   "cell_type": "code",
   "execution_count": 38,
   "metadata": {},
   "outputs": [
    {
     "name": "stdout",
     "output_type": "stream",
     "text": [
      "<class 'pandas.core.frame.DataFrame'>\n",
      "Int64Index: 21444 entries, 0 to 21524\n",
      "Data columns (total 12 columns):\n",
      "children            21444 non-null int64\n",
      "days_employed       21444 non-null int64\n",
      "dob_years           21444 non-null int64\n",
      "education           21444 non-null object\n",
      "education_id        21444 non-null int64\n",
      "family_status       21444 non-null object\n",
      "family_status_id    21444 non-null int64\n",
      "gender              21444 non-null object\n",
      "income_type         21444 non-null object\n",
      "debt                21444 non-null int64\n",
      "total_income        21444 non-null float64\n",
      "purpose             21444 non-null object\n",
      "dtypes: float64(1), int64(6), object(5)\n",
      "memory usage: 2.1+ MB\n"
     ]
    }
   ],
   "source": [
    "bank.info()"
   ]
  },
  {
   "cell_type": "markdown",
   "metadata": {},
   "source": [
    "### Вывод"
   ]
  },
  {
   "cell_type": "markdown",
   "metadata": {},
   "source": [
    "Мы разобрались с аномальными значениями в различных столбцах - где - то нужно было заменить отрицательные и слишком большие значения, а где то значения были одинаковыми, но написанными в разном регистре, что затруднило бы анализ данных в дальнейшем. Сейчас такой проблемы больше нет."
   ]
  },
  {
   "cell_type": "markdown",
   "metadata": {},
   "source": [
    "### Лемматизация"
   ]
  },
  {
   "cell_type": "markdown",
   "metadata": {},
   "source": [
    "Для того, чтобы провести лемматизацию, сначала изучим, какие значения присутствуют в столбце `purpose`."
   ]
  },
  {
   "cell_type": "code",
   "execution_count": 39,
   "metadata": {},
   "outputs": [
    {
     "data": {
      "text/plain": [
       "array(['покупка жилья', 'приобретение автомобиля',\n",
       "       'дополнительное образование', 'сыграть свадьбу',\n",
       "       'операции с жильем', 'образование', 'на проведение свадьбы',\n",
       "       'покупка жилья для семьи', 'покупка недвижимости',\n",
       "       'покупка коммерческой недвижимости', 'покупка жилой недвижимости',\n",
       "       'строительство собственной недвижимости', 'недвижимость',\n",
       "       'строительство недвижимости', 'на покупку подержанного автомобиля',\n",
       "       'на покупку своего автомобиля',\n",
       "       'операции с коммерческой недвижимостью',\n",
       "       'строительство жилой недвижимости', 'жилье',\n",
       "       'операции со своей недвижимостью', 'автомобили',\n",
       "       'заняться образованием', 'сделка с подержанным автомобилем',\n",
       "       'получение образования', 'автомобиль', 'свадьба',\n",
       "       'получение дополнительного образования', 'покупка своего жилья',\n",
       "       'операции с недвижимостью', 'получение высшего образования',\n",
       "       'свой автомобиль', 'сделка с автомобилем',\n",
       "       'профильное образование', 'высшее образование',\n",
       "       'покупка жилья для сдачи', 'на покупку автомобиля', 'ремонт жилью',\n",
       "       'заняться высшим образованием'], dtype=object)"
      ]
     },
     "execution_count": 39,
     "metadata": {},
     "output_type": "execute_result"
    }
   ],
   "source": [
    "purposes = bank['purpose'].unique()\n",
    "purposes"
   ]
  },
  {
   "cell_type": "markdown",
   "metadata": {},
   "source": [
    "Внимательно изучив все причины, можно выделить 4 общих цели взятия кредита: операции с *недвижимостью(жильем), автомобилем, свадьбой и образованием*. Для того, чтобы сгруппировать эти значения, проведем лемматизацию столбца с помощью функции `Mystem.lemmatize бибилиотеки  pymystem3`."
   ]
  },
  {
   "cell_type": "code",
   "execution_count": 40,
   "metadata": {},
   "outputs": [],
   "source": [
    "m = Mystem()\n",
    "def lemmma_purposes(purpose):\n",
    "    lemma = m.lemmatize(purpose)\n",
    "    if ('жилье' in lemma) or ('недвижимость' in lemma):\n",
    "        return 'недвижимость'\n",
    "    elif 'автомобиль' in lemma:\n",
    "        return 'автомобиль'\n",
    "    elif 'образование' in lemma:\n",
    "        return 'образование'\n",
    "    elif 'свадьба' in lemma:\n",
    "        return 'свадьба'\n"
   ]
  },
  {
   "cell_type": "code",
   "execution_count": 41,
   "metadata": {},
   "outputs": [],
   "source": [
    "bank['purpose'] = bank['purpose'].apply(lemmma_purposes)"
   ]
  },
  {
   "cell_type": "code",
   "execution_count": 42,
   "metadata": {},
   "outputs": [
    {
     "data": {
      "text/plain": [
       "array(['недвижимость', 'автомобиль', 'образование', 'свадьба'],\n",
       "      dtype=object)"
      ]
     },
     "execution_count": 42,
     "metadata": {},
     "output_type": "execute_result"
    }
   ],
   "source": [
    "bank['purpose'].unique()"
   ]
  },
  {
   "cell_type": "markdown",
   "metadata": {},
   "source": [
    "### Вывод"
   ]
  },
  {
   "cell_type": "markdown",
   "metadata": {},
   "source": [
    "В данном пункте была проведена лемматизация целей кредита. Было выявлено 4 основных цели, зачем люди берут кредиты - недвижимость(жилье), автомобиль, свадьба и образование."
   ]
  },
  {
   "cell_type": "markdown",
   "metadata": {},
   "source": [
    "### Категоризация данных"
   ]
  },
  {
   "cell_type": "markdown",
   "metadata": {},
   "source": [
    "Попробуем выделить категории на основании возраста - *молодой(до 35 лет), средний возраст(35 - 55), пенсионер(56 и больше)* и семейного положения и количества детей - *одинокий(количество детей - 0 и family_status - Не женат / не замужем, вдовец / вдова, в разводе) или не одинокий(количество детей > 0 или family_status - женат / замужем, гражданский брак)*\n",
    "Я выделил такие категории, потому что в категориях, связаных с возрастом мы выделяем людей разных поколений, разного мышления, что может повлиять на процент возврата кредита. Что касается семейного статуса, то идея проста - если человек одинокий, то все свои деньги он тратит на себя и, возможно, вернуть кредит ему будет легче, чем когда у него есть семья."
   ]
  },
  {
   "cell_type": "markdown",
   "metadata": {},
   "source": [
    "Напишем 2 функции: функцию для определения категории возраста по количеству лет и функцию, которая по количеству детей и семейному статусу, говорит, одинок клиент или нет."
   ]
  },
  {
   "cell_type": "code",
   "execution_count": 43,
   "metadata": {},
   "outputs": [],
   "source": [
    "def age_status(age):\n",
    "    if age <= 35:\n",
    "        return 'молодой'\n",
    "    elif 35 < age < 60:\n",
    "        return 'средний возраст'\n",
    "    else: return 'пожилой'"
   ]
  },
  {
   "cell_type": "code",
   "execution_count": 44,
   "metadata": {},
   "outputs": [],
   "source": [
    "def alone_or_not(data):\n",
    "    family_status = data['family_status']\n",
    "    children = data['children']\n",
    "    alone = [\"Не женат / не замужем\", \"вдовец / вдова\", \"в разводе\"]\n",
    "    \n",
    "    if children > 0:\n",
    "        return 'не одинокий'\n",
    "    elif family_status in alone:\n",
    "        return 'одинокий'\n",
    "    else: return 'не одинокий'\n",
    "    "
   ]
  },
  {
   "cell_type": "code",
   "execution_count": 45,
   "metadata": {},
   "outputs": [],
   "source": [
    "bank['age_status'] = bank['dob_years'].apply(age_status)"
   ]
  },
  {
   "cell_type": "code",
   "execution_count": 46,
   "metadata": {},
   "outputs": [],
   "source": [
    "bank['alone_status'] = bank.apply(alone_or_not, axis=1)"
   ]
  },
  {
   "cell_type": "code",
   "execution_count": 47,
   "metadata": {},
   "outputs": [
    {
     "data": {
      "text/html": [
       "<div>\n",
       "<style scoped>\n",
       "    .dataframe tbody tr th:only-of-type {\n",
       "        vertical-align: middle;\n",
       "    }\n",
       "\n",
       "    .dataframe tbody tr th {\n",
       "        vertical-align: top;\n",
       "    }\n",
       "\n",
       "    .dataframe thead th {\n",
       "        text-align: right;\n",
       "    }\n",
       "</style>\n",
       "<table border=\"1\" class=\"dataframe\">\n",
       "  <thead>\n",
       "    <tr style=\"text-align: right;\">\n",
       "      <th></th>\n",
       "      <th>children</th>\n",
       "      <th>days_employed</th>\n",
       "      <th>dob_years</th>\n",
       "      <th>education</th>\n",
       "      <th>education_id</th>\n",
       "      <th>family_status</th>\n",
       "      <th>family_status_id</th>\n",
       "      <th>gender</th>\n",
       "      <th>income_type</th>\n",
       "      <th>debt</th>\n",
       "      <th>total_income</th>\n",
       "      <th>purpose</th>\n",
       "      <th>age_status</th>\n",
       "      <th>alone_status</th>\n",
       "    </tr>\n",
       "  </thead>\n",
       "  <tbody>\n",
       "    <tr>\n",
       "      <td>0</td>\n",
       "      <td>1</td>\n",
       "      <td>8437</td>\n",
       "      <td>42</td>\n",
       "      <td>высшее</td>\n",
       "      <td>0</td>\n",
       "      <td>женат / замужем</td>\n",
       "      <td>0</td>\n",
       "      <td>F</td>\n",
       "      <td>сотрудник</td>\n",
       "      <td>0</td>\n",
       "      <td>253875.639453</td>\n",
       "      <td>недвижимость</td>\n",
       "      <td>средний возраст</td>\n",
       "      <td>не одинокий</td>\n",
       "    </tr>\n",
       "    <tr>\n",
       "      <td>1</td>\n",
       "      <td>1</td>\n",
       "      <td>4024</td>\n",
       "      <td>36</td>\n",
       "      <td>среднее</td>\n",
       "      <td>1</td>\n",
       "      <td>женат / замужем</td>\n",
       "      <td>0</td>\n",
       "      <td>F</td>\n",
       "      <td>сотрудник</td>\n",
       "      <td>0</td>\n",
       "      <td>112080.014102</td>\n",
       "      <td>автомобиль</td>\n",
       "      <td>средний возраст</td>\n",
       "      <td>не одинокий</td>\n",
       "    </tr>\n",
       "    <tr>\n",
       "      <td>2</td>\n",
       "      <td>0</td>\n",
       "      <td>5623</td>\n",
       "      <td>33</td>\n",
       "      <td>среднее</td>\n",
       "      <td>1</td>\n",
       "      <td>женат / замужем</td>\n",
       "      <td>0</td>\n",
       "      <td>M</td>\n",
       "      <td>сотрудник</td>\n",
       "      <td>0</td>\n",
       "      <td>145885.952297</td>\n",
       "      <td>недвижимость</td>\n",
       "      <td>молодой</td>\n",
       "      <td>не одинокий</td>\n",
       "    </tr>\n",
       "    <tr>\n",
       "      <td>3</td>\n",
       "      <td>3</td>\n",
       "      <td>4124</td>\n",
       "      <td>32</td>\n",
       "      <td>среднее</td>\n",
       "      <td>1</td>\n",
       "      <td>женат / замужем</td>\n",
       "      <td>0</td>\n",
       "      <td>M</td>\n",
       "      <td>сотрудник</td>\n",
       "      <td>0</td>\n",
       "      <td>267628.550329</td>\n",
       "      <td>образование</td>\n",
       "      <td>молодой</td>\n",
       "      <td>не одинокий</td>\n",
       "    </tr>\n",
       "    <tr>\n",
       "      <td>4</td>\n",
       "      <td>0</td>\n",
       "      <td>14177</td>\n",
       "      <td>53</td>\n",
       "      <td>среднее</td>\n",
       "      <td>1</td>\n",
       "      <td>гражданский брак</td>\n",
       "      <td>1</td>\n",
       "      <td>F</td>\n",
       "      <td>пенсионер</td>\n",
       "      <td>0</td>\n",
       "      <td>158616.077870</td>\n",
       "      <td>свадьба</td>\n",
       "      <td>средний возраст</td>\n",
       "      <td>не одинокий</td>\n",
       "    </tr>\n",
       "  </tbody>\n",
       "</table>\n",
       "</div>"
      ],
      "text/plain": [
       "   children  days_employed  dob_years education  education_id  \\\n",
       "0         1           8437         42    высшее             0   \n",
       "1         1           4024         36   среднее             1   \n",
       "2         0           5623         33   среднее             1   \n",
       "3         3           4124         32   среднее             1   \n",
       "4         0          14177         53   среднее             1   \n",
       "\n",
       "      family_status  family_status_id gender income_type  debt   total_income  \\\n",
       "0   женат / замужем                 0      F   сотрудник     0  253875.639453   \n",
       "1   женат / замужем                 0      F   сотрудник     0  112080.014102   \n",
       "2   женат / замужем                 0      M   сотрудник     0  145885.952297   \n",
       "3   женат / замужем                 0      M   сотрудник     0  267628.550329   \n",
       "4  гражданский брак                 1      F   пенсионер     0  158616.077870   \n",
       "\n",
       "        purpose       age_status alone_status  \n",
       "0  недвижимость  средний возраст  не одинокий  \n",
       "1    автомобиль  средний возраст  не одинокий  \n",
       "2  недвижимость          молодой  не одинокий  \n",
       "3   образование          молодой  не одинокий  \n",
       "4       свадьба  средний возраст  не одинокий  "
      ]
     },
     "execution_count": 47,
     "metadata": {},
     "output_type": "execute_result"
    }
   ],
   "source": [
    "bank.head()"
   ]
  },
  {
   "cell_type": "markdown",
   "metadata": {},
   "source": [
    "### Вывод"
   ]
  },
  {
   "cell_type": "markdown",
   "metadata": {},
   "source": [
    "На основании имеющихся данных удалось выделить 2 категории: первое разделение подразумевает выделение возрастных категорий по возрасту, а второе определяет, одинок человек или нет по количеству детей и семейному положению."
   ]
  },
  {
   "cell_type": "markdown",
   "metadata": {},
   "source": [
    "### Шаг 3. Ответьте на вопросы"
   ]
  },
  {
   "cell_type": "markdown",
   "metadata": {},
   "source": [
    "- Есть ли зависимость между наличием детей и возвратом кредита в срок?"
   ]
  },
  {
   "cell_type": "markdown",
   "metadata": {},
   "source": [
    "Для того, чтобы ответить на этот вопрос, разделим таблицу на 2 части по параметру `bank['children'] >0` и `bank['children'] == 0` и посмотрим на процент отданных кредитов в срок."
   ]
  },
  {
   "cell_type": "code",
   "execution_count": 48,
   "metadata": {},
   "outputs": [
    {
     "name": "stdout",
     "output_type": "stream",
     "text": [
      "Процент кредитов, не возвращенных в срок, среди семей без детей - 7.55%\n"
     ]
    }
   ],
   "source": [
    "bank_no_children = bank[bank['children'] == 0]\n",
    "grouped_no_children = bank_no_children.groupby('debt')['debt'].count()\n",
    "percent_no = grouped_no_children[1]/bank_no_children.shape[0]\n",
    "print('Процент кредитов, не возвращенных в срок, среди семей без детей - {:.2%}'.format(percent_no))"
   ]
  },
  {
   "cell_type": "code",
   "execution_count": 49,
   "metadata": {},
   "outputs": [
    {
     "name": "stdout",
     "output_type": "stream",
     "text": [
      "Процент кредитов, не возвращенных в срок, среди семей с детьми - 9.21%\n"
     ]
    }
   ],
   "source": [
    "bank_yes_children = bank[bank['children'] > 0]\n",
    "grouped_yes_children = bank_yes_children.groupby('debt')['debt'].count()\n",
    "percent_yes = grouped_yes_children[1]/bank_yes_children.shape[0]\n",
    "print('Процент кредитов, не возвращенных в срок, среди семей с детьми - {:.2%}'.format(percent_yes))"
   ]
  },
  {
   "cell_type": "markdown",
   "metadata": {},
   "source": [
    "На мой взгляд, результаты получились довольно похожими, поэтому нельзя говорить о том, что есть зависимость между наличием детей и возвратом кредита в срок."
   ]
  },
  {
   "cell_type": "markdown",
   "metadata": {},
   "source": [
    "### Вывод"
   ]
  },
  {
   "cell_type": "markdown",
   "metadata": {},
   "source": [
    "Зависимости нет."
   ]
  },
  {
   "cell_type": "markdown",
   "metadata": {},
   "source": [
    "- Есть ли зависимость между семейным положением и возвратом кредита в срок?"
   ]
  },
  {
   "cell_type": "markdown",
   "metadata": {},
   "source": [
    "Составим сводную таблицу, чтобы увидеть распределение возврата и невозврата кредита для каждого типа семейного положения."
   ]
  },
  {
   "cell_type": "code",
   "execution_count": 50,
   "metadata": {},
   "outputs": [
    {
     "data": {
      "text/html": [
       "<div>\n",
       "<style scoped>\n",
       "    .dataframe tbody tr th:only-of-type {\n",
       "        vertical-align: middle;\n",
       "    }\n",
       "\n",
       "    .dataframe tbody tr th {\n",
       "        vertical-align: top;\n",
       "    }\n",
       "\n",
       "    .dataframe thead th {\n",
       "        text-align: right;\n",
       "    }\n",
       "</style>\n",
       "<table border=\"1\" class=\"dataframe\">\n",
       "  <thead>\n",
       "    <tr style=\"text-align: right;\">\n",
       "      <th>debt</th>\n",
       "      <th>0</th>\n",
       "      <th>1</th>\n",
       "    </tr>\n",
       "    <tr>\n",
       "      <th>family_status</th>\n",
       "      <th></th>\n",
       "      <th></th>\n",
       "    </tr>\n",
       "  </thead>\n",
       "  <tbody>\n",
       "    <tr>\n",
       "      <td>Не женат / не замужем</td>\n",
       "      <td>2535</td>\n",
       "      <td>274</td>\n",
       "    </tr>\n",
       "    <tr>\n",
       "      <td>в разводе</td>\n",
       "      <td>1109</td>\n",
       "      <td>85</td>\n",
       "    </tr>\n",
       "    <tr>\n",
       "      <td>вдовец / вдова</td>\n",
       "      <td>895</td>\n",
       "      <td>63</td>\n",
       "    </tr>\n",
       "    <tr>\n",
       "      <td>гражданский брак</td>\n",
       "      <td>3760</td>\n",
       "      <td>388</td>\n",
       "    </tr>\n",
       "    <tr>\n",
       "      <td>женат / замужем</td>\n",
       "      <td>11404</td>\n",
       "      <td>931</td>\n",
       "    </tr>\n",
       "  </tbody>\n",
       "</table>\n",
       "</div>"
      ],
      "text/plain": [
       "debt                       0    1\n",
       "family_status                    \n",
       "Не женат / не замужем   2535  274\n",
       "в разводе               1109   85\n",
       "вдовец / вдова           895   63\n",
       "гражданский брак        3760  388\n",
       "женат / замужем        11404  931"
      ]
     },
     "execution_count": 50,
     "metadata": {},
     "output_type": "execute_result"
    }
   ],
   "source": [
    "bank_pivot_family = bank.pivot_table(index= 'family_status', columns = 'debt', values = 'purpose',  aggfunc = 'count')\n",
    "bank_pivot_family_res = bank_pivot_family.reset_index()"
   ]
  },
  {
   "cell_type": "markdown",
   "metadata": {},
   "source": [
    "Посчитаем отношение невозвращенных кредитов к общему числу кредитов для каждой категории."
   ]
  },
  {
   "cell_type": "code",
   "execution_count": 52,
   "metadata": {},
   "outputs": [],
   "source": [
    "bank_pivot_family_res['proportion'] = (bank_pivot_family_res[1]/(bank_pivot_family_res[0] + bank_pivot_family_res[1]))"
   ]
  },
  {
   "cell_type": "code",
   "execution_count": 53,
   "metadata": {},
   "outputs": [
    {
     "data": {
      "text/html": [
       "<div>\n",
       "<style scoped>\n",
       "    .dataframe tbody tr th:only-of-type {\n",
       "        vertical-align: middle;\n",
       "    }\n",
       "\n",
       "    .dataframe tbody tr th {\n",
       "        vertical-align: top;\n",
       "    }\n",
       "\n",
       "    .dataframe thead th {\n",
       "        text-align: right;\n",
       "    }\n",
       "</style>\n",
       "<table border=\"1\" class=\"dataframe\">\n",
       "  <thead>\n",
       "    <tr style=\"text-align: right;\">\n",
       "      <th>debt</th>\n",
       "      <th>family_status</th>\n",
       "      <th>0</th>\n",
       "      <th>1</th>\n",
       "      <th>proportion</th>\n",
       "    </tr>\n",
       "  </thead>\n",
       "  <tbody>\n",
       "    <tr>\n",
       "      <td>0</td>\n",
       "      <td>Не женат / не замужем</td>\n",
       "      <td>2535</td>\n",
       "      <td>274</td>\n",
       "      <td>0.097544</td>\n",
       "    </tr>\n",
       "    <tr>\n",
       "      <td>1</td>\n",
       "      <td>в разводе</td>\n",
       "      <td>1109</td>\n",
       "      <td>85</td>\n",
       "      <td>0.071189</td>\n",
       "    </tr>\n",
       "    <tr>\n",
       "      <td>2</td>\n",
       "      <td>вдовец / вдова</td>\n",
       "      <td>895</td>\n",
       "      <td>63</td>\n",
       "      <td>0.065762</td>\n",
       "    </tr>\n",
       "    <tr>\n",
       "      <td>3</td>\n",
       "      <td>гражданский брак</td>\n",
       "      <td>3760</td>\n",
       "      <td>388</td>\n",
       "      <td>0.093539</td>\n",
       "    </tr>\n",
       "    <tr>\n",
       "      <td>4</td>\n",
       "      <td>женат / замужем</td>\n",
       "      <td>11404</td>\n",
       "      <td>931</td>\n",
       "      <td>0.075476</td>\n",
       "    </tr>\n",
       "  </tbody>\n",
       "</table>\n",
       "</div>"
      ],
      "text/plain": [
       "debt          family_status      0    1  proportion\n",
       "0     Не женат / не замужем   2535  274    0.097544\n",
       "1                 в разводе   1109   85    0.071189\n",
       "2            вдовец / вдова    895   63    0.065762\n",
       "3          гражданский брак   3760  388    0.093539\n",
       "4           женат / замужем  11404  931    0.075476"
      ]
     },
     "execution_count": 53,
     "metadata": {},
     "output_type": "execute_result"
    }
   ],
   "source": [
    "bank_pivot_family_res"
   ]
  },
  {
   "cell_type": "code",
   "execution_count": 54,
   "metadata": {},
   "outputs": [
    {
     "name": "stdout",
     "output_type": "stream",
     "text": [
      "Процент кредитов, не возвращенных в срок, среди клиентов с семейным положением \"Не женат / не замужем\" - 9.75%\n",
      "Процент кредитов, не возвращенных в срок, среди клиентов с семейным положением \"в разводе\" - 7.12%\n",
      "Процент кредитов, не возвращенных в срок, среди клиентов с семейным положением \"вдовец / вдова\" - 6.58%\n",
      "Процент кредитов, не возвращенных в срок, среди клиентов с семейным положением \"гражданский брак\" - 9.35%\n",
      "Процент кредитов, не возвращенных в срок, среди клиентов с семейным положением \"женат / замужем\" - 7.55%\n"
     ]
    }
   ],
   "source": [
    "print('Процент кредитов, не возвращенных в срок, среди клиентов с семейным положением \"Не женат / не замужем\" - {:.2%}'.format(bank_pivot_family_res['proportion'][0]))\n",
    "print('Процент кредитов, не возвращенных в срок, среди клиентов с семейным положением \"в разводе\" - {:.2%}'.format(bank_pivot_family_res['proportion'][1]))\n",
    "print('Процент кредитов, не возвращенных в срок, среди клиентов с семейным положением \"вдовец / вдова\" - {:.2%}'.format(bank_pivot_family_res['proportion'][2]))\n",
    "print('Процент кредитов, не возвращенных в срок, среди клиентов с семейным положением \"гражданский брак\" - {:.2%}'.format(bank_pivot_family_res['proportion'][3]))\n",
    "print('Процент кредитов, не возвращенных в срок, среди клиентов с семейным положением \"женат / замужем\" - {:.2%}'.format(bank_pivot_family_res['proportion'][4]))"
   ]
  },
  {
   "cell_type": "markdown",
   "metadata": {},
   "source": [
    "Самый большой процент по невозврату долгов можно увидеть у клиентов с семейным положением \"Не женат / не замужем\" - 9.75%, самый маленький у \"вдовец / вдова\" - 6.58%. На мой взгляд, на основании полученных результатов, нельзя сказать, что существует зависимость между семейным положением и возвратом кредита в срок."
   ]
  },
  {
   "cell_type": "markdown",
   "metadata": {},
   "source": [
    "### Вывод"
   ]
  },
  {
   "cell_type": "markdown",
   "metadata": {},
   "source": [
    "Зависимости нет."
   ]
  },
  {
   "cell_type": "markdown",
   "metadata": {},
   "source": [
    "- Есть ли зависимость между уровнем дохода и возвратом кредита в срок?"
   ]
  },
  {
   "cell_type": "markdown",
   "metadata": {},
   "source": [
    "Разделим весь доход на маленький (последние 25%), средний(от 25 до 75%) и высокий(выше 75%)"
   ]
  },
  {
   "cell_type": "code",
   "execution_count": 55,
   "metadata": {},
   "outputs": [
    {
     "data": {
      "text/plain": [
       "107499.81581452076"
      ]
     },
     "execution_count": 55,
     "metadata": {},
     "output_type": "execute_result"
    }
   ],
   "source": [
    "bank['total_income'].describe()['25%']"
   ]
  },
  {
   "cell_type": "code",
   "execution_count": 56,
   "metadata": {},
   "outputs": [
    {
     "data": {
      "text/plain": [
       "195842.40622523567"
      ]
     },
     "execution_count": 56,
     "metadata": {},
     "output_type": "execute_result"
    }
   ],
   "source": [
    "bank['total_income'].describe()['75%']"
   ]
  },
  {
   "cell_type": "markdown",
   "metadata": {},
   "source": [
    "Напишем функцию, которая будет брать информацию из ячейки `data['total_income']` и на основании данных в ней выдавать категорию дохода клиента."
   ]
  },
  {
   "cell_type": "code",
   "execution_count": 57,
   "metadata": {},
   "outputs": [],
   "source": [
    "def income_level(data):\n",
    "    # в переменные income_25 и income_75 помещаем значения 25 и 75 процентных квантилей столбца 'total_income' соответственно. \n",
    "    # Их мы получили с помощью метода describe выше.\n",
    "    income_25 = 107499.81581452076\n",
    "    income_75 = 195842.40622523567\n",
    "    income = data['total_income']\n",
    "    \n",
    "    if income < income_25:\n",
    "        return 'маленький'\n",
    "    elif income > income_75:\n",
    "        return 'большой'\n",
    "    else: return 'средний'"
   ]
  },
  {
   "cell_type": "code",
   "execution_count": 58,
   "metadata": {},
   "outputs": [],
   "source": [
    "bank['income_level'] = bank.apply(income_level, axis = 1)"
   ]
  },
  {
   "cell_type": "code",
   "execution_count": 59,
   "metadata": {
    "scrolled": true
   },
   "outputs": [
    {
     "data": {
      "text/html": [
       "<div>\n",
       "<style scoped>\n",
       "    .dataframe tbody tr th:only-of-type {\n",
       "        vertical-align: middle;\n",
       "    }\n",
       "\n",
       "    .dataframe tbody tr th {\n",
       "        vertical-align: top;\n",
       "    }\n",
       "\n",
       "    .dataframe thead th {\n",
       "        text-align: right;\n",
       "    }\n",
       "</style>\n",
       "<table border=\"1\" class=\"dataframe\">\n",
       "  <thead>\n",
       "    <tr style=\"text-align: right;\">\n",
       "      <th></th>\n",
       "      <th>children</th>\n",
       "      <th>days_employed</th>\n",
       "      <th>dob_years</th>\n",
       "      <th>education</th>\n",
       "      <th>education_id</th>\n",
       "      <th>family_status</th>\n",
       "      <th>family_status_id</th>\n",
       "      <th>gender</th>\n",
       "      <th>income_type</th>\n",
       "      <th>debt</th>\n",
       "      <th>total_income</th>\n",
       "      <th>purpose</th>\n",
       "      <th>age_status</th>\n",
       "      <th>alone_status</th>\n",
       "      <th>income_level</th>\n",
       "    </tr>\n",
       "  </thead>\n",
       "  <tbody>\n",
       "    <tr>\n",
       "      <td>0</td>\n",
       "      <td>1</td>\n",
       "      <td>8437</td>\n",
       "      <td>42</td>\n",
       "      <td>высшее</td>\n",
       "      <td>0</td>\n",
       "      <td>женат / замужем</td>\n",
       "      <td>0</td>\n",
       "      <td>F</td>\n",
       "      <td>сотрудник</td>\n",
       "      <td>0</td>\n",
       "      <td>253875.639453</td>\n",
       "      <td>недвижимость</td>\n",
       "      <td>средний возраст</td>\n",
       "      <td>не одинокий</td>\n",
       "      <td>большой</td>\n",
       "    </tr>\n",
       "    <tr>\n",
       "      <td>1</td>\n",
       "      <td>1</td>\n",
       "      <td>4024</td>\n",
       "      <td>36</td>\n",
       "      <td>среднее</td>\n",
       "      <td>1</td>\n",
       "      <td>женат / замужем</td>\n",
       "      <td>0</td>\n",
       "      <td>F</td>\n",
       "      <td>сотрудник</td>\n",
       "      <td>0</td>\n",
       "      <td>112080.014102</td>\n",
       "      <td>автомобиль</td>\n",
       "      <td>средний возраст</td>\n",
       "      <td>не одинокий</td>\n",
       "      <td>средний</td>\n",
       "    </tr>\n",
       "    <tr>\n",
       "      <td>2</td>\n",
       "      <td>0</td>\n",
       "      <td>5623</td>\n",
       "      <td>33</td>\n",
       "      <td>среднее</td>\n",
       "      <td>1</td>\n",
       "      <td>женат / замужем</td>\n",
       "      <td>0</td>\n",
       "      <td>M</td>\n",
       "      <td>сотрудник</td>\n",
       "      <td>0</td>\n",
       "      <td>145885.952297</td>\n",
       "      <td>недвижимость</td>\n",
       "      <td>молодой</td>\n",
       "      <td>не одинокий</td>\n",
       "      <td>средний</td>\n",
       "    </tr>\n",
       "    <tr>\n",
       "      <td>3</td>\n",
       "      <td>3</td>\n",
       "      <td>4124</td>\n",
       "      <td>32</td>\n",
       "      <td>среднее</td>\n",
       "      <td>1</td>\n",
       "      <td>женат / замужем</td>\n",
       "      <td>0</td>\n",
       "      <td>M</td>\n",
       "      <td>сотрудник</td>\n",
       "      <td>0</td>\n",
       "      <td>267628.550329</td>\n",
       "      <td>образование</td>\n",
       "      <td>молодой</td>\n",
       "      <td>не одинокий</td>\n",
       "      <td>большой</td>\n",
       "    </tr>\n",
       "    <tr>\n",
       "      <td>4</td>\n",
       "      <td>0</td>\n",
       "      <td>14177</td>\n",
       "      <td>53</td>\n",
       "      <td>среднее</td>\n",
       "      <td>1</td>\n",
       "      <td>гражданский брак</td>\n",
       "      <td>1</td>\n",
       "      <td>F</td>\n",
       "      <td>пенсионер</td>\n",
       "      <td>0</td>\n",
       "      <td>158616.077870</td>\n",
       "      <td>свадьба</td>\n",
       "      <td>средний возраст</td>\n",
       "      <td>не одинокий</td>\n",
       "      <td>средний</td>\n",
       "    </tr>\n",
       "  </tbody>\n",
       "</table>\n",
       "</div>"
      ],
      "text/plain": [
       "   children  days_employed  dob_years education  education_id  \\\n",
       "0         1           8437         42    высшее             0   \n",
       "1         1           4024         36   среднее             1   \n",
       "2         0           5623         33   среднее             1   \n",
       "3         3           4124         32   среднее             1   \n",
       "4         0          14177         53   среднее             1   \n",
       "\n",
       "      family_status  family_status_id gender income_type  debt   total_income  \\\n",
       "0   женат / замужем                 0      F   сотрудник     0  253875.639453   \n",
       "1   женат / замужем                 0      F   сотрудник     0  112080.014102   \n",
       "2   женат / замужем                 0      M   сотрудник     0  145885.952297   \n",
       "3   женат / замужем                 0      M   сотрудник     0  267628.550329   \n",
       "4  гражданский брак                 1      F   пенсионер     0  158616.077870   \n",
       "\n",
       "        purpose       age_status alone_status income_level  \n",
       "0  недвижимость  средний возраст  не одинокий      большой  \n",
       "1    автомобиль  средний возраст  не одинокий      средний  \n",
       "2  недвижимость          молодой  не одинокий      средний  \n",
       "3   образование          молодой  не одинокий      большой  \n",
       "4       свадьба  средний возраст  не одинокий      средний  "
      ]
     },
     "execution_count": 59,
     "metadata": {},
     "output_type": "execute_result"
    }
   ],
   "source": [
    "bank.head()"
   ]
  },
  {
   "cell_type": "markdown",
   "metadata": {},
   "source": [
    "Теперь сгруппируем данные по уровню дохода и посмотрим на процент кредитов, не отданных в срок."
   ]
  },
  {
   "cell_type": "code",
   "execution_count": 70,
   "metadata": {},
   "outputs": [
    {
     "name": "stdout",
     "output_type": "stream",
     "text": [
      "Процент кредитов, не возвращенных в срок, среди клиентов с маленьким достатком - 7.96%\n"
     ]
    }
   ],
   "source": [
    "bank_low_income = bank[bank['income_level'] == 'маленький']\n",
    "grouped_low_income = bank_low_income.groupby('debt')['debt'].count()\n",
    "percent_low_income = grouped_low_income[1]/bank_low_income.shape[0]\n",
    "print('Процент кредитов, не возвращенных в срок, среди клиентов с маленьким достатком - {:.2%}'.format(percent_low_income))"
   ]
  },
  {
   "cell_type": "code",
   "execution_count": 61,
   "metadata": {},
   "outputs": [
    {
     "name": "stdout",
     "output_type": "stream",
     "text": [
      "Процент кредитов, не возвращенных в срок, среди клиентов со средним достатком - 8.68%\n"
     ]
    }
   ],
   "source": [
    "bank_middle_income = bank[bank['income_level'] == 'средний']\n",
    "grouped_middle_income = bank_middle_income.groupby('debt')['debt'].count()\n",
    "percent_middle_income = grouped_middle_income[1]/bank_middle_income.shape[0]\n",
    "print('Процент кредитов, не возвращенных в срок, среди клиентов со средним достатком - {:.2%}'.format(percent_middle_income))"
   ]
  },
  {
   "cell_type": "code",
   "execution_count": 62,
   "metadata": {},
   "outputs": [
    {
     "name": "stdout",
     "output_type": "stream",
     "text": [
      "Процент кредитов, не возвращенных в срок, среди клиентов с большим достатком - 7.14%\n"
     ]
    }
   ],
   "source": [
    "bank_big_income = bank[bank['income_level'] == 'большой']\n",
    "grouped_big_income = bank_big_income.groupby('debt')['debt'].count()\n",
    "percent_big_income = grouped_big_income[1]/bank_big_income.shape[0]\n",
    "print('Процент кредитов, не возвращенных в срок, среди клиентов с большим достатком - {:.2%}'.format(percent_big_income))"
   ]
  },
  {
   "cell_type": "markdown",
   "metadata": {},
   "source": [
    "Хуже всего возвращают кредит люди со средним достатком - 8.68% невозвращенных кредитов. Меньше просрочек у людей с высоким достатком - 7.14%. Но говорить о качественных различиях не приходится, поэтому на основании полученных результатов нельзя сделать вывод, что есть зависимость между уровнем дохода и возвратом кредита в срок."
   ]
  },
  {
   "cell_type": "markdown",
   "metadata": {},
   "source": [
    "### Вывод"
   ]
  },
  {
   "cell_type": "markdown",
   "metadata": {},
   "source": [
    "Зависимости нет."
   ]
  },
  {
   "cell_type": "markdown",
   "metadata": {},
   "source": [
    "- Как разные цели кредита влияют на его возврат в срок?"
   ]
  },
  {
   "cell_type": "markdown",
   "metadata": {},
   "source": [
    "Составим сводную таблицу, чтобы увидеть распределение возврата и невозврата кредита для каждой цели взятия кредита."
   ]
  },
  {
   "cell_type": "code",
   "execution_count": 65,
   "metadata": {},
   "outputs": [
    {
     "data": {
      "text/html": [
       "<div>\n",
       "<style scoped>\n",
       "    .dataframe tbody tr th:only-of-type {\n",
       "        vertical-align: middle;\n",
       "    }\n",
       "\n",
       "    .dataframe tbody tr th {\n",
       "        vertical-align: top;\n",
       "    }\n",
       "\n",
       "    .dataframe thead th {\n",
       "        text-align: right;\n",
       "    }\n",
       "</style>\n",
       "<table border=\"1\" class=\"dataframe\">\n",
       "  <thead>\n",
       "    <tr style=\"text-align: right;\">\n",
       "      <th>debt</th>\n",
       "      <th>0</th>\n",
       "      <th>1</th>\n",
       "    </tr>\n",
       "    <tr>\n",
       "      <th>purpose</th>\n",
       "      <th></th>\n",
       "      <th></th>\n",
       "    </tr>\n",
       "  </thead>\n",
       "  <tbody>\n",
       "    <tr>\n",
       "      <td>автомобиль</td>\n",
       "      <td>3903</td>\n",
       "      <td>403</td>\n",
       "    </tr>\n",
       "    <tr>\n",
       "      <td>недвижимость</td>\n",
       "      <td>10021</td>\n",
       "      <td>782</td>\n",
       "    </tr>\n",
       "    <tr>\n",
       "      <td>образование</td>\n",
       "      <td>3643</td>\n",
       "      <td>370</td>\n",
       "    </tr>\n",
       "    <tr>\n",
       "      <td>свадьба</td>\n",
       "      <td>2136</td>\n",
       "      <td>186</td>\n",
       "    </tr>\n",
       "  </tbody>\n",
       "</table>\n",
       "</div>"
      ],
      "text/plain": [
       "debt              0    1\n",
       "purpose                 \n",
       "автомобиль     3903  403\n",
       "недвижимость  10021  782\n",
       "образование    3643  370\n",
       "свадьба        2136  186"
      ]
     },
     "execution_count": 65,
     "metadata": {},
     "output_type": "execute_result"
    }
   ],
   "source": [
    "bank_pivot_purpose = bank.pivot_table(index= 'purpose', columns = 'debt', values = 'education_id',  aggfunc = 'count')\n",
    "bank_pivot_purpose_res = bank_pivot_purpose.reset_index()"
   ]
  },
  {
   "cell_type": "markdown",
   "metadata": {},
   "source": [
    "Посчитаем отношение невозвращенных кредитов к общему числу кредитов для каждой категории."
   ]
  },
  {
   "cell_type": "code",
   "execution_count": 67,
   "metadata": {},
   "outputs": [],
   "source": [
    "bank_pivot_purpose_res['proportion'] = (bank_pivot_purpose_res[1]/(bank_pivot_purpose_res[0] + bank_pivot_purpose_res[1]))"
   ]
  },
  {
   "cell_type": "code",
   "execution_count": 68,
   "metadata": {},
   "outputs": [
    {
     "data": {
      "text/html": [
       "<div>\n",
       "<style scoped>\n",
       "    .dataframe tbody tr th:only-of-type {\n",
       "        vertical-align: middle;\n",
       "    }\n",
       "\n",
       "    .dataframe tbody tr th {\n",
       "        vertical-align: top;\n",
       "    }\n",
       "\n",
       "    .dataframe thead th {\n",
       "        text-align: right;\n",
       "    }\n",
       "</style>\n",
       "<table border=\"1\" class=\"dataframe\">\n",
       "  <thead>\n",
       "    <tr style=\"text-align: right;\">\n",
       "      <th>debt</th>\n",
       "      <th>purpose</th>\n",
       "      <th>0</th>\n",
       "      <th>1</th>\n",
       "      <th>proportion</th>\n",
       "    </tr>\n",
       "  </thead>\n",
       "  <tbody>\n",
       "    <tr>\n",
       "      <td>0</td>\n",
       "      <td>автомобиль</td>\n",
       "      <td>3903</td>\n",
       "      <td>403</td>\n",
       "      <td>0.093590</td>\n",
       "    </tr>\n",
       "    <tr>\n",
       "      <td>1</td>\n",
       "      <td>недвижимость</td>\n",
       "      <td>10021</td>\n",
       "      <td>782</td>\n",
       "      <td>0.072387</td>\n",
       "    </tr>\n",
       "    <tr>\n",
       "      <td>2</td>\n",
       "      <td>образование</td>\n",
       "      <td>3643</td>\n",
       "      <td>370</td>\n",
       "      <td>0.092200</td>\n",
       "    </tr>\n",
       "    <tr>\n",
       "      <td>3</td>\n",
       "      <td>свадьба</td>\n",
       "      <td>2136</td>\n",
       "      <td>186</td>\n",
       "      <td>0.080103</td>\n",
       "    </tr>\n",
       "  </tbody>\n",
       "</table>\n",
       "</div>"
      ],
      "text/plain": [
       "debt       purpose      0    1  proportion\n",
       "0       автомобиль   3903  403    0.093590\n",
       "1     недвижимость  10021  782    0.072387\n",
       "2      образование   3643  370    0.092200\n",
       "3          свадьба   2136  186    0.080103"
      ]
     },
     "execution_count": 68,
     "metadata": {},
     "output_type": "execute_result"
    }
   ],
   "source": [
    "bank_pivot_purpose_res"
   ]
  },
  {
   "cell_type": "code",
   "execution_count": 69,
   "metadata": {},
   "outputs": [
    {
     "name": "stdout",
     "output_type": "stream",
     "text": [
      "Процент кредитов, не возвращенных в срок, имевших цель \"автомобиль\" - 9.75%\n",
      "Процент кредитов, не возвращенных в срок, имевших цель \"недвижимость\" - 7.12%\n",
      "Процент кредитов, не возвращенных в срок, имевших цель \"образование\" - 6.58%\n",
      "Процент кредитов, не возвращенных в срок, имевших цель \"свадьба\" - 9.35%\n"
     ]
    }
   ],
   "source": [
    "print('Процент кредитов, не возвращенных в срок, имевших цель \"автомобиль\" - {:.2%}'.format(bank_pivot_family_res['proportion'][0]))\n",
    "print('Процент кредитов, не возвращенных в срок, имевших цель \"недвижимость\" - {:.2%}'.format(bank_pivot_family_res['proportion'][1]))\n",
    "print('Процент кредитов, не возвращенных в срок, имевших цель \"образование\" - {:.2%}'.format(bank_pivot_family_res['proportion'][2]))\n",
    "print('Процент кредитов, не возвращенных в срок, имевших цель \"свадьба\" - {:.2%}'.format(bank_pivot_family_res['proportion'][3]))"
   ]
  },
  {
   "cell_type": "markdown",
   "metadata": {},
   "source": [
    "По получившимся данным можно сделать вывод, что чаще кредит возвращают вовремя те, кто брал его на образование, а больше задержек у тех, кто брал деньги на автомобиль. Но говорить о том, что различия этих результат достаточно большие, я не могу. Возможно, это лишь частный случай. Поэтому, я бы сказал, что основываясь на наших данных, нельзя сделать вывод о том, что цель кредита оказывает влияние на возврат кредита в срок."
   ]
  },
  {
   "cell_type": "markdown",
   "metadata": {},
   "source": [
    "### Вывод"
   ]
  },
  {
   "cell_type": "markdown",
   "metadata": {},
   "source": [
    "Цели кредита не оказывают влияние на возврат кредита в срок."
   ]
  },
  {
   "cell_type": "markdown",
   "metadata": {},
   "source": [
    "### Шаг 4. Общий вывод"
   ]
  },
  {
   "cell_type": "markdown",
   "metadata": {},
   "source": [
    "Был исследован датафрейм с информацией по клиентам банка, берущим в нем кредит. В ходе исследования пришлось столкнуться со множеством проблем, так как данные оказались 'сырыми'. Были исправлены такие недочеты как пустые значения, отрицательные значения, неверный тип данных, аномальные значения, дубликаты. Кроме того, была проведена лемматизация целей получения кредита, что позволило выделить основные цели получения кредита.\n",
    "Был проведен анализ зависимости выплаты кредита в срок от разных категорий данных. К сожалению, не удалось выявить зависимость между какой - либо категорией данных и выплатой кредита в срок."
   ]
  }
 ],
 "metadata": {
  "kernelspec": {
   "display_name": "Python 3",
   "language": "python",
   "name": "python3"
  },
  "language_info": {
   "codemirror_mode": {
    "name": "ipython",
    "version": 3
   },
   "file_extension": ".py",
   "mimetype": "text/x-python",
   "name": "python",
   "nbconvert_exporter": "python",
   "pygments_lexer": "ipython3",
   "version": "3.7.4"
  }
 },
 "nbformat": 4,
 "nbformat_minor": 2
}
