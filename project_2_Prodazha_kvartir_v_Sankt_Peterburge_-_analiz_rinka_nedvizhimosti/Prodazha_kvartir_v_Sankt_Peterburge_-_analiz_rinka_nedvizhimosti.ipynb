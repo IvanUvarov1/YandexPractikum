{
 "cells": [
  {
   "cell_type": "markdown",
   "metadata": {},
   "source": [
    "# Исследование объявлений о продаже квартир\n",
    "\n",
    "Имеются данные сервиса Яндекс.Недвижимость о продаже квартир в Санкт-Петербурге и близлежащих районов. Нужно научиться определять рыночную стоимость объектов недвижимости."
   ]
  },
  {
   "cell_type": "markdown",
   "metadata": {},
   "source": [
    "# Описание данных\n",
    "\n",
    "- airports_nearest — расстояние до ближайшего аэропорта в метрах (м)\n",
    "- balcony — число балконов\n",
    "- ceiling_height — высота потолков (м)\n",
    "- cityCenters_nearest — расстояние до центра города (м)\n",
    "- days_exposition — сколько дней было размещено объявление (от публикации до снятия)\n",
    "- first_day_exposition — дата публикации\n",
    "- floor — этаж\n",
    "- floors_total — всего этажей в доме\n",
    "- is_apartment — апартаменты (булев тип)\n",
    "- kitchen_area — площадь кухни в квадратных метрах (м²)\n",
    "- last_price — цена на момент снятия с публикации\n",
    "- living_area — жилая площадь в квадратных метрах(м²)\n",
    "- locality_name — название населённого пункта\n",
    "- open_plan — свободная планировка (булев тип)\n",
    "- parks_around3000 — число парков в радиусе 3 км\n",
    "- parks_nearest — расстояние до ближайшего парка (м)\n",
    "- ponds_around3000 — число водоёмов в радиусе 3 км\n",
    "- ponds_nearest — расстояние до ближайшего водоёма (м)\n",
    "- rooms — число комнат\n",
    "- studio — квартира-студия (булев тип)\n",
    "- total_area — площадь квартиры в квадратных метрах (м²)\n",
    "- total_images — число фотографий квартиры в объявлении"
   ]
  },
  {
   "cell_type": "markdown",
   "metadata": {},
   "source": [
    "### Шаг 1. Откройте файл с данными и изучите общую информацию. "
   ]
  },
  {
   "cell_type": "code",
   "execution_count": 344,
   "metadata": {},
   "outputs": [],
   "source": [
    "import pandas as pd\n",
    "import matplotlib.pyplot as plt\n",
    "import numpy as np\n",
    "from datetime import datetime"
   ]
  },
  {
   "cell_type": "markdown",
   "metadata": {},
   "source": [
    "Используем метод info(), чтобы посмотреть, в каких столбцах присутствуют пропуски."
   ]
  },
  {
   "cell_type": "code",
   "execution_count": 346,
   "metadata": {},
   "outputs": [
    {
     "name": "stdout",
     "output_type": "stream",
     "text": [
      "<class 'pandas.core.frame.DataFrame'>\n",
      "RangeIndex: 23699 entries, 0 to 23698\n",
      "Data columns (total 22 columns):\n",
      "total_images            23699 non-null int64\n",
      "last_price              23699 non-null float64\n",
      "total_area              23699 non-null float64\n",
      "first_day_exposition    23699 non-null object\n",
      "rooms                   23699 non-null int64\n",
      "ceiling_height          14504 non-null float64\n",
      "floors_total            23613 non-null float64\n",
      "living_area             21796 non-null float64\n",
      "floor                   23699 non-null int64\n",
      "is_apartment            2775 non-null object\n",
      "studio                  23699 non-null bool\n",
      "open_plan               23699 non-null bool\n",
      "kitchen_area            21421 non-null float64\n",
      "balcony                 12180 non-null float64\n",
      "locality_name           23650 non-null object\n",
      "airports_nearest        18157 non-null float64\n",
      "cityCenters_nearest     18180 non-null float64\n",
      "parks_around3000        18181 non-null float64\n",
      "parks_nearest           8079 non-null float64\n",
      "ponds_around3000        18181 non-null float64\n",
      "ponds_nearest           9110 non-null float64\n",
      "days_exposition         20518 non-null float64\n",
      "dtypes: bool(2), float64(14), int64(3), object(3)\n",
      "memory usage: 3.7+ MB\n"
     ]
    }
   ],
   "source": [
    "data.info()"
   ]
  },
  {
   "cell_type": "markdown",
   "metadata": {},
   "source": [
    "### Вывод"
   ]
  },
  {
   "cell_type": "markdown",
   "metadata": {},
   "source": [
    "В первом шаге мы рассмотрели датасет на наличие пропусков. В следующем шаге будем разбираться, какие пропуски можно заполнить, а какие нет."
   ]
  },
  {
   "cell_type": "markdown",
   "metadata": {},
   "source": [
    "### Шаг 2. Предобработка данных"
   ]
  },
  {
   "cell_type": "markdown",
   "metadata": {},
   "source": [
    "Изучим каждый признак, в котором есть пропущенные значения."
   ]
  },
  {
   "cell_type": "markdown",
   "metadata": {},
   "source": [
    "`ceiling_height`. К сожалению, исходя из имеющихся данных, я не вижу возможности дать точную оценку высоте потолков. Если бы можно было найти данные из других квартир этого же дома, то можно было заменить медианным значением, но в наших данных такой возможности нет, поэтому оставим пропуски на месте."
   ]
  },
  {
   "cell_type": "markdown",
   "metadata": {},
   "source": [
    "`floors_total` Тоже нельзя достоверно определить этаж, поэтому оставим пропуски как они есть."
   ]
  },
  {
   "cell_type": "markdown",
   "metadata": {},
   "source": [
    "`living_area` заменим пропуски медианным значением для количества комнат."
   ]
  },
  {
   "cell_type": "code",
   "execution_count": 347,
   "metadata": {},
   "outputs": [
    {
     "data": {
      "text/html": [
       "<div>\n",
       "<style scoped>\n",
       "    .dataframe tbody tr th:only-of-type {\n",
       "        vertical-align: middle;\n",
       "    }\n",
       "\n",
       "    .dataframe tbody tr th {\n",
       "        vertical-align: top;\n",
       "    }\n",
       "\n",
       "    .dataframe thead th {\n",
       "        text-align: right;\n",
       "    }\n",
       "</style>\n",
       "<table border=\"1\" class=\"dataframe\">\n",
       "  <thead>\n",
       "    <tr style=\"text-align: right;\">\n",
       "      <th></th>\n",
       "      <th>living_area</th>\n",
       "    </tr>\n",
       "    <tr>\n",
       "      <th>rooms</th>\n",
       "      <th></th>\n",
       "    </tr>\n",
       "  </thead>\n",
       "  <tbody>\n",
       "    <tr>\n",
       "      <td>0</td>\n",
       "      <td>18.000</td>\n",
       "    </tr>\n",
       "    <tr>\n",
       "      <td>1</td>\n",
       "      <td>17.600</td>\n",
       "    </tr>\n",
       "    <tr>\n",
       "      <td>2</td>\n",
       "      <td>30.500</td>\n",
       "    </tr>\n",
       "    <tr>\n",
       "      <td>3</td>\n",
       "      <td>45.000</td>\n",
       "    </tr>\n",
       "    <tr>\n",
       "      <td>4</td>\n",
       "      <td>63.600</td>\n",
       "    </tr>\n",
       "    <tr>\n",
       "      <td>5</td>\n",
       "      <td>91.785</td>\n",
       "    </tr>\n",
       "    <tr>\n",
       "      <td>6</td>\n",
       "      <td>123.900</td>\n",
       "    </tr>\n",
       "    <tr>\n",
       "      <td>7</td>\n",
       "      <td>145.000</td>\n",
       "    </tr>\n",
       "    <tr>\n",
       "      <td>8</td>\n",
       "      <td>161.000</td>\n",
       "    </tr>\n",
       "    <tr>\n",
       "      <td>9</td>\n",
       "      <td>179.200</td>\n",
       "    </tr>\n",
       "    <tr>\n",
       "      <td>10</td>\n",
       "      <td>161.400</td>\n",
       "    </tr>\n",
       "    <tr>\n",
       "      <td>11</td>\n",
       "      <td>133.900</td>\n",
       "    </tr>\n",
       "    <tr>\n",
       "      <td>12</td>\n",
       "      <td>409.700</td>\n",
       "    </tr>\n",
       "    <tr>\n",
       "      <td>14</td>\n",
       "      <td>195.150</td>\n",
       "    </tr>\n",
       "    <tr>\n",
       "      <td>15</td>\n",
       "      <td>409.000</td>\n",
       "    </tr>\n",
       "    <tr>\n",
       "      <td>16</td>\n",
       "      <td>180.000</td>\n",
       "    </tr>\n",
       "    <tr>\n",
       "      <td>19</td>\n",
       "      <td>264.500</td>\n",
       "    </tr>\n",
       "  </tbody>\n",
       "</table>\n",
       "</div>"
      ],
      "text/plain": [
       "       living_area\n",
       "rooms             \n",
       "0           18.000\n",
       "1           17.600\n",
       "2           30.500\n",
       "3           45.000\n",
       "4           63.600\n",
       "5           91.785\n",
       "6          123.900\n",
       "7          145.000\n",
       "8          161.000\n",
       "9          179.200\n",
       "10         161.400\n",
       "11         133.900\n",
       "12         409.700\n",
       "14         195.150\n",
       "15         409.000\n",
       "16         180.000\n",
       "19         264.500"
      ]
     },
     "execution_count": 347,
     "metadata": {},
     "output_type": "execute_result"
    }
   ],
   "source": [
    "living_rooms_median = data.pivot_table(index = 'rooms', values = 'living_area', aggfunc = 'median')\n",
    "living_rooms_median"
   ]
  },
  {
   "cell_type": "code",
   "execution_count": 348,
   "metadata": {},
   "outputs": [],
   "source": [
    "living_rooms_median = data.pivot_table(index = 'rooms', values = 'living_area', aggfunc = 'median')\n",
    " \n",
    "for room in living_rooms_median.index:\n",
    "    data.loc[data['rooms'] == room,'living_area']=data.loc[data['rooms'] == room,'living_area'].fillna(living_rooms_median.loc[room, 'living_area'])"
   ]
  },
  {
   "cell_type": "markdown",
   "metadata": {},
   "source": [
    "`is_apartment`\n",
    "Предположим, что пропуски в данном признаке связаны с тем, что люди, имеющие квартиру, просто не указали, что она не является апартаментом. Ведь если помещение все же является апартаментом, то это один из главных его признаков, забыть указать который - сложно. Поэтому приравняем все пропуски к False."
   ]
  },
  {
   "cell_type": "code",
   "execution_count": 349,
   "metadata": {},
   "outputs": [],
   "source": [
    "data.loc[pd.isna(data['is_apartment']), 'is_apartment'] = False"
   ]
  },
  {
   "cell_type": "markdown",
   "metadata": {},
   "source": [
    "`kitchen_area`\n",
    "Для того, чтобы восстановить пропуски в этом признаке, введем такой параметр как 'отношение площади кухни к общей площади'."
   ]
  },
  {
   "cell_type": "code",
   "execution_count": 350,
   "metadata": {},
   "outputs": [],
   "source": [
    "data['kitchen_to_total'] = data['kitchen_area']/data['total_area']"
   ]
  },
  {
   "cell_type": "markdown",
   "metadata": {},
   "source": [
    "Посмотрим, какие результаты получились в этом столбце."
   ]
  },
  {
   "cell_type": "code",
   "execution_count": 351,
   "metadata": {},
   "outputs": [
    {
     "data": {
      "text/plain": [
       "count    21421.000000\n",
       "mean         0.187355\n",
       "std          0.072968\n",
       "min          0.025381\n",
       "25%          0.133333\n",
       "50%          0.172414\n",
       "75%          0.232416\n",
       "max          0.787879\n",
       "Name: kitchen_to_total, dtype: float64"
      ]
     },
     "execution_count": 351,
     "metadata": {},
     "output_type": "execute_result"
    }
   ],
   "source": [
    "data['kitchen_to_total'].describe()"
   ]
  },
  {
   "cell_type": "markdown",
   "metadata": {},
   "source": [
    "Для восстановления пропущенных данных в `kitchen_area` будем умножать `total_area` на медианное значение доли кухни в квартире - 0.172414"
   ]
  },
  {
   "cell_type": "code",
   "execution_count": 352,
   "metadata": {},
   "outputs": [],
   "source": [
    "med_kitchen = data['kitchen_to_total'].describe()['50%']"
   ]
  },
  {
   "cell_type": "code",
   "execution_count": 353,
   "metadata": {},
   "outputs": [],
   "source": [
    "data.loc[pd.isna(data['kitchen_area']), 'kitchen_area'] = data[pd.isna(data['kitchen_area'])]['total_area'] * med_kitchen"
   ]
  },
  {
   "cell_type": "markdown",
   "metadata": {},
   "source": [
    "`balcony`\n",
    "Предположим, что пропуски в данном признаке связаны с тем, что некоторые клиенты, у которых нет балкона в квартире, просто не указали данный факт, то есть, приравняем все пропуски к 0."
   ]
  },
  {
   "cell_type": "code",
   "execution_count": 354,
   "metadata": {},
   "outputs": [],
   "source": [
    "data.loc[pd.isna(data['balcony']), 'balcony'] = 0"
   ]
  },
  {
   "cell_type": "markdown",
   "metadata": {},
   "source": [
    "`locality_name` Пропуски в данном признаке тоже оставим на месте, так как не вижу вариантов, чтобы можно было точно восстановить название района."
   ]
  },
  {
   "cell_type": "markdown",
   "metadata": {},
   "source": [
    "`airports_nearest`,\n",
    "`cityCenters_nearest`,\n",
    "`parks_around3000`,\n",
    "`parks_nearest`,\n",
    "`ponds_around3000`,\n",
    "`ponds_nearest`\n",
    "\n",
    "Я собрал все эти признаки вместе, потому что у них есть общий признак - они описывают местоположение квартиры через отношение к другим объектам. К сожалению, правильно оценить эти признаки без знания точных координат объекта очень тяжело(медианные и прочие значения здесь использовать, на мой взгляд, нельзя, так как даже малейшие отличия с реальным местоположением квартиры может сильно исказить признаки). Возникнуть эти пропуски могли из - за некорректного отображения адреса на карте, возможно по заданному адресу не получилось найти дом на карте, поэтому автоматические данные не были сгенерированны. Пропуски в данных признаках остнутся нетронутыми."
   ]
  },
  {
   "cell_type": "markdown",
   "metadata": {},
   "source": [
    "`days_exposition`\n",
    "Данный признак можно было бы восстановить, если бы мы знали день вывески объявления(что есть) и день закрытия объявления(чего нет). Можно предположить, что пропуски в данном признаке вызваны тем, что объявления, имеющие пропуск в данном признаке, еще не были закрыты на момент получения данной базы данных. Но дата получения неизвестна, поэтому пропуски останутся незаполненными."
   ]
  },
  {
   "cell_type": "markdown",
   "metadata": {},
   "source": [
    "Теперь взглянем на признаки, которым надо изменить тип данных."
   ]
  },
  {
   "cell_type": "markdown",
   "metadata": {},
   "source": [
    "`floors_total`, `balcony`, `parks_around3000`, `ponds_around3000`, `days_exposition`\n",
    "Все эти данные должны иметь тип данных integer, так как они описывают целочисленные явления. Но, так как во всех признаках, кроме `balcony`, есть пропуски, то можем поменять тип только в `balcony`."
   ]
  },
  {
   "cell_type": "code",
   "execution_count": 355,
   "metadata": {},
   "outputs": [],
   "source": [
    "data['balcony'] = data['balcony'].astype('int')"
   ]
  },
  {
   "cell_type": "markdown",
   "metadata": {},
   "source": [
    "### Вывод"
   ]
  },
  {
   "cell_type": "markdown",
   "metadata": {},
   "source": [
    "В данном шаге мы убрали пропуски, где это было возможно. Также были изменен тип данных у признаков, которые требовали изменения и не имели пропусков."
   ]
  },
  {
   "cell_type": "markdown",
   "metadata": {},
   "source": [
    "### Шаг 3. Посчитайте и добавьте в таблицу"
   ]
  },
  {
   "cell_type": "markdown",
   "metadata": {},
   "source": [
    "*цену квадратного метра*"
   ]
  },
  {
   "cell_type": "code",
   "execution_count": 356,
   "metadata": {},
   "outputs": [],
   "source": [
    "data['meter_cost'] = data['last_price']/data['total_area']"
   ]
  },
  {
   "cell_type": "markdown",
   "metadata": {},
   "source": [
    "*время в формате unix(это потребуется в дальнейшем)*"
   ]
  },
  {
   "cell_type": "code",
   "execution_count": 357,
   "metadata": {},
   "outputs": [],
   "source": [
    "def time_to_timestamp(date):\n",
    "    dt = datetime.strptime(date,'%Y-%m-%dT%H:%M:%S')\n",
    "    return dt.timestamp()"
   ]
  },
  {
   "cell_type": "code",
   "execution_count": 358,
   "metadata": {},
   "outputs": [],
   "source": [
    "data['tmp'] = data['first_day_exposition'].apply(time_to_timestamp)"
   ]
  },
  {
   "cell_type": "markdown",
   "metadata": {},
   "source": [
    "*день недели, месяц и год публикации объявления*"
   ]
  },
  {
   "cell_type": "code",
   "execution_count": 359,
   "metadata": {},
   "outputs": [],
   "source": [
    "data['first_day_exposition'] = pd.to_datetime(data['first_day_exposition'], format=('%Y-%m-%dT%H:%M:%S'))\n",
    "data['weekday'] = data['first_day_exposition'].dt.weekday\n",
    "data['month'] = data['first_day_exposition'].dt.month\n",
    "data['year'] = data['first_day_exposition'].dt.year"
   ]
  },
  {
   "cell_type": "markdown",
   "metadata": {},
   "source": [
    "*этаж квартиры; варианты — первый, последний, другой*"
   ]
  },
  {
   "cell_type": "code",
   "execution_count": 360,
   "metadata": {},
   "outputs": [],
   "source": [
    "def floor(data):\n",
    "    if data['floor'] == 1:\n",
    "        return 'Первый'\n",
    "    elif data['floor'] == data['floors_total']:\n",
    "        return 'Последний'\n",
    "    else: return 'Другой'"
   ]
  },
  {
   "cell_type": "code",
   "execution_count": 361,
   "metadata": {},
   "outputs": [],
   "source": [
    "data['first_or_last_floor'] = data.apply(floor, axis = 1)"
   ]
  },
  {
   "cell_type": "code",
   "execution_count": 362,
   "metadata": {},
   "outputs": [
    {
     "data": {
      "text/html": [
       "<div>\n",
       "<style scoped>\n",
       "    .dataframe tbody tr th:only-of-type {\n",
       "        vertical-align: middle;\n",
       "    }\n",
       "\n",
       "    .dataframe tbody tr th {\n",
       "        vertical-align: top;\n",
       "    }\n",
       "\n",
       "    .dataframe thead th {\n",
       "        text-align: right;\n",
       "    }\n",
       "</style>\n",
       "<table border=\"1\" class=\"dataframe\">\n",
       "  <thead>\n",
       "    <tr style=\"text-align: right;\">\n",
       "      <th></th>\n",
       "      <th>total_images</th>\n",
       "      <th>last_price</th>\n",
       "      <th>total_area</th>\n",
       "      <th>first_day_exposition</th>\n",
       "      <th>rooms</th>\n",
       "      <th>ceiling_height</th>\n",
       "      <th>floors_total</th>\n",
       "      <th>living_area</th>\n",
       "      <th>floor</th>\n",
       "      <th>is_apartment</th>\n",
       "      <th>...</th>\n",
       "      <th>ponds_around3000</th>\n",
       "      <th>ponds_nearest</th>\n",
       "      <th>days_exposition</th>\n",
       "      <th>kitchen_to_total</th>\n",
       "      <th>meter_cost</th>\n",
       "      <th>tmp</th>\n",
       "      <th>weekday</th>\n",
       "      <th>month</th>\n",
       "      <th>year</th>\n",
       "      <th>first_or_last_floor</th>\n",
       "    </tr>\n",
       "  </thead>\n",
       "  <tbody>\n",
       "    <tr>\n",
       "      <td>12</td>\n",
       "      <td>10</td>\n",
       "      <td>3890000.0</td>\n",
       "      <td>54.0</td>\n",
       "      <td>2016-06-30</td>\n",
       "      <td>2</td>\n",
       "      <td>NaN</td>\n",
       "      <td>5.0</td>\n",
       "      <td>30.0</td>\n",
       "      <td>5</td>\n",
       "      <td>False</td>\n",
       "      <td>...</td>\n",
       "      <td>NaN</td>\n",
       "      <td>NaN</td>\n",
       "      <td>90.0</td>\n",
       "      <td>0.166667</td>\n",
       "      <td>72037.037037</td>\n",
       "      <td>1.467245e+09</td>\n",
       "      <td>3</td>\n",
       "      <td>6</td>\n",
       "      <td>2016</td>\n",
       "      <td>Последний</td>\n",
       "    </tr>\n",
       "    <tr>\n",
       "      <td>13</td>\n",
       "      <td>20</td>\n",
       "      <td>3550000.0</td>\n",
       "      <td>42.8</td>\n",
       "      <td>2017-07-01</td>\n",
       "      <td>2</td>\n",
       "      <td>2.56</td>\n",
       "      <td>5.0</td>\n",
       "      <td>27.0</td>\n",
       "      <td>5</td>\n",
       "      <td>False</td>\n",
       "      <td>...</td>\n",
       "      <td>3.0</td>\n",
       "      <td>298.0</td>\n",
       "      <td>366.0</td>\n",
       "      <td>0.121495</td>\n",
       "      <td>82943.925234</td>\n",
       "      <td>1.498867e+09</td>\n",
       "      <td>5</td>\n",
       "      <td>7</td>\n",
       "      <td>2017</td>\n",
       "      <td>Последний</td>\n",
       "    </tr>\n",
       "    <tr>\n",
       "      <td>23</td>\n",
       "      <td>11</td>\n",
       "      <td>2950000.0</td>\n",
       "      <td>32.0</td>\n",
       "      <td>2016-10-29</td>\n",
       "      <td>1</td>\n",
       "      <td>2.60</td>\n",
       "      <td>9.0</td>\n",
       "      <td>17.7</td>\n",
       "      <td>9</td>\n",
       "      <td>False</td>\n",
       "      <td>...</td>\n",
       "      <td>1.0</td>\n",
       "      <td>190.0</td>\n",
       "      <td>615.0</td>\n",
       "      <td>0.190625</td>\n",
       "      <td>92187.500000</td>\n",
       "      <td>1.477699e+09</td>\n",
       "      <td>5</td>\n",
       "      <td>10</td>\n",
       "      <td>2016</td>\n",
       "      <td>Последний</td>\n",
       "    </tr>\n",
       "    <tr>\n",
       "      <td>36</td>\n",
       "      <td>13</td>\n",
       "      <td>3790000.0</td>\n",
       "      <td>45.0</td>\n",
       "      <td>2017-01-25</td>\n",
       "      <td>2</td>\n",
       "      <td>NaN</td>\n",
       "      <td>9.0</td>\n",
       "      <td>27.0</td>\n",
       "      <td>9</td>\n",
       "      <td>False</td>\n",
       "      <td>...</td>\n",
       "      <td>0.0</td>\n",
       "      <td>NaN</td>\n",
       "      <td>139.0</td>\n",
       "      <td>0.140000</td>\n",
       "      <td>84222.222222</td>\n",
       "      <td>1.485302e+09</td>\n",
       "      <td>2</td>\n",
       "      <td>1</td>\n",
       "      <td>2017</td>\n",
       "      <td>Последний</td>\n",
       "    </tr>\n",
       "    <tr>\n",
       "      <td>43</td>\n",
       "      <td>13</td>\n",
       "      <td>9330000.0</td>\n",
       "      <td>48.0</td>\n",
       "      <td>2017-01-10</td>\n",
       "      <td>2</td>\n",
       "      <td>3.00</td>\n",
       "      <td>4.0</td>\n",
       "      <td>28.0</td>\n",
       "      <td>4</td>\n",
       "      <td>False</td>\n",
       "      <td>...</td>\n",
       "      <td>1.0</td>\n",
       "      <td>492.0</td>\n",
       "      <td>763.0</td>\n",
       "      <td>0.156250</td>\n",
       "      <td>194375.000000</td>\n",
       "      <td>1.484006e+09</td>\n",
       "      <td>1</td>\n",
       "      <td>1</td>\n",
       "      <td>2017</td>\n",
       "      <td>Последний</td>\n",
       "    </tr>\n",
       "  </tbody>\n",
       "</table>\n",
       "<p>5 rows × 29 columns</p>\n",
       "</div>"
      ],
      "text/plain": [
       "    total_images  last_price  total_area first_day_exposition  rooms  \\\n",
       "12            10   3890000.0        54.0           2016-06-30      2   \n",
       "13            20   3550000.0        42.8           2017-07-01      2   \n",
       "23            11   2950000.0        32.0           2016-10-29      1   \n",
       "36            13   3790000.0        45.0           2017-01-25      2   \n",
       "43            13   9330000.0        48.0           2017-01-10      2   \n",
       "\n",
       "    ceiling_height  floors_total  living_area  floor  is_apartment  ...  \\\n",
       "12             NaN           5.0         30.0      5         False  ...   \n",
       "13            2.56           5.0         27.0      5         False  ...   \n",
       "23            2.60           9.0         17.7      9         False  ...   \n",
       "36             NaN           9.0         27.0      9         False  ...   \n",
       "43            3.00           4.0         28.0      4         False  ...   \n",
       "\n",
       "    ponds_around3000  ponds_nearest  days_exposition  kitchen_to_total  \\\n",
       "12               NaN            NaN             90.0          0.166667   \n",
       "13               3.0          298.0            366.0          0.121495   \n",
       "23               1.0          190.0            615.0          0.190625   \n",
       "36               0.0            NaN            139.0          0.140000   \n",
       "43               1.0          492.0            763.0          0.156250   \n",
       "\n",
       "       meter_cost           tmp  weekday  month  year  first_or_last_floor  \n",
       "12   72037.037037  1.467245e+09        3      6  2016            Последний  \n",
       "13   82943.925234  1.498867e+09        5      7  2017            Последний  \n",
       "23   92187.500000  1.477699e+09        5     10  2016            Последний  \n",
       "36   84222.222222  1.485302e+09        2      1  2017            Последний  \n",
       "43  194375.000000  1.484006e+09        1      1  2017            Последний  \n",
       "\n",
       "[5 rows x 29 columns]"
      ]
     },
     "execution_count": 362,
     "metadata": {},
     "output_type": "execute_result"
    }
   ],
   "source": [
    "data[data['floor'] == data['floors_total']].head()"
   ]
  },
  {
   "cell_type": "markdown",
   "metadata": {},
   "source": [
    "*соотношение жилой и общей площади, а также отношение площади кухни к общей*"
   ]
  },
  {
   "cell_type": "code",
   "execution_count": 363,
   "metadata": {},
   "outputs": [],
   "source": [
    "data['living_to_total'] = data['living_area']/data['total_area']"
   ]
  },
  {
   "cell_type": "markdown",
   "metadata": {},
   "source": [
    "### Вывод"
   ]
  },
  {
   "cell_type": "markdown",
   "metadata": {},
   "source": [
    "На основании имеющихся признаков мы создали еще несколько, которые в дальнейшем могут сильно помочь понять природу зависимости одних признаков от других."
   ]
  },
  {
   "cell_type": "markdown",
   "metadata": {},
   "source": [
    "### Шаг 4. Проведите исследовательский анализ данных и выполните инструкции:"
   ]
  },
  {
   "cell_type": "markdown",
   "metadata": {},
   "source": [
    "*Изучите следующие параметры: площадь, цена, число комнат, высота потолков. Постройте гистограммы для каждого параметра.*"
   ]
  },
  {
   "cell_type": "markdown",
   "metadata": {},
   "source": [
    "Напишем функцию, которая будет выводить характеристики распределения и гистограмму для определенного признака. Также в фунцкию будет параметр bins для гистограмм."
   ]
  },
  {
   "cell_type": "markdown",
   "metadata": {},
   "source": [
    "Гистограмма будет выводится на промежутке от Q1-1.5*IQR до Q3+1.5*IQR"
   ]
  },
  {
   "cell_type": "code",
   "execution_count": 365,
   "metadata": {},
   "outputs": [],
   "source": [
    "def graphics(feature, bins):\n",
    "    print(data[feature].describe())\n",
    "    data[feature].hist(bins = bins, range = (data[feature].describe()['25%'] - 1.5 * (data[feature].describe()['75%'] - data[feature].describe()['25%']), data[feature].describe()['75%'] + 1.5*(data[feature].describe()['75%'] - data[feature].describe()['25%'])))"
   ]
  },
  {
   "cell_type": "markdown",
   "metadata": {},
   "source": [
    "Теперь применим функцию ко всем необходимым признакам."
   ]
  },
  {
   "cell_type": "code",
   "execution_count": 366,
   "metadata": {},
   "outputs": [
    {
     "name": "stdout",
     "output_type": "stream",
     "text": [
      "count    23699.000000\n",
      "mean        60.348651\n",
      "std         35.654083\n",
      "min         12.000000\n",
      "25%         40.000000\n",
      "50%         52.000000\n",
      "75%         69.900000\n",
      "max        900.000000\n",
      "Name: total_area, dtype: float64\n"
     ]
    },
    {
     "data": {
      "image/png": "[encoded data removed]",
      "text/plain": [
       "<Figure size 432x288 with 1 Axes>"
      ]
     },
     "metadata": {
      "needs_background": "light"
     },
     "output_type": "display_data"
    }
   ],
   "source": [
    "graphics('total_area', 100)"
   ]
  },
  {
   "cell_type": "code",
   "execution_count": 367,
   "metadata": {},
   "outputs": [
    {
     "name": "stdout",
     "output_type": "stream",
     "text": [
      "count    2.369900e+04\n",
      "mean     6.541549e+06\n",
      "std      1.088701e+07\n",
      "min      1.219000e+04\n",
      "25%      3.400000e+06\n",
      "50%      4.650000e+06\n",
      "75%      6.800000e+06\n",
      "max      7.630000e+08\n",
      "Name: last_price, dtype: float64\n"
     ]
    },
    {
     "data": {
      "image/png": "[encoded data removed]",
      "text/plain": [
       "<Figure size 432x288 with 1 Axes>"
      ]
     },
     "metadata": {
      "needs_background": "light"
     },
     "output_type": "display_data"
    }
   ],
   "source": [
    "graphics('last_price',100)"
   ]
  },
  {
   "cell_type": "code",
   "execution_count": 368,
   "metadata": {},
   "outputs": [
    {
     "name": "stdout",
     "output_type": "stream",
     "text": [
      "count    23699.000000\n",
      "mean         2.070636\n",
      "std          1.078405\n",
      "min          0.000000\n",
      "25%          1.000000\n",
      "50%          2.000000\n",
      "75%          3.000000\n",
      "max         19.000000\n",
      "Name: rooms, dtype: float64\n"
     ]
    },
    {
     "data": {
      "image/png": "[encoded data removed]",
      "text/plain": [
       "<Figure size 432x288 with 1 Axes>"
      ]
     },
     "metadata": {
      "needs_background": "light"
     },
     "output_type": "display_data"
    }
   ],
   "source": [
    "graphics('rooms',15)"
   ]
  },
  {
   "cell_type": "code",
   "execution_count": 369,
   "metadata": {},
   "outputs": [
    {
     "name": "stdout",
     "output_type": "stream",
     "text": [
      "count    14504.000000\n",
      "mean         2.771499\n",
      "std          1.261056\n",
      "min          1.000000\n",
      "25%          2.520000\n",
      "50%          2.650000\n",
      "75%          2.800000\n",
      "max        100.000000\n",
      "Name: ceiling_height, dtype: float64\n"
     ]
    },
    {
     "data": {
      "image/png": "[encoded data removed]",
      "text/plain": [
       "<Figure size 432x288 with 1 Axes>"
      ]
     },
     "metadata": {
      "needs_background": "light"
     },
     "output_type": "display_data"
    }
   ],
   "source": [
    "graphics('ceiling_height', 20)"
   ]
  },
  {
   "cell_type": "markdown",
   "metadata": {},
   "source": [
    "*Изучите время продажи квартиры. Постройте гистограмму. Посчитайте среднее и медиану. Опишите, сколько обычно занимает продажа. Когда можно считать, что продажи прошли очень быстро, а когда необычно долго?*"
   ]
  },
  {
   "cell_type": "code",
   "execution_count": 370,
   "metadata": {},
   "outputs": [
    {
     "data": {
      "text/plain": [
       "count    20518.000000\n",
       "mean       180.888634\n",
       "std        219.727988\n",
       "min          1.000000\n",
       "25%         45.000000\n",
       "50%         95.000000\n",
       "75%        232.000000\n",
       "max       1580.000000\n",
       "Name: days_exposition, dtype: float64"
      ]
     },
     "execution_count": 370,
     "metadata": {},
     "output_type": "execute_result"
    }
   ],
   "source": [
    "data['days_exposition'].describe()"
   ]
  },
  {
   "cell_type": "markdown",
   "metadata": {},
   "source": [
    "Среднее - 180, медиана - 95."
   ]
  },
  {
   "cell_type": "markdown",
   "metadata": {},
   "source": [
    "В качестве критерия для оценки обычного времени продажи квартиры вполне может сгодиться медиана - 95 дней."
   ]
  },
  {
   "cell_type": "code",
   "execution_count": 371,
   "metadata": {},
   "outputs": [
    {
     "data": {
      "text/plain": [
       "<matplotlib.axes._subplots.AxesSubplot at 0x7f38a4b05710>"
      ]
     },
     "execution_count": 371,
     "metadata": {},
     "output_type": "execute_result"
    },
    {
     "data": {
      "image/png": "[encoded data removed]",
      "text/plain": [
       "<Figure size 432x288 with 1 Axes>"
      ]
     },
     "metadata": {
      "needs_background": "light"
     },
     "output_type": "display_data"
    }
   ],
   "source": [
    "data['days_exposition'].hist(bins=100, range = (0,1000))"
   ]
  },
  {
   "cell_type": "markdown",
   "metadata": {},
   "source": [
    "Что касается быстрой продажи и необычной долгой, то для того, чтобы оценить это надо построить boxplot."
   ]
  },
  {
   "cell_type": "code",
   "execution_count": 372,
   "metadata": {},
   "outputs": [
    {
     "data": {
      "text/plain": [
       "<matplotlib.axes._subplots.AxesSubplot at 0x7f38a49a9d50>"
      ]
     },
     "execution_count": 372,
     "metadata": {},
     "output_type": "execute_result"
    },
    {
     "data": {
      "image/png": "[encoded data removed]",
      "text/plain": [
       "<Figure size 432x288 with 1 Axes>"
      ]
     },
     "metadata": {
      "needs_background": "light"
     },
     "output_type": "display_data"
    }
   ],
   "source": [
    "plt.ylim(0,1600)\n",
    "data.boxplot(column = 'days_exposition')"
   ]
  },
  {
   "cell_type": "markdown",
   "metadata": {},
   "source": [
    "Я считаю, что можно сказать, что если наблюдение выходит за рамки усов boxplota, то можно сказать, что продажа произошла слишком быстро или необычно долго."
   ]
  },
  {
   "cell_type": "code",
   "execution_count": 373,
   "metadata": {},
   "outputs": [],
   "source": [
    "too_fast = data['days_exposition'].describe()['25%'] - (data['days_exposition'].describe()['75%'] - data['days_exposition'].describe()['25%'])\n",
    "too_slow = data['days_exposition'].describe()['75%'] + (data['days_exposition'].describe()['75%'] - data['days_exposition'].describe()['25%'])"
   ]
  },
  {
   "cell_type": "code",
   "execution_count": 374,
   "metadata": {},
   "outputs": [
    {
     "name": "stdout",
     "output_type": "stream",
     "text": [
      "Слишком быстрая продажа от -142\n",
      "Слишком медленная продажа от 419\n"
     ]
    }
   ],
   "source": [
    "print('Слишком быстрая продажа от', int(too_fast))\n",
    "print('Слишком медленная продажа от', int(too_slow))"
   ]
  },
  {
   "cell_type": "markdown",
   "metadata": {},
   "source": [
    "Так как нижний хвост ушел в минус, то можно сказать, что очень быстрых продаж нет вообще - даже минимум равный 1 дню входит в boxplot и не является слишком невероятным значением для нашей выборки. В итоге получаем."
   ]
  },
  {
   "cell_type": "code",
   "execution_count": 375,
   "metadata": {},
   "outputs": [
    {
     "name": "stdout",
     "output_type": "stream",
     "text": [
      "Слишком быстрых продаж нет.\n",
      "Слишком медленная продажа от 419 дней.\n"
     ]
    }
   ],
   "source": [
    "print('Слишком быстрых продаж нет.')\n",
    "print('Слишком медленная продажа от 419 дней.')"
   ]
  },
  {
   "cell_type": "markdown",
   "metadata": {},
   "source": [
    "*Уберите редкие и выбивающиеся значения. Опишите, какие особенности обнаружили.*"
   ]
  },
  {
   "cell_type": "markdown",
   "metadata": {},
   "source": [
    "Напишем функцию, которая строит boxplot для признака и возвращает верхнюю и нижнюю его границы."
   ]
  },
  {
   "cell_type": "code",
   "execution_count": 376,
   "metadata": {},
   "outputs": [],
   "source": [
    "def box_for_feature(feature):\n",
    "    data.boxplot(column = feature)\n",
    "    low_border = data[feature].describe()['25%'] - 3 * (data[feature].describe()['75%'] - data[feature].describe()['25%'])\n",
    "    high_border = data[feature].describe()['75%'] + 3 * (data[feature].describe()['75%'] - data[feature].describe()['25%'])\n",
    "    return high_border,low_border"
   ]
  },
  {
   "cell_type": "markdown",
   "metadata": {},
   "source": [
    "Теперь пройдемся по каждому признаку."
   ]
  },
  {
   "cell_type": "markdown",
   "metadata": {},
   "source": [
    "`total_images`"
   ]
  },
  {
   "cell_type": "code",
   "execution_count": 377,
   "metadata": {},
   "outputs": [
    {
     "data": {
      "image/png": "[encoded data removed]",
      "text/plain": [
       "<Figure size 432x288 with 1 Axes>"
      ]
     },
     "metadata": {
      "needs_background": "light"
     },
     "output_type": "display_data"
    }
   ],
   "source": [
    "high_border, low_border = box_for_feature('total_images')\n",
    "data = data.query('(total_images != total_images) or (total_images > @low_border and total_images < @high_border)')"
   ]
  },
  {
   "cell_type": "markdown",
   "metadata": {},
   "source": [
    "`last_price`"
   ]
  },
  {
   "cell_type": "code",
   "execution_count": 378,
   "metadata": {},
   "outputs": [
    {
     "data": {
      "image/png": "[encoded data removed]",
      "text/plain": [
       "<Figure size 432x288 with 1 Axes>"
      ]
     },
     "metadata": {
      "needs_background": "light"
     },
     "output_type": "display_data"
    }
   ],
   "source": [
    "high_border, low_border = box_for_feature('last_price')\n",
    "data = data.query('(last_price != last_price) or (last_price > @low_border and last_price < @high_border)')"
   ]
  },
  {
   "cell_type": "markdown",
   "metadata": {},
   "source": [
    "`total_area`"
   ]
  },
  {
   "cell_type": "code",
   "execution_count": 379,
   "metadata": {},
   "outputs": [
    {
     "data": {
      "image/png": "[encoded data removed]",
      "text/plain": [
       "<Figure size 432x288 with 1 Axes>"
      ]
     },
     "metadata": {
      "needs_background": "light"
     },
     "output_type": "display_data"
    }
   ],
   "source": [
    "high_border, low_border = box_for_feature('total_area')\n",
    "data = data.query('(total_area != total_area) or (total_area > @low_border and total_area < @high_border)')"
   ]
  },
  {
   "cell_type": "markdown",
   "metadata": {},
   "source": [
    "`rooms`"
   ]
  },
  {
   "cell_type": "code",
   "execution_count": 380,
   "metadata": {},
   "outputs": [
    {
     "data": {
      "image/png": "[encoded data removed]",
      "text/plain": [
       "<Figure size 432x288 with 1 Axes>"
      ]
     },
     "metadata": {
      "needs_background": "light"
     },
     "output_type": "display_data"
    }
   ],
   "source": [
    "high_border, low_border = box_for_feature('rooms')\n",
    "data = data.query('(rooms != rooms) or (rooms > @low_border and rooms < @high_border)')"
   ]
  },
  {
   "cell_type": "markdown",
   "metadata": {},
   "source": [
    "`ceiling_height`"
   ]
  },
  {
   "cell_type": "code",
   "execution_count": 381,
   "metadata": {},
   "outputs": [
    {
     "data": {
      "image/png": "[encoded data removed]",
      "text/plain": [
       "<Figure size 432x288 with 1 Axes>"
      ]
     },
     "metadata": {
      "needs_background": "light"
     },
     "output_type": "display_data"
    }
   ],
   "source": [
    "high_border, low_border = box_for_feature('ceiling_height')\n",
    "data = data.query('(ceiling_height != ceiling_height) or (ceiling_height > @low_border and ceiling_height < @high_border)')"
   ]
  },
  {
   "cell_type": "markdown",
   "metadata": {},
   "source": [
    "`floors_total`"
   ]
  },
  {
   "cell_type": "code",
   "execution_count": 382,
   "metadata": {},
   "outputs": [
    {
     "data": {
      "image/png": "[encoded data removed]",
      "text/plain": [
       "<Figure size 432x288 with 1 Axes>"
      ]
     },
     "metadata": {
      "needs_background": "light"
     },
     "output_type": "display_data"
    }
   ],
   "source": [
    "high_border, low_border = box_for_feature('floors_total')\n",
    "data = data.query('(floors_total != floors_total) or (floors_total > @low_border and floors_total < @high_border)')"
   ]
  },
  {
   "cell_type": "markdown",
   "metadata": {},
   "source": [
    "`living_area`"
   ]
  },
  {
   "cell_type": "code",
   "execution_count": 383,
   "metadata": {},
   "outputs": [
    {
     "data": {
      "image/png": "[encoded data removed]",
      "text/plain": [
       "<Figure size 432x288 with 1 Axes>"
      ]
     },
     "metadata": {
      "needs_background": "light"
     },
     "output_type": "display_data"
    }
   ],
   "source": [
    "high_border, low_border = box_for_feature('living_area')\n",
    "data = data.query('(living_area != living_area) or (living_area > @low_border and living_area < @high_border)')"
   ]
  },
  {
   "cell_type": "markdown",
   "metadata": {},
   "source": [
    "`floor`"
   ]
  },
  {
   "cell_type": "code",
   "execution_count": 384,
   "metadata": {},
   "outputs": [
    {
     "data": {
      "image/png": "[encoded data removed]",
      "text/plain": [
       "<Figure size 432x288 with 1 Axes>"
      ]
     },
     "metadata": {
      "needs_background": "light"
     },
     "output_type": "display_data"
    }
   ],
   "source": [
    "high_border, low_border = box_for_feature('floor')\n",
    "data = data.query('(floor != floor) or (floor > @low_border and floor < @high_border)')"
   ]
  },
  {
   "cell_type": "markdown",
   "metadata": {},
   "source": [
    "`kitchen_area`"
   ]
  },
  {
   "cell_type": "code",
   "execution_count": 385,
   "metadata": {},
   "outputs": [
    {
     "data": {
      "image/png": "[encoded data removed]",
      "text/plain": [
       "<Figure size 432x288 with 1 Axes>"
      ]
     },
     "metadata": {
      "needs_background": "light"
     },
     "output_type": "display_data"
    }
   ],
   "source": [
    "high_border, low_border = box_for_feature('kitchen_area')\n",
    "data = data.query('(kitchen_area != kitchen_area) or (kitchen_area > @low_border and kitchen_area < @high_border)')"
   ]
  },
  {
   "cell_type": "markdown",
   "metadata": {},
   "source": [
    "`balcony`"
   ]
  },
  {
   "cell_type": "code",
   "execution_count": 386,
   "metadata": {},
   "outputs": [
    {
     "data": {
      "image/png": "[encoded data removed]",
      "text/plain": [
       "<Figure size 432x288 with 1 Axes>"
      ]
     },
     "metadata": {
      "needs_background": "light"
     },
     "output_type": "display_data"
    }
   ],
   "source": [
    "high_border, low_border = box_for_feature('balcony')\n",
    "data = data.query('(balcony != balcony) or (balcony > @low_border and balcony < @high_border)')"
   ]
  },
  {
   "cell_type": "markdown",
   "metadata": {},
   "source": [
    "`airports_nearest`"
   ]
  },
  {
   "cell_type": "code",
   "execution_count": 387,
   "metadata": {},
   "outputs": [
    {
     "data": {
      "image/png": "[encoded data removed]",
      "text/plain": [
       "<Figure size 432x288 with 1 Axes>"
      ]
     },
     "metadata": {
      "needs_background": "light"
     },
     "output_type": "display_data"
    }
   ],
   "source": [
    "high_border, low_border = box_for_feature('airports_nearest')\n",
    "data = data.query('(airports_nearest != airports_nearest) or (airports_nearest > @low_border and airports_nearest < @high_border)')"
   ]
  },
  {
   "cell_type": "markdown",
   "metadata": {},
   "source": [
    "`parks_around3000`"
   ]
  },
  {
   "cell_type": "code",
   "execution_count": 388,
   "metadata": {},
   "outputs": [
    {
     "data": {
      "image/png": "[encoded data removed]",
      "text/plain": [
       "<Figure size 432x288 with 1 Axes>"
      ]
     },
     "metadata": {
      "needs_background": "light"
     },
     "output_type": "display_data"
    }
   ],
   "source": [
    "high_border, low_border = box_for_feature('parks_around3000')\n",
    "data = data.query('(parks_around3000 != parks_around3000) or (parks_around3000 > @low_border and parks_around3000 < @high_border)')"
   ]
  },
  {
   "cell_type": "markdown",
   "metadata": {},
   "source": [
    "`parks_nearest`"
   ]
  },
  {
   "cell_type": "code",
   "execution_count": 389,
   "metadata": {},
   "outputs": [
    {
     "data": {
      "image/png": "[encoded data removed]",
      "text/plain": [
       "<Figure size 432x288 with 1 Axes>"
      ]
     },
     "metadata": {
      "needs_background": "light"
     },
     "output_type": "display_data"
    }
   ],
   "source": [
    "high_border, low_border = box_for_feature('parks_nearest')\n",
    "data = data.query('(parks_nearest != parks_nearest) or (parks_nearest> @low_border and parks_nearest < @high_border)')"
   ]
  },
  {
   "cell_type": "markdown",
   "metadata": {},
   "source": [
    "`ponds_around3000`"
   ]
  },
  {
   "cell_type": "code",
   "execution_count": 390,
   "metadata": {},
   "outputs": [
    {
     "data": {
      "image/png": "[encoded data removed]",
      "text/plain": [
       "<Figure size 432x288 with 1 Axes>"
      ]
     },
     "metadata": {
      "needs_background": "light"
     },
     "output_type": "display_data"
    }
   ],
   "source": [
    "high_border, low_border = box_for_feature('ponds_around3000')\n",
    "data = data.query('(ponds_around3000 != ponds_around3000) or (ponds_around3000 > @low_border and ponds_around3000 < @high_border)')"
   ]
  },
  {
   "cell_type": "markdown",
   "metadata": {},
   "source": [
    "`ponds_nearest`"
   ]
  },
  {
   "cell_type": "code",
   "execution_count": 391,
   "metadata": {},
   "outputs": [
    {
     "data": {
      "image/png": "[encoded data removed]",
      "text/plain": [
       "<Figure size 432x288 with 1 Axes>"
      ]
     },
     "metadata": {
      "needs_background": "light"
     },
     "output_type": "display_data"
    }
   ],
   "source": [
    "high_border, low_border = box_for_feature('ponds_nearest')\n",
    "data = data.query('(ponds_nearest != ponds_nearest) or (ponds_nearest > @low_border and ponds_nearest < @high_border)')"
   ]
  },
  {
   "cell_type": "code",
   "execution_count": 392,
   "metadata": {},
   "outputs": [
    {
     "name": "stdout",
     "output_type": "stream",
     "text": [
      "<class 'pandas.core.frame.DataFrame'>\n",
      "Int64Index: 21498 entries, 1 to 23698\n",
      "Data columns (total 30 columns):\n",
      "total_images            21498 non-null int64\n",
      "last_price              21498 non-null float64\n",
      "total_area              21498 non-null float64\n",
      "first_day_exposition    21498 non-null datetime64[ns]\n",
      "rooms                   21498 non-null int64\n",
      "ceiling_height          12963 non-null float64\n",
      "floors_total            21420 non-null float64\n",
      "living_area             21498 non-null float64\n",
      "floor                   21498 non-null int64\n",
      "is_apartment            21498 non-null bool\n",
      "studio                  21498 non-null bool\n",
      "open_plan               21498 non-null bool\n",
      "kitchen_area            21498 non-null float64\n",
      "balcony                 21498 non-null int64\n",
      "locality_name           21457 non-null object\n",
      "airports_nearest        16158 non-null float64\n",
      "cityCenters_nearest     16174 non-null float64\n",
      "parks_around3000        16175 non-null float64\n",
      "parks_nearest           6786 non-null float64\n",
      "ponds_around3000        16175 non-null float64\n",
      "ponds_nearest           7791 non-null float64\n",
      "days_exposition         18828 non-null float64\n",
      "kitchen_to_total        19387 non-null float64\n",
      "meter_cost              21498 non-null float64\n",
      "tmp                     21498 non-null float64\n",
      "weekday                 21498 non-null int64\n",
      "month                   21498 non-null int64\n",
      "year                    21498 non-null int64\n",
      "first_or_last_floor     21498 non-null object\n",
      "living_to_total         21498 non-null float64\n",
      "dtypes: bool(3), datetime64[ns](1), float64(17), int64(7), object(2)\n",
      "memory usage: 4.7+ MB\n"
     ]
    }
   ],
   "source": [
    "data.info()"
   ]
  },
  {
   "cell_type": "markdown",
   "metadata": {},
   "source": [
    "В итоге, можно увидеть, что после чистки ушло порядка 10% от общего числа данных. С таким объемом можно работать дальше."
   ]
  },
  {
   "cell_type": "markdown",
   "metadata": {},
   "source": [
    "*Какие факторы больше всего влияют на стоимость квартиры? Изучите, зависит ли цена от квадратного метра, числа комнат, удалённости от центра. Изучите зависимость цены от того, на каком этаже расположена квартира: первом, последнем или другом. Также изучите зависимость от даты размещения: дня недели, месяца и года.*"
   ]
  },
  {
   "cell_type": "markdown",
   "metadata": {},
   "source": [
    "Для того, чтобы оценить зависимость стоимости квартиры от различных факторов, будем использовать коэффициент корреляции (кроме этажей, зависимость от этажей будем смотреть через  параметры распределения признаков для каждого этажа(так как это категориальный признак))"
   ]
  },
  {
   "cell_type": "code",
   "execution_count": 393,
   "metadata": {},
   "outputs": [
    {
     "data": {
      "text/plain": [
       "count    2.774000e+03\n",
       "mean     4.206005e+06\n",
       "std      2.267185e+06\n",
       "min      4.300000e+05\n",
       "25%      2.700000e+06\n",
       "50%      3.800000e+06\n",
       "75%      5.197499e+06\n",
       "max      1.691200e+07\n",
       "Name: last_price, dtype: float64"
      ]
     },
     "execution_count": 393,
     "metadata": {},
     "output_type": "execute_result"
    }
   ],
   "source": [
    "data[data['first_or_last_floor'] == 'Первый']['last_price'].describe()"
   ]
  },
  {
   "cell_type": "code",
   "execution_count": 394,
   "metadata": {},
   "outputs": [
    {
     "data": {
      "text/plain": [
       "count    1.576600e+04\n",
       "mean     5.280758e+06\n",
       "std      2.688406e+06\n",
       "min      4.500000e+05\n",
       "25%      3.500000e+06\n",
       "50%      4.600000e+06\n",
       "75%      6.350000e+06\n",
       "max      1.699000e+07\n",
       "Name: last_price, dtype: float64"
      ]
     },
     "execution_count": 394,
     "metadata": {},
     "output_type": "execute_result"
    }
   ],
   "source": [
    "data[data['first_or_last_floor'] == 'Другой']['last_price'].describe()"
   ]
  },
  {
   "cell_type": "code",
   "execution_count": 395,
   "metadata": {},
   "outputs": [
    {
     "data": {
      "text/plain": [
       "count    2.958000e+03\n",
       "mean     4.703267e+06\n",
       "std      2.824943e+06\n",
       "min      4.300000e+05\n",
       "25%      2.850000e+06\n",
       "50%      4.085000e+06\n",
       "75%      5.800000e+06\n",
       "max      1.690000e+07\n",
       "Name: last_price, dtype: float64"
      ]
     },
     "execution_count": 395,
     "metadata": {},
     "output_type": "execute_result"
    }
   ],
   "source": [
    "data[data['first_or_last_floor'] == 'Последний']['last_price'].describe()"
   ]
  },
  {
   "cell_type": "markdown",
   "metadata": {},
   "source": [
    "Глядя на распределение цены по этим 3 признакам, можно довольно однозначно констатировать, что квартиры на первом этаже - самые дешевые. По всем квантилям и среднему их значения меньше, чем у \"последних\" и \"других\" этажей. Если сравнивать \"Другие\" и \"Последние\" этажи, то по всем квантилям значение больше у \"Других\", но среднее и максимальное значение больше у последнего этажа. В итоге можно сделать вывод, что в общем квартиры дороже на \"других\" этажах, а на первом - самые дешевые. Поэтому есть зависимость между тем, какой этаж и стоимостью квартиры."
   ]
  },
  {
   "cell_type": "markdown",
   "metadata": {},
   "source": [
    "Теперь посчитаем коэффициенты корреляции."
   ]
  },
  {
   "cell_type": "code",
   "execution_count": 396,
   "metadata": {},
   "outputs": [
    {
     "name": "stdout",
     "output_type": "stream",
     "text": [
      "Коэффициент корреляции между стоимостью квартиры и квадратным метром(площадью) - 0.740460855604238\n",
      "Коэффициент корреляции между стоимостью квартиры и числом комнат - 0.4745261342289291\n",
      "Коэффициент корреляции между стоимостью квартиры и удаленностью от центра - -0.35850276201552883\n",
      "Коэффициент корреляции между стоимостью квартиры и днем недели, когда было размещено объявление - -0.014177150357574933\n",
      "Коэффициент корреляции между стоимостью квартиры и месяцем, когда было размещено объявление - 0.004649537015989207\n",
      "Коэффициент корреляции между стоимостью квартиры и годом, когда было размещено объявление -  -0.014745050628494067\n"
     ]
    }
   ],
   "source": [
    "print('Коэффициент корреляции между стоимостью квартиры и квадратным метром(площадью) -', data['last_price'].corr(data['total_area']))\n",
    "print('Коэффициент корреляции между стоимостью квартиры и числом комнат -', data['last_price'].corr(data['rooms']))\n",
    "print('Коэффициент корреляции между стоимостью квартиры и удаленностью от центра -', data['last_price'].corr(data['cityCenters_nearest']))\n",
    "print('Коэффициент корреляции между стоимостью квартиры и днем недели, когда было размещено объявление -', data['last_price'].corr(data['weekday']))\n",
    "print('Коэффициент корреляции между стоимостью квартиры и месяцем, когда было размещено объявление -', data['last_price'].corr(data['month']))\n",
    "print('Коэффициент корреляции между стоимостью квартиры и годом, когда было размещено объявление - ', data['last_price'].corr(data['year']))"
   ]
  },
  {
   "cell_type": "markdown",
   "metadata": {},
   "source": [
    "Также построим графики зависимости цены от данных параметров, чтобы убедится в достоверности полученных коэффициентов."
   ]
  },
  {
   "cell_type": "markdown",
   "metadata": {},
   "source": [
    "*Зависимость между стоимостью квартиры и квадратным метром(площадью)*"
   ]
  },
  {
   "cell_type": "code",
   "execution_count": 397,
   "metadata": {},
   "outputs": [
    {
     "data": {
      "text/plain": [
       "<matplotlib.axes._subplots.AxesSubplot at 0x7f38a4e56450>"
      ]
     },
     "execution_count": 397,
     "metadata": {},
     "output_type": "execute_result"
    },
    {
     "data": {
      "image/png": "[encoded data removed]",
      "text/plain": [
       "<Figure size 432x288 with 1 Axes>"
      ]
     },
     "metadata": {
      "needs_background": "light"
     },
     "output_type": "display_data"
    }
   ],
   "source": [
    "data['round_total_area'] = round(data['total_area'])\n",
    "data_r_total_area = data.pivot_table(index = 'round_total_area', values = 'last_price')\n",
    "data_r_total_area.plot()"
   ]
  },
  {
   "cell_type": "markdown",
   "metadata": {},
   "source": [
    "По графику можно увидеть, что есть зависимость между площадью и ценой."
   ]
  },
  {
   "cell_type": "markdown",
   "metadata": {},
   "source": [
    "*Зависимость между стоимостью квартиры и числом комнат*"
   ]
  },
  {
   "cell_type": "code",
   "execution_count": 398,
   "metadata": {},
   "outputs": [
    {
     "data": {
      "text/plain": [
       "<matplotlib.axes._subplots.AxesSubplot at 0x7f38a4201690>"
      ]
     },
     "execution_count": 398,
     "metadata": {},
     "output_type": "execute_result"
    },
    {
     "data": {
      "image/png": "[encoded data removed]",
      "text/plain": [
       "<Figure size 432x288 with 1 Axes>"
      ]
     },
     "metadata": {
      "needs_background": "light"
     },
     "output_type": "display_data"
    }
   ],
   "source": [
    "data_rooms= data.pivot_table(index = 'rooms', values = 'last_price')\n",
    "data_rooms.plot()"
   ]
  },
  {
   "cell_type": "markdown",
   "metadata": {},
   "source": [
    "По графику можно увидеть, что есть зависимость между ценой и количеством комнат."
   ]
  },
  {
   "cell_type": "markdown",
   "metadata": {},
   "source": [
    "*Зависимость между стоимостью квартиры и удаленностью от центра*"
   ]
  },
  {
   "cell_type": "code",
   "execution_count": 399,
   "metadata": {},
   "outputs": [
    {
     "data": {
      "text/plain": [
       "<matplotlib.axes._subplots.AxesSubplot at 0x7f38a416c890>"
      ]
     },
     "execution_count": 399,
     "metadata": {},
     "output_type": "execute_result"
    },
    {
     "data": {
      "image/png": "[encoded data removed]",
      "text/plain": [
       "<Figure size 432x288 with 1 Axes>"
      ]
     },
     "metadata": {
      "needs_background": "light"
     },
     "output_type": "display_data"
    }
   ],
   "source": [
    "data['cityCenters_nearest_km'] = round(data['cityCenters_nearest']/1000)\n",
    "data_cityCenters_nearest_km = data.pivot_table(index = 'cityCenters_nearest_km', values = 'last_price')\n",
    "data_cityCenters_nearest_km.plot()"
   ]
  },
  {
   "cell_type": "markdown",
   "metadata": {},
   "source": [
    "По данному графику нельзя сказать, что есть строгая зависимость между расстоянием до центра и стоимостью квартиры"
   ]
  },
  {
   "cell_type": "markdown",
   "metadata": {},
   "source": [
    "*Зависимость между стоимостью квартиры и днем недели, когда было размещено объявление*"
   ]
  },
  {
   "cell_type": "code",
   "execution_count": 400,
   "metadata": {},
   "outputs": [
    {
     "data": {
      "text/plain": [
       "<matplotlib.axes._subplots.AxesSubplot at 0x7f38a40cc050>"
      ]
     },
     "execution_count": 400,
     "metadata": {},
     "output_type": "execute_result"
    },
    {
     "data": {
      "image/png": "[encoded data removed]",
      "text/plain": [
       "<Figure size 432x288 with 1 Axes>"
      ]
     },
     "metadata": {
      "needs_background": "light"
     },
     "output_type": "display_data"
    }
   ],
   "source": [
    "data_weekday = data.pivot_table(index = 'weekday', values = 'last_price')\n",
    "data_weekday.plot()"
   ]
  },
  {
   "cell_type": "markdown",
   "metadata": {},
   "source": [
    "По данному графику нельзя сказать, что есть четкая зависимость между днем размещения вакансии и ценой. Можно констатировать, что большинство продаж происходит в среду и меньше всего - в субботу."
   ]
  },
  {
   "cell_type": "markdown",
   "metadata": {},
   "source": [
    "*Зависимость между стоимостью квартиры и месяцем, когда было размещено объявление*"
   ]
  },
  {
   "cell_type": "code",
   "execution_count": 401,
   "metadata": {},
   "outputs": [
    {
     "data": {
      "text/plain": [
       "<matplotlib.axes._subplots.AxesSubplot at 0x7f38a404dad0>"
      ]
     },
     "execution_count": 401,
     "metadata": {},
     "output_type": "execute_result"
    },
    {
     "data": {
      "image/png": "[encoded data removed]",
      "text/plain": [
       "<Figure size 432x288 with 1 Axes>"
      ]
     },
     "metadata": {
      "needs_background": "light"
     },
     "output_type": "display_data"
    }
   ],
   "source": [
    "data_month = data.pivot_table(index = 'month', values = 'last_price')\n",
    "data_month.plot()"
   ]
  },
  {
   "cell_type": "markdown",
   "metadata": {},
   "source": [
    "По данному графику нельзя сказать, что есть зависимость между месяцем, когда было размещено объявление и стоимостью квартиры."
   ]
  },
  {
   "cell_type": "markdown",
   "metadata": {},
   "source": [
    "*Зависимость между стоимостью квартиры и годом, когда было размещено объявление*"
   ]
  },
  {
   "cell_type": "code",
   "execution_count": 402,
   "metadata": {},
   "outputs": [
    {
     "data": {
      "text/plain": [
       "<matplotlib.axes._subplots.AxesSubplot at 0x7f38a40da850>"
      ]
     },
     "execution_count": 402,
     "metadata": {},
     "output_type": "execute_result"
    },
    {
     "data": {
      "image/png": "[encoded data removed]",
      "text/plain": [
       "<Figure size 432x288 with 1 Axes>"
      ]
     },
     "metadata": {
      "needs_background": "light"
     },
     "output_type": "display_data"
    }
   ],
   "source": [
    "data_year = data.pivot_table(index = 'year', values = 'last_price')\n",
    "data_year.plot()"
   ]
  },
  {
   "cell_type": "markdown",
   "metadata": {},
   "source": [
    "На данном графике можно видеть, что самые высокие цены были в 2014 году, которые каждый год шли вниз до 2018 года, а затем пошли вверх, но прямой зависимости здесь нет."
   ]
  },
  {
   "cell_type": "code",
   "execution_count": 403,
   "metadata": {},
   "outputs": [
    {
     "data": {
      "text/plain": [
       "<matplotlib.axes._subplots.AxesSubplot at 0x7f38a3ef7350>"
      ]
     },
     "execution_count": 403,
     "metadata": {},
     "output_type": "execute_result"
    },
    {
     "data": {
      "image/png": "[encoded data removed]",
      "text/plain": [
       "<Figure size 432x288 with 1 Axes>"
      ]
     },
     "metadata": {
      "needs_background": "light"
     },
     "output_type": "display_data"
    }
   ],
   "source": [
    "data_floor = data.pivot_table(index = 'first_or_last_floor', values = 'last_price')\n",
    "data_floor.plot()"
   ]
  },
  {
   "cell_type": "markdown",
   "metadata": {},
   "source": [
    "На этом графике мы можем лишь увидеть, что квартиры на первом этаже самые дешевые, а на 'других' - самые дорогие."
   ]
  },
  {
   "cell_type": "markdown",
   "metadata": {},
   "source": [
    "*Выберите 10 населённых пунктов с наибольшим числом объявлений. Посчитайте среднюю цену квадратного метра в этих населённых пунктах. Выделите населённые пункты с самой высокой и низкой стоимостью жилья. Эти данные можно найти по имени в столбце 'locality_name'.*"
   ]
  },
  {
   "cell_type": "markdown",
   "metadata": {},
   "source": [
    "Выберем 10 населённых пунктов с наибольшим числом объявлений."
   ]
  },
  {
   "cell_type": "code",
   "execution_count": 404,
   "metadata": {},
   "outputs": [
    {
     "data": {
      "text/plain": [
       "Санкт-Петербург      13850\n",
       "посёлок Мурино         496\n",
       "посёлок Шушары         428\n",
       "Всеволожск             377\n",
       "Пушкин                 337\n",
       "Колпино                322\n",
       "посёлок Парголово      312\n",
       "Гатчина                291\n",
       "деревня Кудрово        290\n",
       "Выборг                 225\n",
       "Name: locality_name, dtype: int64"
      ]
     },
     "execution_count": 404,
     "metadata": {},
     "output_type": "execute_result"
    }
   ],
   "source": [
    "top_10_local = data['locality_name'].value_counts().head(10)\n",
    "top_10_local"
   ]
  },
  {
   "cell_type": "markdown",
   "metadata": {},
   "source": [
    "Теперь отфильтруем таблицу только по этим 10 населенным пунктам."
   ]
  },
  {
   "cell_type": "code",
   "execution_count": 405,
   "metadata": {
    "scrolled": true
   },
   "outputs": [
    {
     "data": {
      "text/html": [
       "<div>\n",
       "<style scoped>\n",
       "    .dataframe tbody tr th:only-of-type {\n",
       "        vertical-align: middle;\n",
       "    }\n",
       "\n",
       "    .dataframe tbody tr th {\n",
       "        vertical-align: top;\n",
       "    }\n",
       "\n",
       "    .dataframe thead th {\n",
       "        text-align: right;\n",
       "    }\n",
       "</style>\n",
       "<table border=\"1\" class=\"dataframe\">\n",
       "  <thead>\n",
       "    <tr style=\"text-align: right;\">\n",
       "      <th></th>\n",
       "      <th>total_images</th>\n",
       "      <th>last_price</th>\n",
       "      <th>total_area</th>\n",
       "      <th>first_day_exposition</th>\n",
       "      <th>rooms</th>\n",
       "      <th>ceiling_height</th>\n",
       "      <th>floors_total</th>\n",
       "      <th>living_area</th>\n",
       "      <th>floor</th>\n",
       "      <th>is_apartment</th>\n",
       "      <th>...</th>\n",
       "      <th>kitchen_to_total</th>\n",
       "      <th>meter_cost</th>\n",
       "      <th>tmp</th>\n",
       "      <th>weekday</th>\n",
       "      <th>month</th>\n",
       "      <th>year</th>\n",
       "      <th>first_or_last_floor</th>\n",
       "      <th>living_to_total</th>\n",
       "      <th>round_total_area</th>\n",
       "      <th>cityCenters_nearest_km</th>\n",
       "    </tr>\n",
       "  </thead>\n",
       "  <tbody>\n",
       "    <tr>\n",
       "      <td>1</td>\n",
       "      <td>7</td>\n",
       "      <td>3350000.0</td>\n",
       "      <td>40.4</td>\n",
       "      <td>2018-12-04</td>\n",
       "      <td>1</td>\n",
       "      <td>NaN</td>\n",
       "      <td>11.0</td>\n",
       "      <td>18.6</td>\n",
       "      <td>1</td>\n",
       "      <td>False</td>\n",
       "      <td>...</td>\n",
       "      <td>0.272277</td>\n",
       "      <td>82920.792079</td>\n",
       "      <td>1.543882e+09</td>\n",
       "      <td>1</td>\n",
       "      <td>12</td>\n",
       "      <td>2018</td>\n",
       "      <td>Первый</td>\n",
       "      <td>0.460396</td>\n",
       "      <td>40.0</td>\n",
       "      <td>19.0</td>\n",
       "    </tr>\n",
       "    <tr>\n",
       "      <td>2</td>\n",
       "      <td>10</td>\n",
       "      <td>5196000.0</td>\n",
       "      <td>56.0</td>\n",
       "      <td>2015-08-20</td>\n",
       "      <td>2</td>\n",
       "      <td>NaN</td>\n",
       "      <td>5.0</td>\n",
       "      <td>34.3</td>\n",
       "      <td>4</td>\n",
       "      <td>False</td>\n",
       "      <td>...</td>\n",
       "      <td>0.148214</td>\n",
       "      <td>92785.714286</td>\n",
       "      <td>1.440029e+09</td>\n",
       "      <td>3</td>\n",
       "      <td>8</td>\n",
       "      <td>2015</td>\n",
       "      <td>Другой</td>\n",
       "      <td>0.612500</td>\n",
       "      <td>56.0</td>\n",
       "      <td>14.0</td>\n",
       "    </tr>\n",
       "    <tr>\n",
       "      <td>6</td>\n",
       "      <td>6</td>\n",
       "      <td>3700000.0</td>\n",
       "      <td>37.3</td>\n",
       "      <td>2017-11-02</td>\n",
       "      <td>1</td>\n",
       "      <td>NaN</td>\n",
       "      <td>26.0</td>\n",
       "      <td>10.6</td>\n",
       "      <td>6</td>\n",
       "      <td>False</td>\n",
       "      <td>...</td>\n",
       "      <td>0.386059</td>\n",
       "      <td>99195.710456</td>\n",
       "      <td>1.509581e+09</td>\n",
       "      <td>3</td>\n",
       "      <td>11</td>\n",
       "      <td>2017</td>\n",
       "      <td>Другой</td>\n",
       "      <td>0.284182</td>\n",
       "      <td>37.0</td>\n",
       "      <td>19.0</td>\n",
       "    </tr>\n",
       "    <tr>\n",
       "      <td>7</td>\n",
       "      <td>5</td>\n",
       "      <td>7915000.0</td>\n",
       "      <td>71.6</td>\n",
       "      <td>2019-04-18</td>\n",
       "      <td>2</td>\n",
       "      <td>NaN</td>\n",
       "      <td>24.0</td>\n",
       "      <td>30.5</td>\n",
       "      <td>22</td>\n",
       "      <td>False</td>\n",
       "      <td>...</td>\n",
       "      <td>0.263966</td>\n",
       "      <td>110544.692737</td>\n",
       "      <td>1.555546e+09</td>\n",
       "      <td>3</td>\n",
       "      <td>4</td>\n",
       "      <td>2019</td>\n",
       "      <td>Другой</td>\n",
       "      <td>0.425978</td>\n",
       "      <td>72.0</td>\n",
       "      <td>12.0</td>\n",
       "    </tr>\n",
       "    <tr>\n",
       "      <td>9</td>\n",
       "      <td>18</td>\n",
       "      <td>5400000.0</td>\n",
       "      <td>61.0</td>\n",
       "      <td>2017-02-26</td>\n",
       "      <td>3</td>\n",
       "      <td>2.5</td>\n",
       "      <td>9.0</td>\n",
       "      <td>43.6</td>\n",
       "      <td>7</td>\n",
       "      <td>False</td>\n",
       "      <td>...</td>\n",
       "      <td>0.106557</td>\n",
       "      <td>88524.590164</td>\n",
       "      <td>1.488067e+09</td>\n",
       "      <td>6</td>\n",
       "      <td>2</td>\n",
       "      <td>2017</td>\n",
       "      <td>Другой</td>\n",
       "      <td>0.714754</td>\n",
       "      <td>61.0</td>\n",
       "      <td>15.0</td>\n",
       "    </tr>\n",
       "  </tbody>\n",
       "</table>\n",
       "<p>5 rows × 32 columns</p>\n",
       "</div>"
      ],
      "text/plain": [
       "   total_images  last_price  total_area first_day_exposition  rooms  \\\n",
       "1             7   3350000.0        40.4           2018-12-04      1   \n",
       "2            10   5196000.0        56.0           2015-08-20      2   \n",
       "6             6   3700000.0        37.3           2017-11-02      1   \n",
       "7             5   7915000.0        71.6           2019-04-18      2   \n",
       "9            18   5400000.0        61.0           2017-02-26      3   \n",
       "\n",
       "   ceiling_height  floors_total  living_area  floor  is_apartment  ...  \\\n",
       "1             NaN          11.0         18.6      1         False  ...   \n",
       "2             NaN           5.0         34.3      4         False  ...   \n",
       "6             NaN          26.0         10.6      6         False  ...   \n",
       "7             NaN          24.0         30.5     22         False  ...   \n",
       "9             2.5           9.0         43.6      7         False  ...   \n",
       "\n",
       "   kitchen_to_total     meter_cost           tmp  weekday month  year  \\\n",
       "1          0.272277   82920.792079  1.543882e+09        1    12  2018   \n",
       "2          0.148214   92785.714286  1.440029e+09        3     8  2015   \n",
       "6          0.386059   99195.710456  1.509581e+09        3    11  2017   \n",
       "7          0.263966  110544.692737  1.555546e+09        3     4  2019   \n",
       "9          0.106557   88524.590164  1.488067e+09        6     2  2017   \n",
       "\n",
       "   first_or_last_floor  living_to_total  round_total_area  \\\n",
       "1               Первый         0.460396              40.0   \n",
       "2               Другой         0.612500              56.0   \n",
       "6               Другой         0.284182              37.0   \n",
       "7               Другой         0.425978              72.0   \n",
       "9               Другой         0.714754              61.0   \n",
       "\n",
       "   cityCenters_nearest_km  \n",
       "1                    19.0  \n",
       "2                    14.0  \n",
       "6                    19.0  \n",
       "7                    12.0  \n",
       "9                    15.0  \n",
       "\n",
       "[5 rows x 32 columns]"
      ]
     },
     "execution_count": 405,
     "metadata": {},
     "output_type": "execute_result"
    }
   ],
   "source": [
    "data_10_locals = data[data['locality_name'].isin(top_10_local.index)]\n",
    "data_10_locals.head()"
   ]
  },
  {
   "cell_type": "code",
   "execution_count": 406,
   "metadata": {},
   "outputs": [
    {
     "data": {
      "text/html": [
       "<div>\n",
       "<style scoped>\n",
       "    .dataframe tbody tr th:only-of-type {\n",
       "        vertical-align: middle;\n",
       "    }\n",
       "\n",
       "    .dataframe tbody tr th {\n",
       "        vertical-align: top;\n",
       "    }\n",
       "\n",
       "    .dataframe thead th {\n",
       "        text-align: right;\n",
       "    }\n",
       "</style>\n",
       "<table border=\"1\" class=\"dataframe\">\n",
       "  <thead>\n",
       "    <tr style=\"text-align: right;\">\n",
       "      <th></th>\n",
       "      <th>meter_cost</th>\n",
       "    </tr>\n",
       "    <tr>\n",
       "      <th>locality_name</th>\n",
       "      <th></th>\n",
       "    </tr>\n",
       "  </thead>\n",
       "  <tbody>\n",
       "    <tr>\n",
       "      <td>Санкт-Петербург</td>\n",
       "      <td>107306.628393</td>\n",
       "    </tr>\n",
       "    <tr>\n",
       "      <td>Пушкин</td>\n",
       "      <td>101283.295060</td>\n",
       "    </tr>\n",
       "    <tr>\n",
       "      <td>деревня Кудрово</td>\n",
       "      <td>92924.998117</td>\n",
       "    </tr>\n",
       "    <tr>\n",
       "      <td>посёлок Парголово</td>\n",
       "      <td>90129.345429</td>\n",
       "    </tr>\n",
       "    <tr>\n",
       "      <td>посёлок Мурино</td>\n",
       "      <td>85887.848092</td>\n",
       "    </tr>\n",
       "    <tr>\n",
       "      <td>посёлок Шушары</td>\n",
       "      <td>78900.457976</td>\n",
       "    </tr>\n",
       "    <tr>\n",
       "      <td>Колпино</td>\n",
       "      <td>75208.696486</td>\n",
       "    </tr>\n",
       "    <tr>\n",
       "      <td>Гатчина</td>\n",
       "      <td>68641.718283</td>\n",
       "    </tr>\n",
       "    <tr>\n",
       "      <td>Всеволожск</td>\n",
       "      <td>66911.503035</td>\n",
       "    </tr>\n",
       "    <tr>\n",
       "      <td>Выборг</td>\n",
       "      <td>57977.475704</td>\n",
       "    </tr>\n",
       "  </tbody>\n",
       "</table>\n",
       "</div>"
      ],
      "text/plain": [
       "                      meter_cost\n",
       "locality_name                   \n",
       "Санкт-Петербург    107306.628393\n",
       "Пушкин             101283.295060\n",
       "деревня Кудрово     92924.998117\n",
       "посёлок Парголово   90129.345429\n",
       "посёлок Мурино      85887.848092\n",
       "посёлок Шушары      78900.457976\n",
       "Колпино             75208.696486\n",
       "Гатчина             68641.718283\n",
       "Всеволожск          66911.503035\n",
       "Выборг              57977.475704"
      ]
     },
     "execution_count": 406,
     "metadata": {},
     "output_type": "execute_result"
    }
   ],
   "source": [
    "data_10_locals.pivot_table(index = 'locality_name',  values = 'meter_cost').sort_values(by = 'meter_cost', ascending = False)"
   ]
  },
  {
   "cell_type": "markdown",
   "metadata": {},
   "source": [
    "Для наглядности построим график завивисмости цены от района."
   ]
  },
  {
   "cell_type": "code",
   "execution_count": 407,
   "metadata": {},
   "outputs": [
    {
     "data": {
      "text/plain": [
       "<matplotlib.axes._subplots.AxesSubplot at 0x7f38a3e7a650>"
      ]
     },
     "execution_count": 407,
     "metadata": {},
     "output_type": "execute_result"
    },
    {
     "data": {
      "image/png": "[encoded data removed]",
      "text/plain": [
       "<Figure size 1152x504 with 1 Axes>"
      ]
     },
     "metadata": {
      "needs_background": "light"
     },
     "output_type": "display_data"
    }
   ],
   "source": [
    "data_10_locals.pivot_table(index = 'locality_name',  values = 'meter_cost').sort_values(by = 'meter_cost', ascending = False).plot(figsize = (16,7))"
   ]
  },
  {
   "cell_type": "markdown",
   "metadata": {},
   "source": [
    "Из таблицы можем сделать вывод, что самая большая стоимость квадратного метра в Санкт - Петербурге, а самая низкая в Выборге."
   ]
  },
  {
   "cell_type": "markdown",
   "metadata": {},
   "source": [
    "*Изучите предложения квартир: для каждой квартиры есть информация о расстоянии до центра. Выделите квартиры в Санкт-Петербурге ('locality_name'). Ваша задача — выяснить, какая область входит в центр. Создайте столбец с расстоянием до центра в километрах: округлите до целых значений. После этого посчитайте среднюю цену для каждого километра. Постройте график: он должен показывать, как цена зависит от удалённости от центра. Определите границу, где график сильно меняется — это и будет центральная зона.*"
   ]
  },
  {
   "cell_type": "markdown",
   "metadata": {},
   "source": [
    "Выберем из общей таблицы только те квартиры, которые находятся в Санкт-Петербурге и создадим новый столбец, где расстояние от центра будет выражено в километрах."
   ]
  },
  {
   "cell_type": "code",
   "execution_count": 408,
   "metadata": {},
   "outputs": [],
   "source": [
    "data_spb = data[data['locality_name'] == 'Санкт-Петербург']"
   ]
  },
  {
   "cell_type": "code",
   "execution_count": 409,
   "metadata": {},
   "outputs": [
    {
     "name": "stderr",
     "output_type": "stream",
     "text": [
      "/opt/conda/lib/python3.7/site-packages/ipykernel_launcher.py:1: SettingWithCopyWarning: \n",
      "A value is trying to be set on a copy of a slice from a DataFrame.\n",
      "Try using .loc[row_indexer,col_indexer] = value instead\n",
      "\n",
      "See the caveats in the documentation: http://pandas.pydata.org/pandas-docs/stable/user_guide/indexing.html#returning-a-view-versus-a-copy\n",
      "  \"\"\"Entry point for launching an IPython kernel.\n"
     ]
    }
   ],
   "source": [
    "data_spb['cityCenters_nearest_km'] = round(data_spb['cityCenters_nearest']/1000)"
   ]
  },
  {
   "cell_type": "markdown",
   "metadata": {},
   "source": [
    "Теперь посчитаем среднее значение цены квадратного метра для каждого километра и построим график."
   ]
  },
  {
   "cell_type": "code",
   "execution_count": 410,
   "metadata": {},
   "outputs": [
    {
     "data": {
      "text/plain": [
       "<matplotlib.axes._subplots.AxesSubplot at 0x7f38a3e6ba10>"
      ]
     },
     "execution_count": 410,
     "metadata": {},
     "output_type": "execute_result"
    },
    {
     "data": {
      "image/png": "[encoded data removed]",
      "text/plain": [
       "<Figure size 432x288 with 1 Axes>"
      ]
     },
     "metadata": {
      "needs_background": "light"
     },
     "output_type": "display_data"
    }
   ],
   "source": [
    "spb_center = data_spb.pivot_table(index = 'cityCenters_nearest_km', values = 'meter_cost')\n",
    "spb_center.plot()"
   ]
  },
  {
   "cell_type": "markdown",
   "metadata": {},
   "source": [
    "Судя по графику, сначала резкое, а потом устойчивое падение наблюдается после преодоления отметки в 7 км. Поэтому, сделаю вывод, что центр Санкт-Петербурга находится в радиусе 7 км."
   ]
  },
  {
   "cell_type": "markdown",
   "metadata": {},
   "source": [
    "*Выделите сегмент квартир в центре. Проанализируйте эту территорию и изучите следующие параметры: площадь, цена, число комнат, высота потолков. Также выделите факторы, которые влияют на стоимость квартиры (число комнат, этаж, удалённость от центра, дата размещения объявления). Сделайте выводы. Отличаются ли они от общих выводов по всему городу?*"
   ]
  },
  {
   "cell_type": "markdown",
   "metadata": {},
   "source": [
    "Выделим часть датафрейма, которую мы обозначили как центр Санкт - Петербурга."
   ]
  },
  {
   "cell_type": "code",
   "execution_count": 411,
   "metadata": {},
   "outputs": [],
   "source": [
    "data_spb_center = data_spb[data_spb['cityCenters_nearest_km'] <= 7 ]"
   ]
  },
  {
   "cell_type": "markdown",
   "metadata": {},
   "source": [
    "Посмотрим на распределение признаков площадь, цена, число комнат, высота потолков для центра города и в общем для города."
   ]
  },
  {
   "cell_type": "markdown",
   "metadata": {},
   "source": [
    "Площадь"
   ]
  },
  {
   "cell_type": "code",
   "execution_count": 412,
   "metadata": {},
   "outputs": [
    {
     "data": {
      "text/plain": [
       "<matplotlib.legend.Legend at 0x7f38a4b8f8d0>"
      ]
     },
     "execution_count": 412,
     "metadata": {},
     "output_type": "execute_result"
    },
    {
     "data": {
      "image/png": "[encoded data removed]",
      "text/plain": [
       "<Figure size 864x288 with 1 Axes>"
      ]
     },
     "metadata": {
      "needs_background": "light"
     },
     "output_type": "display_data"
    }
   ],
   "source": [
    "plt.figure(figsize = (12,4))\n",
    "plt.title('Распределение площадей квартир в центре и по всему городу Санкт - Петербург')\n",
    "plt.hist(data_spb_center['round_total_area'], range=(20,140), bins = 100, alpha = 1, label = 'Центр Санкт-Петербурга')\n",
    "plt.hist(data_spb['round_total_area'], range=(20,140), alpha = 0.5, bins = 100, label = 'Весь Санкт-Петербург')\n",
    "plt.legend(prop={'size':10})"
   ]
  },
  {
   "cell_type": "markdown",
   "metadata": {},
   "source": [
    "Цена"
   ]
  },
  {
   "cell_type": "code",
   "execution_count": 413,
   "metadata": {},
   "outputs": [
    {
     "data": {
      "text/plain": [
       "<matplotlib.legend.Legend at 0x7f38a3ab9150>"
      ]
     },
     "execution_count": 413,
     "metadata": {},
     "output_type": "execute_result"
    },
    {
     "data": {
      "image/png": "[encoded data removed]",
      "text/plain": [
       "<Figure size 864x288 with 1 Axes>"
      ]
     },
     "metadata": {
      "needs_background": "light"
     },
     "output_type": "display_data"
    }
   ],
   "source": [
    "plt.figure(figsize = (12,4))\n",
    "plt.title('Распределение цены квадратного метра в центре и по всему городу Санкт - Петербург')\n",
    "plt.hist(data_spb_center['meter_cost'], range=(50000,200000), bins = 100, alpha = 1, label = 'Центр Санкт-Петербурга')\n",
    "plt.hist(data_spb['meter_cost'], range=(50000,200000), alpha = 0.5, bins = 100, label = 'Весь Санкт-Петербург')\n",
    "plt.legend(prop={'size':10})"
   ]
  },
  {
   "cell_type": "markdown",
   "metadata": {},
   "source": [
    "Число комнат"
   ]
  },
  {
   "cell_type": "code",
   "execution_count": 414,
   "metadata": {},
   "outputs": [
    {
     "data": {
      "text/plain": [
       "<matplotlib.legend.Legend at 0x7f38a386cb10>"
      ]
     },
     "execution_count": 414,
     "metadata": {},
     "output_type": "execute_result"
    },
    {
     "data": {
      "image/png": "[encoded data removed]",
      "text/plain": [
       "<Figure size 864x288 with 1 Axes>"
      ]
     },
     "metadata": {
      "needs_background": "light"
     },
     "output_type": "display_data"
    }
   ],
   "source": [
    "plt.figure(figsize = (12,4))\n",
    "plt.title('Распределение количества комнат в центре и по всему городу Санкт - Петербург')\n",
    "plt.hist(data_spb_center['rooms'], range=(1,6), bins = 10, alpha = 1, label = 'Центр Санкт-Петербурга')\n",
    "plt.hist(data_spb['rooms'], range=(1,6), alpha = 0.5, bins = 10, label = 'Весь Санкт-Петербург')\n",
    "plt.legend(prop={'size':10})"
   ]
  },
  {
   "cell_type": "markdown",
   "metadata": {},
   "source": [
    "Высота потолков"
   ]
  },
  {
   "cell_type": "code",
   "execution_count": 415,
   "metadata": {},
   "outputs": [
    {
     "name": "stderr",
     "output_type": "stream",
     "text": [
      "/opt/conda/lib/python3.7/site-packages/numpy/lib/histograms.py:839: RuntimeWarning: invalid value encountered in greater_equal\n",
      "  keep = (tmp_a >= first_edge)\n",
      "/opt/conda/lib/python3.7/site-packages/numpy/lib/histograms.py:840: RuntimeWarning: invalid value encountered in less_equal\n",
      "  keep &= (tmp_a <= last_edge)\n"
     ]
    },
    {
     "data": {
      "text/plain": [
       "<matplotlib.legend.Legend at 0x7f38a37e0bd0>"
      ]
     },
     "execution_count": 415,
     "metadata": {},
     "output_type": "execute_result"
    },
    {
     "data": {
      "image/png": "[encoded data removed]",
      "text/plain": [
       "<Figure size 864x288 with 1 Axes>"
      ]
     },
     "metadata": {
      "needs_background": "light"
     },
     "output_type": "display_data"
    }
   ],
   "source": [
    "plt.figure(figsize = (12,4))\n",
    "plt.title('Распределение высоты потолков в центре и по всему городу Санкт - Петербург')\n",
    "plt.hist(data_spb_center['ceiling_height'], range=(2.4,3.7), bins = 20, alpha = 1, label = 'Центр Санкт-Петербурга')\n",
    "plt.hist(data_spb['ceiling_height'], range=(2.4,3.7), alpha = 0.5, bins = 20, label = 'Весь Санкт-Петербург')\n",
    "plt.legend(prop={'size':10})"
   ]
  },
  {
   "cell_type": "code",
   "execution_count": 416,
   "metadata": {},
   "outputs": [
    {
     "data": {
      "text/html": [
       "<div>\n",
       "<style scoped>\n",
       "    .dataframe tbody tr th:only-of-type {\n",
       "        vertical-align: middle;\n",
       "    }\n",
       "\n",
       "    .dataframe tbody tr th {\n",
       "        vertical-align: top;\n",
       "    }\n",
       "\n",
       "    .dataframe thead th {\n",
       "        text-align: right;\n",
       "    }\n",
       "</style>\n",
       "<table border=\"1\" class=\"dataframe\">\n",
       "  <thead>\n",
       "    <tr style=\"text-align: right;\">\n",
       "      <th></th>\n",
       "      <th>total_area</th>\n",
       "      <th>last_price</th>\n",
       "      <th>rooms</th>\n",
       "      <th>ceiling_height</th>\n",
       "    </tr>\n",
       "  </thead>\n",
       "  <tbody>\n",
       "    <tr>\n",
       "      <td>count</td>\n",
       "      <td>2496.000000</td>\n",
       "      <td>2.496000e+03</td>\n",
       "      <td>2496.000000</td>\n",
       "      <td>1568.000000</td>\n",
       "    </tr>\n",
       "    <tr>\n",
       "      <td>mean</td>\n",
       "      <td>70.689808</td>\n",
       "      <td>8.305398e+06</td>\n",
       "      <td>2.467949</td>\n",
       "      <td>2.992532</td>\n",
       "    </tr>\n",
       "    <tr>\n",
       "      <td>std</td>\n",
       "      <td>25.643905</td>\n",
       "      <td>3.075664e+06</td>\n",
       "      <td>1.078750</td>\n",
       "      <td>0.278437</td>\n",
       "    </tr>\n",
       "    <tr>\n",
       "      <td>min</td>\n",
       "      <td>12.000000</td>\n",
       "      <td>1.600000e+06</td>\n",
       "      <td>0.000000</td>\n",
       "      <td>2.400000</td>\n",
       "    </tr>\n",
       "    <tr>\n",
       "      <td>25%</td>\n",
       "      <td>50.000000</td>\n",
       "      <td>6.000000e+06</td>\n",
       "      <td>2.000000</td>\n",
       "      <td>2.777500</td>\n",
       "    </tr>\n",
       "    <tr>\n",
       "      <td>50%</td>\n",
       "      <td>68.075000</td>\n",
       "      <td>7.800000e+06</td>\n",
       "      <td>2.000000</td>\n",
       "      <td>3.000000</td>\n",
       "    </tr>\n",
       "    <tr>\n",
       "      <td>75%</td>\n",
       "      <td>87.325000</td>\n",
       "      <td>1.011000e+07</td>\n",
       "      <td>3.000000</td>\n",
       "      <td>3.200000</td>\n",
       "    </tr>\n",
       "    <tr>\n",
       "      <td>max</td>\n",
       "      <td>146.100000</td>\n",
       "      <td>1.691307e+07</td>\n",
       "      <td>7.000000</td>\n",
       "      <td>3.600000</td>\n",
       "    </tr>\n",
       "  </tbody>\n",
       "</table>\n",
       "</div>"
      ],
      "text/plain": [
       "        total_area    last_price        rooms  ceiling_height\n",
       "count  2496.000000  2.496000e+03  2496.000000     1568.000000\n",
       "mean     70.689808  8.305398e+06     2.467949        2.992532\n",
       "std      25.643905  3.075664e+06     1.078750        0.278437\n",
       "min      12.000000  1.600000e+06     0.000000        2.400000\n",
       "25%      50.000000  6.000000e+06     2.000000        2.777500\n",
       "50%      68.075000  7.800000e+06     2.000000        3.000000\n",
       "75%      87.325000  1.011000e+07     3.000000        3.200000\n",
       "max     146.100000  1.691307e+07     7.000000        3.600000"
      ]
     },
     "execution_count": 416,
     "metadata": {},
     "output_type": "execute_result"
    }
   ],
   "source": [
    "data_spb_center[['total_area', 'last_price', 'rooms', 'ceiling_height']].describe()"
   ]
  },
  {
   "cell_type": "code",
   "execution_count": 417,
   "metadata": {},
   "outputs": [
    {
     "data": {
      "text/html": [
       "<div>\n",
       "<style scoped>\n",
       "    .dataframe tbody tr th:only-of-type {\n",
       "        vertical-align: middle;\n",
       "    }\n",
       "\n",
       "    .dataframe tbody tr th {\n",
       "        vertical-align: top;\n",
       "    }\n",
       "\n",
       "    .dataframe thead th {\n",
       "        text-align: right;\n",
       "    }\n",
       "</style>\n",
       "<table border=\"1\" class=\"dataframe\">\n",
       "  <thead>\n",
       "    <tr style=\"text-align: right;\">\n",
       "      <th></th>\n",
       "      <th>total_area</th>\n",
       "      <th>last_price</th>\n",
       "      <th>rooms</th>\n",
       "      <th>ceiling_height</th>\n",
       "    </tr>\n",
       "  </thead>\n",
       "  <tbody>\n",
       "    <tr>\n",
       "      <td>count</td>\n",
       "      <td>13850.000000</td>\n",
       "      <td>1.385000e+04</td>\n",
       "      <td>13850.000000</td>\n",
       "      <td>8787.000000</td>\n",
       "    </tr>\n",
       "    <tr>\n",
       "      <td>mean</td>\n",
       "      <td>56.188820</td>\n",
       "      <td>5.989449e+06</td>\n",
       "      <td>2.012780</td>\n",
       "      <td>2.713006</td>\n",
       "    </tr>\n",
       "    <tr>\n",
       "      <td>std</td>\n",
       "      <td>21.342764</td>\n",
       "      <td>2.688015e+06</td>\n",
       "      <td>0.956892</td>\n",
       "      <td>0.229291</td>\n",
       "    </tr>\n",
       "    <tr>\n",
       "      <td>min</td>\n",
       "      <td>12.000000</td>\n",
       "      <td>1.190000e+06</td>\n",
       "      <td>0.000000</td>\n",
       "      <td>1.750000</td>\n",
       "    </tr>\n",
       "    <tr>\n",
       "      <td>25%</td>\n",
       "      <td>40.200000</td>\n",
       "      <td>4.100000e+06</td>\n",
       "      <td>1.000000</td>\n",
       "      <td>2.530000</td>\n",
       "    </tr>\n",
       "    <tr>\n",
       "      <td>50%</td>\n",
       "      <td>51.100000</td>\n",
       "      <td>5.200000e+06</td>\n",
       "      <td>2.000000</td>\n",
       "      <td>2.650000</td>\n",
       "    </tr>\n",
       "    <tr>\n",
       "      <td>75%</td>\n",
       "      <td>67.500000</td>\n",
       "      <td>7.100000e+06</td>\n",
       "      <td>3.000000</td>\n",
       "      <td>2.800000</td>\n",
       "    </tr>\n",
       "    <tr>\n",
       "      <td>max</td>\n",
       "      <td>146.100000</td>\n",
       "      <td>1.691307e+07</td>\n",
       "      <td>7.000000</td>\n",
       "      <td>3.600000</td>\n",
       "    </tr>\n",
       "  </tbody>\n",
       "</table>\n",
       "</div>"
      ],
      "text/plain": [
       "         total_area    last_price         rooms  ceiling_height\n",
       "count  13850.000000  1.385000e+04  13850.000000     8787.000000\n",
       "mean      56.188820  5.989449e+06      2.012780        2.713006\n",
       "std       21.342764  2.688015e+06      0.956892        0.229291\n",
       "min       12.000000  1.190000e+06      0.000000        1.750000\n",
       "25%       40.200000  4.100000e+06      1.000000        2.530000\n",
       "50%       51.100000  5.200000e+06      2.000000        2.650000\n",
       "75%       67.500000  7.100000e+06      3.000000        2.800000\n",
       "max      146.100000  1.691307e+07      7.000000        3.600000"
      ]
     },
     "execution_count": 417,
     "metadata": {},
     "output_type": "execute_result"
    }
   ],
   "source": [
    "data_spb[['total_area', 'last_price', 'rooms', 'ceiling_height']].describe()"
   ]
  },
  {
   "cell_type": "markdown",
   "metadata": {},
   "source": [
    "Площадь квартир в центре явно больше, чем в общем по городу. Средняя и медианная площадь квартир почти на половину больше в центре. "
   ]
  },
  {
   "cell_type": "markdown",
   "metadata": {},
   "source": [
    "Что касается цены, то очевидно, что концентрация домов с высокой ценой больше в центре. Средняя цена больше почти на 80 % в центре, медианная - почти на 70%. Квартира с максимальной стоимостью находится в центре."
   ]
  },
  {
   "cell_type": "markdown",
   "metadata": {},
   "source": [
    "По количеству комнат можно увидеть, что различия не такие существенные, как у двух предыдущих признаков, но они есть. Среднее значение в центре близко к 3, в общем в городе - к 2. Медианное - 3 и 2 соответсвенно. Можно сделать вывод, что в центре строят более большие квартиры, чем в общем по городу. Квартира с максимальным количеством комнат тоже находится в центре."
   ]
  },
  {
   "cell_type": "markdown",
   "metadata": {},
   "source": [
    "Что касается высоты потолков, то и здесь все предсказуемо, в центре они приблизительно 3 метра, в то время как в городе примерно 2.7 метра."
   ]
  },
  {
   "cell_type": "markdown",
   "metadata": {},
   "source": [
    "Можно сделать вывод, что в центре строят очень дорогое и комфортное жилье, которое довольно сильно отличается от общегородских квартир по параметрам и цене."
   ]
  },
  {
   "cell_type": "markdown",
   "metadata": {},
   "source": [
    "Для того чтобы посмотреть, какие признаки как влияют на стоимость квартир в центре, используем уже знакомый способ - посчитаем коэффициент корреляции."
   ]
  },
  {
   "cell_type": "code",
   "execution_count": 418,
   "metadata": {},
   "outputs": [
    {
     "name": "stdout",
     "output_type": "stream",
     "text": [
      "Коэффициент корреляции между стоимостью квартиры и количеством комнат - 0.45896341578936445\n",
      "Коэффициент корреляции между стоимостью квартиры и этажом - 0.10473545307579116\n",
      "Коэффициент корреляции между стоимостью квартиры и удаленностью от центра - -0.14635162090181583\n",
      "Коэффициент корреляции между стоимостью квартиры и датой размещения объявления - -0.0343132455883045\n"
     ]
    }
   ],
   "source": [
    "print('Коэффициент корреляции между стоимостью квартиры и количеством комнат -', data_spb_center['last_price'].corr(data_spb_center['rooms']))\n",
    "print('Коэффициент корреляции между стоимостью квартиры и этажом -', data_spb_center['last_price'].corr(data_spb_center['floor']))\n",
    "print('Коэффициент корреляции между стоимостью квартиры и удаленностью от центра -', data_spb_center['last_price'].corr(data_spb_center['cityCenters_nearest']))\n",
    "print('Коэффициент корреляции между стоимостью квартиры и датой размещения объявления -', data_spb_center['last_price'].corr(data_spb_center['tmp']))"
   ]
  },
  {
   "cell_type": "markdown",
   "metadata": {},
   "source": [
    "Из получившихся результатов можно сделать вывод, что наибольшее влияние из всех рассматриваемых признаков на цену квартиры оказывает количество комнат, но нельзя сказать, что это влияние очень большое."
   ]
  },
  {
   "cell_type": "markdown",
   "metadata": {},
   "source": [
    "Также построим графики зависимости цены от этих признаков для наглядности полученных результатов коэффициентов корреляции."
   ]
  },
  {
   "cell_type": "markdown",
   "metadata": {},
   "source": [
    "*Количество комнат*"
   ]
  },
  {
   "cell_type": "code",
   "execution_count": 419,
   "metadata": {},
   "outputs": [
    {
     "data": {
      "text/plain": [
       "<matplotlib.axes._subplots.AxesSubplot at 0x7f38a36b3a10>"
      ]
     },
     "execution_count": 419,
     "metadata": {},
     "output_type": "execute_result"
    },
    {
     "data": {
      "image/png": "[encoded data removed]",
      "text/plain": [
       "<Figure size 432x288 with 1 Axes>"
      ]
     },
     "metadata": {
      "needs_background": "light"
     },
     "output_type": "display_data"
    }
   ],
   "source": [
    "data_spb_center_rooms = data_spb_center.pivot_table(index = 'rooms', values = 'last_price')\n",
    "data_spb_center_rooms.plot()"
   ]
  },
  {
   "cell_type": "markdown",
   "metadata": {},
   "source": [
    "Довольно четко видно, что чем больше комнат, тем выше цена квартиры."
   ]
  },
  {
   "cell_type": "markdown",
   "metadata": {},
   "source": [
    "*Этаж*"
   ]
  },
  {
   "cell_type": "code",
   "execution_count": 420,
   "metadata": {},
   "outputs": [
    {
     "data": {
      "text/plain": [
       "<matplotlib.axes._subplots.AxesSubplot at 0x7f38a3680e90>"
      ]
     },
     "execution_count": 420,
     "metadata": {},
     "output_type": "execute_result"
    },
    {
     "data": {
      "image/png": "[encoded data removed]",
      "text/plain": [
       "<Figure size 432x288 with 1 Axes>"
      ]
     },
     "metadata": {
      "needs_background": "light"
     },
     "output_type": "display_data"
    }
   ],
   "source": [
    "data_spb_center_floor = data_spb_center.pivot_table(index = 'floor', values = 'last_price')\n",
    "data_spb_center_floor.plot()"
   ]
  },
  {
   "cell_type": "markdown",
   "metadata": {},
   "source": [
    "Видим провалы на 14 и 21 этажах, видимо из - за того, что во многих домах эти этажи являются последними. В целом, видна общая тенденция, что чем выше этаж, тем больше цена квартиры."
   ]
  },
  {
   "cell_type": "markdown",
   "metadata": {},
   "source": [
    "*Удаленность от центра*"
   ]
  },
  {
   "cell_type": "code",
   "execution_count": 421,
   "metadata": {},
   "outputs": [
    {
     "data": {
      "text/plain": [
       "<matplotlib.axes._subplots.AxesSubplot at 0x7f38a35ffb50>"
      ]
     },
     "execution_count": 421,
     "metadata": {},
     "output_type": "execute_result"
    },
    {
     "data": {
      "image/png": "[encoded data removed]",
      "text/plain": [
       "<Figure size 432x288 with 1 Axes>"
      ]
     },
     "metadata": {
      "needs_background": "light"
     },
     "output_type": "display_data"
    }
   ],
   "source": [
    "data_spb_center_cityCenters = data_spb_center.pivot_table(index = 'cityCenters_nearest_km', values = 'last_price')\n",
    "data_spb_center_cityCenters.plot()"
   ]
  },
  {
   "cell_type": "markdown",
   "metadata": {},
   "source": [
    "На графике в принципе прослеживает не совсем линейная, но зависимость к тому, что чем дальше от центра, тем дешевле квартира."
   ]
  },
  {
   "cell_type": "markdown",
   "metadata": {},
   "source": [
    "*Дата размещения объявления*"
   ]
  },
  {
   "cell_type": "code",
   "execution_count": 422,
   "metadata": {},
   "outputs": [
    {
     "name": "stderr",
     "output_type": "stream",
     "text": [
      "/opt/conda/lib/python3.7/site-packages/ipykernel_launcher.py:1: SettingWithCopyWarning: \n",
      "A value is trying to be set on a copy of a slice from a DataFrame.\n",
      "Try using .loc[row_indexer,col_indexer] = value instead\n",
      "\n",
      "See the caveats in the documentation: http://pandas.pydata.org/pandas-docs/stable/user_guide/indexing.html#returning-a-view-versus-a-copy\n",
      "  \"\"\"Entry point for launching an IPython kernel.\n"
     ]
    },
    {
     "data": {
      "text/plain": [
       "<matplotlib.axes._subplots.AxesSubplot at 0x7f38a3586f10>"
      ]
     },
     "execution_count": 422,
     "metadata": {},
     "output_type": "execute_result"
    },
    {
     "data": {
      "image/png": "[encoded data removed]",
      "text/plain": [
       "<Figure size 432x288 with 1 Axes>"
      ]
     },
     "metadata": {
      "needs_background": "light"
     },
     "output_type": "display_data"
    }
   ],
   "source": [
    "data_spb_center['tmp_rounded'] = round(data_spb_center['tmp']/5000000)\n",
    "data_spb_center_tmp = data_spb_center.pivot_table(index = 'tmp_rounded', values = 'meter_cost')\n",
    "data_spb_center_tmp.plot()"
   ]
  },
  {
   "cell_type": "markdown",
   "metadata": {},
   "source": [
    "На графике можно увидеть, что чем раньше выставлялось объявление, тем за меньшую цену покупалась квартира. Но на данном графике присутствует много всплесков, поэтому тяжело говорить о сильной зависимости данных двух признаков."
   ]
  },
  {
   "cell_type": "markdown",
   "metadata": {},
   "source": [
    "### Вывод"
   ]
  },
  {
   "cell_type": "markdown",
   "metadata": {},
   "source": [
    "В данном шаге мы получили много выводов исходя из имеющихся данных:\n",
    "1. Выяснили, сколько примерно занимает продажа квартиры - 95 дней\n",
    "2. Квартиры, на первом и последнем этажах стоят дешевле, чем другие\n",
    "3. Один из наиболее сильно влияющих на цену квартиры факторов является цена за квадратный метр(довольно логично)\n",
    "4. Самая высокая стоимость квадратного метра в Санкт-Петербурге, самая низкая - в Выборге(среди топ-10 регионов по количеству объявлений)\n",
    "5. Определили, какой радиус имеет центр Санкт-Петербурга - 7 км."
   ]
  },
  {
   "cell_type": "markdown",
   "metadata": {},
   "source": [
    "### Шаг 5. Общий вывод"
   ]
  },
  {
   "cell_type": "markdown",
   "metadata": {},
   "source": [
    "В ходе работы над данными Яндекс.Недвижимости был исследован датафрейм с данными об объявлениях о продажах недвижимости. Произведена работа с пропусками, выбивающимися значениями, в результате чего размер датафрейма уменьшился примерно на 10%. Созданы новые признаки на основе первоначальных признаков. На основании этих признаков в дальнейшем были сделаны выводы для различных гипотез:\n",
    "1. Мы выяснили медианное время продажи квартиры - 95 дней.\n",
    "2. Из имеющихся признаков больше всего на стоимость квартиры влияет стоимость квадратного метра, площадь, количество комнат(что довольно логично).\n",
    "3. Больше всего объявлений было для города Санкт - Петербург.\n",
    "4. На основании цен за квадратный метр было выдвинуто предположение, что центр Санкт-Петербурга составляет область радиусом 7 км.\n",
    "5. В центре Санкт-Петербурга квартиры более комфортные и дорогие, чем в общем по городу(в среднем большее количество комнат и высота потолков)"
   ]
  }
 ],
 "metadata": {
  "kernelspec": {
   "display_name": "Python 3",
   "language": "python",
   "name": "python3"
  },
  "language_info": {
   "codemirror_mode": {
    "name": "ipython",
    "version": 3
   },
   "file_extension": ".py",
   "mimetype": "text/x-python",
   "name": "python",
   "nbconvert_exporter": "python",
   "pygments_lexer": "ipython3",
   "version": "3.7.4"
  }
 },
 "nbformat": 4,
 "nbformat_minor": 2
}
